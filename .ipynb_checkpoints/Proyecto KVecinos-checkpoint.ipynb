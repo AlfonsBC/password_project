{
 "cells": [
  {
   "cell_type": "markdown",
   "metadata": {},
   "source": [
    "# Proyecto"
   ]
  },
  {
   "cell_type": "markdown",
   "metadata": {},
   "source": [
    "Objetivo: Analizar la seguridad de contraseñas con base en la lista de contraseñas y su frecuencia de uso"
   ]
  },
  {
   "cell_type": "code",
   "execution_count": 1,
   "metadata": {
    "ExecuteTime": {
     "end_time": "2021-01-24T17:35:49.747545Z",
     "start_time": "2021-01-24T17:35:48.582401Z"
    }
   },
   "outputs": [],
   "source": [
    "import pandas as pd\n",
    "import matplotlib.pyplot as plt\n",
    "import numpy as np\n",
    "import seaborn as sns\n",
    "from numpy import random\n",
    "from torch.multiprocessing import Process, Queue, Lock\n",
    "import multiprocessing as mp\n",
    "import random\n"
   ]
  },
  {
   "cell_type": "code",
   "execution_count": 2,
   "metadata": {
    "ExecuteTime": {
     "end_time": "2021-01-24T17:35:52.386996Z",
     "start_time": "2021-01-24T17:35:49.755990Z"
    }
   },
   "outputs": [
    {
     "data": {
      "text/html": [
       "<div>\n",
       "<style scoped>\n",
       "    .dataframe tbody tr th:only-of-type {\n",
       "        vertical-align: middle;\n",
       "    }\n",
       "\n",
       "    .dataframe tbody tr th {\n",
       "        vertical-align: top;\n",
       "    }\n",
       "\n",
       "    .dataframe thead th {\n",
       "        text-align: right;\n",
       "    }\n",
       "</style>\n",
       "<table border=\"1\" class=\"dataframe\">\n",
       "  <thead>\n",
       "    <tr style=\"text-align: right;\">\n",
       "      <th></th>\n",
       "      <th>password</th>\n",
       "      <th>hash</th>\n",
       "      <th>count</th>\n",
       "    </tr>\n",
       "  </thead>\n",
       "  <tbody>\n",
       "    <tr>\n",
       "      <th>0</th>\n",
       "      <td>1980290</td>\n",
       "      <td>083040BB6B1D95F2B8AC447B50D21DAB38DAFF16</td>\n",
       "      <td>13</td>\n",
       "    </tr>\n",
       "    <tr>\n",
       "      <th>1</th>\n",
       "      <td>tornadof</td>\n",
       "      <td>0A7709AD9837766F20156FF016ABF66F8036ABC1</td>\n",
       "      <td>13</td>\n",
       "    </tr>\n",
       "    <tr>\n",
       "      <th>2</th>\n",
       "      <td>vova87654</td>\n",
       "      <td>66221A7691CDC27D9D31071A0CFA0712C100C7D7</td>\n",
       "      <td>13</td>\n",
       "    </tr>\n",
       "    <tr>\n",
       "      <th>3</th>\n",
       "      <td>XpKvShrO</td>\n",
       "      <td>4CB7086C94AE4D82E519FF8F98D0DA1DA38DBE53</td>\n",
       "      <td>13</td>\n",
       "    </tr>\n",
       "    <tr>\n",
       "      <th>4</th>\n",
       "      <td>tvjgtl</td>\n",
       "      <td>9E1FD26A17D2EBE7C9FD4181EF49424C7091D484</td>\n",
       "      <td>13</td>\n",
       "    </tr>\n",
       "    <tr>\n",
       "      <th>...</th>\n",
       "      <td>...</td>\n",
       "      <td>...</td>\n",
       "      <td>...</td>\n",
       "    </tr>\n",
       "    <tr>\n",
       "      <th>6840</th>\n",
       "      <td>491144</td>\n",
       "      <td>4511C39CDA1EFE76964C79783B52053BA7CD09DD</td>\n",
       "      <td>69</td>\n",
       "    </tr>\n",
       "    <tr>\n",
       "      <th>6841</th>\n",
       "      <td>xeyfhm3477362341</td>\n",
       "      <td>E2EC663D721E9F22F5CF39D5AA27A89CE00172D0</td>\n",
       "      <td>69</td>\n",
       "    </tr>\n",
       "    <tr>\n",
       "      <th>6842</th>\n",
       "      <td>irontree4</td>\n",
       "      <td>350AA827594B47AF3BCB9256E2388EFB958C4529</td>\n",
       "      <td>69</td>\n",
       "    </tr>\n",
       "    <tr>\n",
       "      <th>6843</th>\n",
       "      <td>wh2t3v3r</td>\n",
       "      <td>221C76F1C2AD5883003AF5EB7A495A41580B87C5</td>\n",
       "      <td>69</td>\n",
       "    </tr>\n",
       "    <tr>\n",
       "      <th>6844</th>\n",
       "      <td>santomas</td>\n",
       "      <td>510B26B12A43531A14333545C6D802E47FA411AC</td>\n",
       "      <td>69</td>\n",
       "    </tr>\n",
       "  </tbody>\n",
       "</table>\n",
       "<p>677568 rows × 3 columns</p>\n",
       "</div>"
      ],
      "text/plain": [
       "              password                                      hash  count\n",
       "0              1980290  083040BB6B1D95F2B8AC447B50D21DAB38DAFF16     13\n",
       "1             tornadof  0A7709AD9837766F20156FF016ABF66F8036ABC1     13\n",
       "2            vova87654  66221A7691CDC27D9D31071A0CFA0712C100C7D7     13\n",
       "3             XpKvShrO  4CB7086C94AE4D82E519FF8F98D0DA1DA38DBE53     13\n",
       "4               tvjgtl  9E1FD26A17D2EBE7C9FD4181EF49424C7091D484     13\n",
       "...                ...                                       ...    ...\n",
       "6840            491144  4511C39CDA1EFE76964C79783B52053BA7CD09DD     69\n",
       "6841  xeyfhm3477362341  E2EC663D721E9F22F5CF39D5AA27A89CE00172D0     69\n",
       "6842         irontree4  350AA827594B47AF3BCB9256E2388EFB958C4529     69\n",
       "6843          wh2t3v3r  221C76F1C2AD5883003AF5EB7A495A41580B87C5     69\n",
       "6844          santomas  510B26B12A43531A14333545C6D802E47FA411AC     69\n",
       "\n",
       "[677568 rows x 3 columns]"
      ]
     },
     "execution_count": 2,
     "metadata": {},
     "output_type": "execute_result"
    }
   ],
   "source": [
    "data =pd.read_csv('passwords/pass (1).csv')\n",
    "for i in range(2,100):\n",
    "    filename = pd.read_csv('passwords/pass ('+str(i)+').csv')\n",
    "    data = pd.concat([data,filename],axis=0)\n",
    "data"
   ]
  },
  {
   "cell_type": "code",
   "execution_count": 3,
   "metadata": {
    "ExecuteTime": {
     "end_time": "2021-01-24T17:35:53.121166Z",
     "start_time": "2021-01-24T17:35:53.054321Z"
    }
   },
   "outputs": [
    {
     "data": {
      "text/plain": [
       "password    2\n",
       "hash        0\n",
       "count       0\n",
       "dtype: int64"
      ]
     },
     "execution_count": 3,
     "metadata": {},
     "output_type": "execute_result"
    }
   ],
   "source": [
    "data.isnull().sum()"
   ]
  },
  {
   "cell_type": "code",
   "execution_count": 4,
   "metadata": {
    "ExecuteTime": {
     "end_time": "2021-01-24T17:35:53.476139Z",
     "start_time": "2021-01-24T17:35:53.336594Z"
    }
   },
   "outputs": [
    {
     "data": {
      "text/plain": [
       "password    0\n",
       "hash        0\n",
       "count       0\n",
       "dtype: int64"
      ]
     },
     "execution_count": 4,
     "metadata": {},
     "output_type": "execute_result"
    }
   ],
   "source": [
    "data = data.dropna(axis=0)\n",
    "data.isnull().sum()"
   ]
  },
  {
   "cell_type": "code",
   "execution_count": 5,
   "metadata": {
    "ExecuteTime": {
     "end_time": "2021-01-24T17:35:55.008985Z",
     "start_time": "2021-01-24T17:35:53.553218Z"
    }
   },
   "outputs": [
    {
     "name": "stdout",
     "output_type": "stream",
     "text": [
      "(677566, 2)\n"
     ]
    },
    {
     "data": {
      "text/html": [
       "<div>\n",
       "<style scoped>\n",
       "    .dataframe tbody tr th:only-of-type {\n",
       "        vertical-align: middle;\n",
       "    }\n",
       "\n",
       "    .dataframe tbody tr th {\n",
       "        vertical-align: top;\n",
       "    }\n",
       "\n",
       "    .dataframe thead th {\n",
       "        text-align: right;\n",
       "    }\n",
       "</style>\n",
       "<table border=\"1\" class=\"dataframe\">\n",
       "  <thead>\n",
       "    <tr style=\"text-align: right;\">\n",
       "      <th></th>\n",
       "      <th>password</th>\n",
       "      <th>count</th>\n",
       "    </tr>\n",
       "  </thead>\n",
       "  <tbody>\n",
       "    <tr>\n",
       "      <th>0</th>\n",
       "      <td>!!!!!</td>\n",
       "      <td>401</td>\n",
       "    </tr>\n",
       "    <tr>\n",
       "      <th>1</th>\n",
       "      <td>!!!!!!</td>\n",
       "      <td>2304</td>\n",
       "    </tr>\n",
       "    <tr>\n",
       "      <th>2</th>\n",
       "      <td>!!!!!!!</td>\n",
       "      <td>386</td>\n",
       "    </tr>\n",
       "    <tr>\n",
       "      <th>3</th>\n",
       "      <td>!12345</td>\n",
       "      <td>312</td>\n",
       "    </tr>\n",
       "    <tr>\n",
       "      <th>4</th>\n",
       "      <td>!23456</td>\n",
       "      <td>347</td>\n",
       "    </tr>\n",
       "  </tbody>\n",
       "</table>\n",
       "</div>"
      ],
      "text/plain": [
       "  password  count\n",
       "0    !!!!!    401\n",
       "1   !!!!!!   2304\n",
       "2  !!!!!!!    386\n",
       "3   !12345    312\n",
       "4   !23456    347"
      ]
     },
     "execution_count": 5,
     "metadata": {},
     "output_type": "execute_result"
    }
   ],
   "source": [
    "data = data.groupby(data['password']).agg({'count':sum}).reset_index()\n",
    "print(data.shape)\n",
    "data.head()"
   ]
  },
  {
   "cell_type": "code",
   "execution_count": 6,
   "metadata": {
    "ExecuteTime": {
     "end_time": "2021-01-24T17:35:55.174140Z",
     "start_time": "2021-01-24T17:35:55.046653Z"
    }
   },
   "outputs": [
    {
     "data": {
      "text/html": [
       "<div>\n",
       "<style scoped>\n",
       "    .dataframe tbody tr th:only-of-type {\n",
       "        vertical-align: middle;\n",
       "    }\n",
       "\n",
       "    .dataframe tbody tr th {\n",
       "        vertical-align: top;\n",
       "    }\n",
       "\n",
       "    .dataframe thead th {\n",
       "        text-align: right;\n",
       "    }\n",
       "</style>\n",
       "<table border=\"1\" class=\"dataframe\">\n",
       "  <thead>\n",
       "    <tr style=\"text-align: right;\">\n",
       "      <th></th>\n",
       "      <th>password</th>\n",
       "      <th>count</th>\n",
       "    </tr>\n",
       "  </thead>\n",
       "  <tbody>\n",
       "    <tr>\n",
       "      <th>43879</th>\n",
       "      <td>123456789</td>\n",
       "      <td>7016669</td>\n",
       "    </tr>\n",
       "    <tr>\n",
       "      <th>506981</th>\n",
       "      <td>qwerty</td>\n",
       "      <td>3599486</td>\n",
       "    </tr>\n",
       "    <tr>\n",
       "      <th>35227</th>\n",
       "      <td>111111</td>\n",
       "      <td>2900049</td>\n",
       "    </tr>\n",
       "    <tr>\n",
       "      <th>43856</th>\n",
       "      <td>12345678</td>\n",
       "      <td>2680521</td>\n",
       "    </tr>\n",
       "    <tr>\n",
       "      <th>223879</th>\n",
       "      <td>abc123</td>\n",
       "      <td>2670319</td>\n",
       "    </tr>\n",
       "  </tbody>\n",
       "</table>\n",
       "</div>"
      ],
      "text/plain": [
       "         password    count\n",
       "43879   123456789  7016669\n",
       "506981     qwerty  3599486\n",
       "35227      111111  2900049\n",
       "43856    12345678  2680521\n",
       "223879     abc123  2670319"
      ]
     },
     "execution_count": 6,
     "metadata": {},
     "output_type": "execute_result"
    }
   ],
   "source": [
    "data = data.sort_values(by='count',ascending=False)\n",
    "data.head()"
   ]
  },
  {
   "cell_type": "markdown",
   "metadata": {},
   "source": [
    "Ahora vamos a establecer una métrica para pasar de la cuenta de las contraseñas a una métrica de su seguridad, para esto se decide hacer un escalamiento estándar al inverso de la cuenta de contraseñas. Esto para darle una mayor scoring a aquellos que tienen menos apariciones."
   ]
  },
  {
   "cell_type": "code",
   "execution_count": 7,
   "metadata": {
    "ExecuteTime": {
     "end_time": "2021-01-24T17:35:55.206604Z",
     "start_time": "2021-01-24T17:35:55.202632Z"
    }
   },
   "outputs": [
    {
     "data": {
      "text/plain": [
       "array([7016669, 3599486, 2900049, ...,      12,      12,      12])"
      ]
     },
     "execution_count": 7,
     "metadata": {},
     "output_type": "execute_result"
    }
   ],
   "source": [
    "pass_count = data.iloc[:,1].values\n",
    "pass_count"
   ]
  },
  {
   "cell_type": "code",
   "execution_count": 8,
   "metadata": {
    "ExecuteTime": {
     "end_time": "2021-01-24T17:35:55.281041Z",
     "start_time": "2021-01-24T17:35:55.237027Z"
    }
   },
   "outputs": [
    {
     "data": {
      "text/plain": [
       "['123456789', 'qwerty', '111111', '12345678', 'abc123']"
      ]
     },
     "execution_count": 8,
     "metadata": {},
     "output_type": "execute_result"
    }
   ],
   "source": [
    "from copy import copy\n",
    "passes = copy(data.iloc[:,0].values.tolist())\n",
    "passes[:5]"
   ]
  },
  {
   "cell_type": "code",
   "execution_count": 9,
   "metadata": {
    "ExecuteTime": {
     "end_time": "2021-01-24T17:35:55.466092Z",
     "start_time": "2021-01-24T17:35:55.464225Z"
    }
   },
   "outputs": [],
   "source": [
    "data = None  #Liberamos memoria"
   ]
  },
  {
   "cell_type": "markdown",
   "metadata": {},
   "source": [
    "Dividimos el conjunto de la seguridad de las contraseñas uniformemente en `n` intervalos"
   ]
  },
  {
   "cell_type": "code",
   "execution_count": 10,
   "metadata": {
    "ExecuteTime": {
     "end_time": "2021-01-24T17:35:55.731258Z",
     "start_time": "2021-01-24T17:35:55.593757Z"
    }
   },
   "outputs": [
    {
     "data": {
      "text/plain": [
       "array([ 0,  0,  0, ..., 10, 10, 10])"
      ]
     },
     "execution_count": 10,
     "metadata": {},
     "output_type": "execute_result"
    }
   ],
   "source": [
    "n = 10\n",
    "\n",
    "\n",
    "intervalo = pass_count.shape[0]//n\n",
    "\n",
    "pass_security = np.zeros(len(passes))\n",
    "intervalo_idx = 0\n",
    "for i in range(n):\n",
    "    for j in range(intervalo_idx,intervalo_idx+intervalo):\n",
    "        pass_security[j] = i\n",
    "        intervalo_idx += 1\n",
    "\n",
    "for j in range(intervalo_idx,len(pass_count)):\n",
    "    pass_security[j] = n\n",
    "    \n",
    "pass_security = pass_security.astype(int)   \n",
    "pass_security"
   ]
  },
  {
   "cell_type": "markdown",
   "metadata": {},
   "source": [
    "A continuación, hacemos una identificación de cada carácter que aparece en las contraseñas, esto para después poder identificar cada contraseña como una codificación de los carácteres que la componen"
   ]
  },
  {
   "cell_type": "code",
   "execution_count": 11,
   "metadata": {
    "ExecuteTime": {
     "end_time": "2021-01-24T17:35:57.215574Z",
     "start_time": "2021-01-24T17:35:56.705708Z"
    }
   },
   "outputs": [],
   "source": [
    "dict_letras = {}\n",
    "\n",
    "idx = 0\n",
    "for i in range(len(passes)):\n",
    "    #passes[i] = list(passes[i])\n",
    "    for letter in passes[i]:\n",
    "        if letter not in dict_letras.keys():\n",
    "            dict_letras[letter] = idx\n",
    "            idx += 1"
   ]
  },
  {
   "cell_type": "code",
   "execution_count": 12,
   "metadata": {
    "ExecuteTime": {
     "end_time": "2021-01-24T17:35:57.335171Z",
     "start_time": "2021-01-24T17:35:57.332103Z"
    }
   },
   "outputs": [
    {
     "data": {
      "text/plain": [
       "dict_items([('1', 0), ('2', 1), ('3', 2), ('4', 3), ('5', 4), ('6', 5), ('7', 6), ('8', 7), ('9', 8), ('q', 9), ('w', 10), ('e', 11), ('r', 12), ('t', 13), ('y', 14), ('a', 15), ('b', 16), ('c', 17), ('0', 18), ('i', 19), ('l', 20), ('o', 21), ('v', 22), ('u', 23), ('p', 24), ('m', 25), ('n', 26), ('k', 27), ('d', 28), ('g', 29), ('z', 30), ('s', 31), ('x', 32), ('f', 33), ('h', 34), ('j', 35), ('S', 36), ('V', 37), ('Q', 38), ('B', 39), ('L', 40), ('P', 41), ('J', 42), ('E', 43), ('!', 44), ('A', 45), ('W', 46), ('O', 47), ('R', 48), ('D', 49), ('G', 50), ('.', 51), ('@', 52), ('Y', 53), ('I', 54), ('?', 55), ('T', 56), ('U', 57), ('*', 58), ('M', 59), ('C', 60), ('-', 61), ('F', 62), ('H', 63), ('Z', 64), ('$', 65), ('#', 66), ('X', 67), ('N', 68), ('K', 69), (';', 70), ('%', 71), ('^', 72), ('_', 73), ('&', 74), (\"'\", 75), ('+', 76), ('~', 77), ('|', 78), ('{', 79), ('}', 80), ('`', 81)])"
      ]
     },
     "execution_count": 12,
     "metadata": {},
     "output_type": "execute_result"
    }
   ],
   "source": [
    "dict_letras.items()"
   ]
  },
  {
   "cell_type": "markdown",
   "metadata": {
    "ExecuteTime": {
     "end_time": "2021-01-23T19:11:02.247838Z",
     "start_time": "2021-01-23T19:11:02.236747Z"
    }
   },
   "source": [
    "A continuación definimos algunas funciones auxiliares para las neuronas de **entrada**:"
   ]
  },
  {
   "cell_type": "code",
   "execution_count": 14,
   "metadata": {
    "ExecuteTime": {
     "end_time": "2021-01-24T17:36:08.111017Z",
     "start_time": "2021-01-24T17:36:08.099845Z"
    }
   },
   "outputs": [],
   "source": [
    "dict_size = len(dict_letras.values())\n",
    "\n",
    "def password_to_encode(password):\n",
    "    '''\n",
    "    Función que dada una contraseña, devuelve el encoding acomodado al tratamiento\n",
    "    que tuvieron los datos de este documento.\n",
    "    --------------------------------------------------------------\n",
    "    :param password str: Cadena de texto que contiene la contraseña a convertir\n",
    "    \n",
    "    :returns array: Vector 27-dimensional codificado. \n",
    "    '''\n",
    "    pass_vector = list(map(ord,list(password)))\n",
    "    pass_vector += [min_string]*(max_len_pass-len(pass_vector))\n",
    "    pass_vector = np.array(pass_vector)\n",
    "    #pass_vector = ms.transform(pass_vector.reshape(-1,27))\n",
    "    \n",
    "    return pass_vector\n",
    "\n",
    "#prueba = password_to_encode().reshape(-1,27)\n",
    "#neigh2.predict(prueba)"
   ]
  },
  {
   "cell_type": "markdown",
   "metadata": {
    "ExecuteTime": {
     "end_time": "2021-01-23T19:16:49.678862Z",
     "start_time": "2021-01-23T19:16:49.671477Z"
    }
   },
   "source": [
    "Ahora definiremos algunas funciones auxiliares para las neuronas de **salida**:"
   ]
  },
  {
   "cell_type": "code",
   "execution_count": 15,
   "metadata": {
    "ExecuteTime": {
     "end_time": "2021-01-24T17:36:10.977817Z",
     "start_time": "2021-01-24T17:36:10.969032Z"
    }
   },
   "outputs": [],
   "source": [
    "\n",
    "def int_ohe(numero):\n",
    "    '''\n",
    "    Función que dado un número de seguridad, devuelve el arreglo ohe\n",
    "    '''\n",
    "    array = np.zeros(n+1)\n",
    "    array[0][numero] = 1\n",
    "    return array"
   ]
  },
  {
   "cell_type": "markdown",
   "metadata": {},
   "source": [
    "Una vez definidas estas funciones, la siguiente función nos permitirá obtener una muestra aleatoria de las contraseñas con su respectiva seguridad:"
   ]
  },
  {
   "cell_type": "code",
   "execution_count": 18,
   "metadata": {
    "ExecuteTime": {
     "end_time": "2021-01-24T17:36:19.232771Z",
     "start_time": "2021-01-24T17:36:19.219592Z"
    }
   },
   "outputs": [],
   "source": [
    "def random_training_example(contrasenas, etiquetas):\n",
    "    '''\n",
    "    Función que dada una lista de contraseñas y sus etiquetas, regresa\n",
    "    una muestra aleatoria con su etiqueta correspondiente (seguridad)\n",
    "    ----------------------------------------------------------\n",
    "    :param contrasenas [str]: Lista de contraseñas\n",
    "    :param etiquetas [int]: Lista de la seguridad de las contraseñas\n",
    "    \n",
    "    :returns password str: Contraseña\n",
    "    :returns etiqueta int: Seguridad de la contraseña\n",
    "    :returns password_tensor tensor: Codificación OHE de la contraseña\n",
    "    :returns etiqueta_tensor tensor: Codificación OHE de la seguridad\n",
    "    '''\n",
    "    def random_choice(a):\n",
    "        random_idx = random.randint(0, len(a) - 1)\n",
    "        return random_idx\n",
    "    \n",
    "    idx = random_choice(contrasenas)\n",
    "    password = contrasenas[idx]\n",
    "    etiqueta = etiquetas[idx]\n",
    "    password_tensor = passw_array(password)\n",
    "    etiqueta_tensor = int_ohe(etiqueta)\n",
    "\n",
    "    return password, etiqueta, password_tensor, etiqueta_tensor\n",
    "\n",
    "#random_training_example(passes,pass_security)"
   ]
  },
  {
   "cell_type": "code",
   "execution_count": 19,
   "metadata": {
    "ExecuteTime": {
     "end_time": "2021-01-24T17:36:22.726388Z",
     "start_time": "2021-01-24T17:36:19.908525Z"
    }
   },
   "outputs": [
    {
     "data": {
      "text/plain": [
       "(677566, 27)"
      ]
     },
     "execution_count": 19,
     "metadata": {},
     "output_type": "execute_result"
    }
   ],
   "source": [
    "max_len_pass = 0 # Vamos guardando la longitud de contraseña más grande\n",
    "min_string = 1000 # Guardamos el ASCII más pequeño que nos encontramos\n",
    "\n",
    "for i in range(len(passes)):\n",
    "    passes[i] = list(map(ord,list(passes[i])))\n",
    "    if len(passes[i]) > max_len_pass:\n",
    "        max_len_pass = len(passes[i])\n",
    "    \n",
    "    for letter_ascii in passes[i]:\n",
    "        if letter_ascii < min_string:\n",
    "            min_string = letter_ascii\n",
    "\n",
    "min_string -= 100 # min_string será el valor para el espacio vacío\n",
    "\n",
    "for i in range(len(passes)):\n",
    "    n = len(passes[i])\n",
    "    #Llenamos cada contraseña para que tengan la misma longitud\n",
    "    passes[i] = passes[i] + [min_string]*(max_len_pass-len(passes[i]))\n",
    "    \n",
    "    \n",
    "passes = np.array(passes)\n",
    "passes.shape"
   ]
  },
  {
   "cell_type": "code",
   "execution_count": 20,
   "metadata": {
    "ExecuteTime": {
     "end_time": "2021-01-24T17:36:23.273755Z",
     "start_time": "2021-01-24T17:36:22.746177Z"
    }
   },
   "outputs": [],
   "source": [
    "from sklearn.model_selection import train_test_split\n",
    "\n",
    "\n",
    "X_train, X_test, y_train, y_test = train_test_split(np.array(passes), pass_security, test_size=0.2)"
   ]
  },
  {
   "cell_type": "code",
   "execution_count": 21,
   "metadata": {
    "ExecuteTime": {
     "end_time": "2021-01-24T17:36:23.300218Z",
     "start_time": "2021-01-24T17:36:23.296465Z"
    }
   },
   "outputs": [
    {
     "data": {
      "text/plain": [
       "array([[110, 101, 116, ..., -67, -67, -67],\n",
       "       [119, 101, 104, ..., -67, -67, -67],\n",
       "       [ 54,  49,  48, ..., -67, -67, -67],\n",
       "       ...,\n",
       "       [ 55,  53,  56, ..., -67, -67, -67],\n",
       "       [104,  97, 110, ..., -67, -67, -67],\n",
       "       [111, 108, 101, ..., -67, -67, -67]])"
      ]
     },
     "execution_count": 21,
     "metadata": {},
     "output_type": "execute_result"
    }
   ],
   "source": [
    "X_train"
   ]
  },
  {
   "cell_type": "code",
   "execution_count": 22,
   "metadata": {
    "ExecuteTime": {
     "end_time": "2021-01-24T17:36:28.478503Z",
     "start_time": "2021-01-24T17:36:28.418324Z"
    }
   },
   "outputs": [],
   "source": [
    "from sklearn.neighbors import KNeighborsClassifier\n",
    "\n",
    "neigh = KNeighborsClassifier(n_neighbors=5)\n"
   ]
  },
  {
   "cell_type": "markdown",
   "metadata": {},
   "source": [
    "Primer modelo: "
   ]
  },
  {
   "cell_type": "code",
   "execution_count": 21,
   "metadata": {
    "ExecuteTime": {
     "end_time": "2021-01-23T23:17:35.873163Z",
     "start_time": "2021-01-23T23:12:50.036528Z"
    }
   },
   "outputs": [
    {
     "data": {
      "text/plain": [
       "KNeighborsClassifier()"
      ]
     },
     "execution_count": 21,
     "metadata": {},
     "output_type": "execute_result"
    }
   ],
   "source": [
    "neigh.fit(X_train,y_train)"
   ]
  },
  {
   "cell_type": "code",
   "execution_count": 22,
   "metadata": {
    "ExecuteTime": {
     "end_time": "2021-01-23T23:18:51.392474Z",
     "start_time": "2021-01-23T23:17:35.874716Z"
    }
   },
   "outputs": [
    {
     "data": {
      "text/plain": [
       "0.23392417019643727"
      ]
     },
     "execution_count": 22,
     "metadata": {},
     "output_type": "execute_result"
    }
   ],
   "source": [
    "neigh.score(X_test,y_test)"
   ]
  },
  {
   "cell_type": "markdown",
   "metadata": {
    "ExecuteTime": {
     "end_time": "2021-01-23T22:06:20.006136Z",
     "start_time": "2021-01-23T22:06:20.002542Z"
    }
   },
   "source": [
    "Segundo modelo, 50 vecinos, métrica de hamming:"
   ]
  },
  {
   "cell_type": "code",
   "execution_count": 23,
   "metadata": {
    "ExecuteTime": {
     "end_time": "2021-01-24T18:27:47.846390Z",
     "start_time": "2021-01-24T17:36:38.697684Z"
    }
   },
   "outputs": [
    {
     "data": {
      "text/plain": [
       "0.210214442788199"
      ]
     },
     "execution_count": 23,
     "metadata": {},
     "output_type": "execute_result"
    }
   ],
   "source": [
    "neigh2 = KNeighborsClassifier(n_neighbors=50,metric='hamming',algorithm='ball_tree',\n",
    "                             n_jobs=-1)\n",
    "neigh2.fit(X_train,y_train)\n",
    "neigh2.score(X_test,y_test)"
   ]
  },
  {
   "cell_type": "code",
   "execution_count": 27,
   "metadata": {
    "ExecuteTime": {
     "end_time": "2021-01-24T21:33:35.124188Z",
     "start_time": "2021-01-24T18:51:42.161859Z"
    }
   },
   "outputs": [
    {
     "data": {
      "text/plain": [
       "2.613456912200953"
      ]
     },
     "execution_count": 27,
     "metadata": {},
     "output_type": "execute_result"
    }
   ],
   "source": [
    "suma = 0\n",
    "for i in range(X_test.shape[0]):\n",
    "    prediccion = neigh2.predict(X_test[i].reshape(1,-1))[0]\n",
    "    suma += abs(y_test[i]-prediccion)\n",
    "suma/X_test.shape[0]"
   ]
  },
  {
   "cell_type": "code",
   "execution_count": 30,
   "metadata": {
    "ExecuteTime": {
     "end_time": "2021-01-24T21:43:19.223412Z",
     "start_time": "2021-01-24T21:43:19.220209Z"
    }
   },
   "outputs": [
    {
     "name": "stdout",
     "output_type": "stream",
     "text": [
      "La desviación estándar de la diferencia de las clases predichas con \n",
      " respecto las clases verdadereas es: 2.613456912200953\n"
     ]
    }
   ],
   "source": [
    "print('La desviación estándar de la diferencia de las clases predichas con \\n respecto las clases verdadereas es:',suma/X_test.shape[0])"
   ]
  },
  {
   "cell_type": "markdown",
   "metadata": {},
   "source": [
    "Tercer modelo, 50 vecinos, métrica euclidea:"
   ]
  },
  {
   "cell_type": "code",
   "execution_count": 24,
   "metadata": {
    "ExecuteTime": {
     "end_time": "2021-01-24T18:35:52.879712Z",
     "start_time": "2021-01-24T18:27:47.864816Z"
    }
   },
   "outputs": [
    {
     "data": {
      "text/plain": [
       "0.23614534291659903"
      ]
     },
     "execution_count": 24,
     "metadata": {},
     "output_type": "execute_result"
    }
   ],
   "source": [
    "neigh3 = KNeighborsClassifier(n_neighbors=50)\n",
    "neigh3.fit(X_train,y_train)\n",
    "neigh3.score(X_test,y_test)"
   ]
  },
  {
   "cell_type": "code",
   "execution_count": 28,
   "metadata": {
    "ExecuteTime": {
     "end_time": "2021-01-24T21:37:20.862528Z",
     "start_time": "2021-01-24T21:33:35.160049Z"
    }
   },
   "outputs": [
    {
     "data": {
      "text/plain": [
       "2.2593680357749015"
      ]
     },
     "execution_count": 28,
     "metadata": {},
     "output_type": "execute_result"
    }
   ],
   "source": [
    "suma3 = 0\n",
    "for i in range(X_test.shape[0]):\n",
    "    prediccion = neigh3.predict(X_test[i].reshape(1,-1))[0]\n",
    "    suma3 += abs(y_test[i]-prediccion)\n",
    "#suma3/X_test.shape[0]"
   ]
  },
  {
   "cell_type": "code",
   "execution_count": 32,
   "metadata": {
    "ExecuteTime": {
     "end_time": "2021-01-24T21:48:10.389952Z",
     "start_time": "2021-01-24T21:48:10.384081Z"
    }
   },
   "outputs": [
    {
     "name": "stdout",
     "output_type": "stream",
     "text": [
      "La desviación estándar de la diferencia de las clases predichas con \n",
      " respecto las clases verdadereas es: 2.2593680357749015\n"
     ]
    }
   ],
   "source": [
    "print('La desviación estándar de la diferencia de las clases predichas con \\n respecto las clases verdadereas es:',suma3/X_test.shape[0])"
   ]
  },
  {
   "cell_type": "markdown",
   "metadata": {},
   "source": [
    "Con la información obtenida, resulta que la mejor aproximación a los datos verdaderos se da por el último modelo, teniendo en promedio, un error de 2.25 puntos de diferencia entre los datos predichos y la clase verdadera. A continuación procederemos a proponer un modelo para generar contraseñas seguras y las verificaremos con el último modelo."
   ]
  },
  {
   "cell_type": "markdown",
   "metadata": {},
   "source": [
    "Este modelo plantea el uso de generación de altos valores de entropía entre palabras comunes para una mejor seguridad. Más información sobre este modelo pueden ser encontrados en https://theworld.com/~reinhold/diceware.html"
   ]
  },
  {
   "cell_type": "code",
   "execution_count": 33,
   "metadata": {
    "ExecuteTime": {
     "end_time": "2021-01-24T22:53:20.660650Z",
     "start_time": "2021-01-24T22:53:20.595235Z"
    }
   },
   "outputs": [],
   "source": [
    "def get_pass(n, print_valor = False):\n",
    "    data = pd.read_csv(\"Diceware/my_dicewareEsp.csv\")\n",
    "    palabras = data.sample(n)\n",
    "    if print_valor : print(palabras)\n",
    "    passphrase = \"\"\n",
    "    for val in palabras[\"valor\"]:\n",
    "        passphrase = passphrase + val +\"_\"\n",
    "    return passphrase[:-1]"
   ]
  },
  {
   "cell_type": "code",
   "execution_count": 58,
   "metadata": {
    "ExecuteTime": {
     "end_time": "2021-01-25T01:30:27.315709Z",
     "start_time": "2021-01-25T01:30:27.223681Z"
    }
   },
   "outputs": [
    {
     "name": "stdout",
     "output_type": "stream",
     "text": [
      "Contraseña sugerida: zarbobjurel con seguridad [9] +/-2\n",
      "      En 3 intento(s)\n",
      "Contraseña sugerida: oasislatovano con seguridad [9] +/-2\n",
      "      En 1 intento(s)\n",
      "Contraseña sugerida: 323hupeyuso con seguridad [9] +/-2\n",
      "      En 2 intento(s)\n",
      "Contraseña sugerida: debutvayassalga con seguridad [9] +/-2\n",
      "      En 1 intento(s)\n",
      "Contraseña sugerida: morosalvaBoston con seguridad [9] +/-2\n",
      "      En 1 intento(s)\n"
     ]
    }
   ],
   "source": [
    "for _ in range(5):\n",
    "    intentos = 0\n",
    "    while True:\n",
    "        intentos += 1\n",
    "        contrasena = get_pass(3).replace(\"_\",\"\")\n",
    "        code = password_to_encode(contrasena).reshape(1,-1)\n",
    "        security = neigh3.predict(code)\n",
    "        \n",
    "        if security > 6:\n",
    "            print('Contraseña sugerida:',contrasena,'con seguridad',security,'+/-2\\n      En',intentos,'intento(s)')\n",
    "            break"
   ]
  }
 ],
 "metadata": {
  "hide_input": false,
  "kernelspec": {
   "display_name": "Python 3",
   "language": "python",
   "name": "python3"
  },
  "language_info": {
   "codemirror_mode": {
    "name": "ipython",
    "version": 3
   },
   "file_extension": ".py",
   "mimetype": "text/x-python",
   "name": "python",
   "nbconvert_exporter": "python",
   "pygments_lexer": "ipython3",
   "version": "3.8.3"
  },
  "varInspector": {
   "cols": {
    "lenName": 16,
    "lenType": 16,
    "lenVar": 40
   },
   "kernels_config": {
    "python": {
     "delete_cmd_postfix": "",
     "delete_cmd_prefix": "del ",
     "library": "var_list.py",
     "varRefreshCmd": "print(var_dic_list())"
    },
    "r": {
     "delete_cmd_postfix": ") ",
     "delete_cmd_prefix": "rm(",
     "library": "var_list.r",
     "varRefreshCmd": "cat(var_dic_list()) "
    }
   },
   "types_to_exclude": [
    "module",
    "function",
    "builtin_function_or_method",
    "instance",
    "_Feature"
   ],
   "window_display": false
  }
 },
 "nbformat": 4,
 "nbformat_minor": 4
}
