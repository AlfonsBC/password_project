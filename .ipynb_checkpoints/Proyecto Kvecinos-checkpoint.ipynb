{
 "cells": [
  {
   "cell_type": "markdown",
   "metadata": {},
   "source": [
    "# Proyecto"
   ]
  },
  {
   "cell_type": "markdown",
   "metadata": {},
   "source": [
    "Objetivo: Analizar la seguridad de contraseñas con base en la lista de contraseñas y su frecuencia de uso"
   ]
  },
  {
   "cell_type": "markdown",
   "metadata": {},
   "source": [
    "- Los problemas de clasificación predicen una lista ordenada o una clasificación de objetos, la manera en el que se realizó la consulta. Esto podría ser bastante práctico si lo que queremos es regresar la lista de contraseñas que alguien podría colocar al momento de ingresar su contraseña. \n",
    "- La clasificación predice una etiqueta y los problemas incluyen problemas binarios de \"sí o no\" como \"si esta imagen es un corgi o un muffin de arándanos\", así como problemas de clasificación múltiple como \"si esto es bueno, malo o promedio\". Con la clasificación, las respuestas correctas deben etiquetarse para que su algoritmo pueda aprender de ellas.\n",
    "- Exactamente, que es lo que deseamos encontrar?\n",
    "- Que tipo de visualizaciones se elige?\n",
    "\n",
    "Fuente de la información:\n",
    "1. Bruteforce Database Github\n",
    "2. https://github.com/duyet/bruteforce-database\n",
    "3. https://haveibeenpwned.com/Passwords **Pwned Passwords 20 GB.**\n",
    "4. https://www.kaggle.com/search?q=passwords\n",
    "5. https://github.com/robinske/password-data"
   ]
  },
  {
   "cell_type": "markdown",
   "metadata": {},
   "source": [
    "Primero haremos una exploración de los datos:"
   ]
  },
  {
   "cell_type": "code",
   "execution_count": 1,
   "metadata": {
    "ExecuteTime": {
     "end_time": "2021-01-23T04:47:24.078856Z",
     "start_time": "2021-01-23T04:47:22.342819Z"
    }
   },
   "outputs": [],
   "source": [
    "import pandas as pd\n",
    "import matplotlib.pyplot as plt\n",
    "import numpy as np\n",
    "import seaborn as sns\n",
    "from numpy import random\n",
    "from torch.multiprocessing import Process, Queue, Lock\n",
    "import multiprocessing as mp\n",
    "import random\n"
   ]
  },
  {
   "cell_type": "code",
   "execution_count": 2,
   "metadata": {
    "ExecuteTime": {
     "end_time": "2021-01-23T04:47:27.185110Z",
     "start_time": "2021-01-23T04:47:24.118370Z"
    }
   },
   "outputs": [
    {
     "data": {
      "text/html": [
       "<div>\n",
       "<style scoped>\n",
       "    .dataframe tbody tr th:only-of-type {\n",
       "        vertical-align: middle;\n",
       "    }\n",
       "\n",
       "    .dataframe tbody tr th {\n",
       "        vertical-align: top;\n",
       "    }\n",
       "\n",
       "    .dataframe thead th {\n",
       "        text-align: right;\n",
       "    }\n",
       "</style>\n",
       "<table border=\"1\" class=\"dataframe\">\n",
       "  <thead>\n",
       "    <tr style=\"text-align: right;\">\n",
       "      <th></th>\n",
       "      <th>password</th>\n",
       "      <th>hash</th>\n",
       "      <th>count</th>\n",
       "    </tr>\n",
       "  </thead>\n",
       "  <tbody>\n",
       "    <tr>\n",
       "      <th>0</th>\n",
       "      <td>1980290</td>\n",
       "      <td>083040BB6B1D95F2B8AC447B50D21DAB38DAFF16</td>\n",
       "      <td>13</td>\n",
       "    </tr>\n",
       "    <tr>\n",
       "      <th>1</th>\n",
       "      <td>tornadof</td>\n",
       "      <td>0A7709AD9837766F20156FF016ABF66F8036ABC1</td>\n",
       "      <td>13</td>\n",
       "    </tr>\n",
       "    <tr>\n",
       "      <th>2</th>\n",
       "      <td>vova87654</td>\n",
       "      <td>66221A7691CDC27D9D31071A0CFA0712C100C7D7</td>\n",
       "      <td>13</td>\n",
       "    </tr>\n",
       "    <tr>\n",
       "      <th>3</th>\n",
       "      <td>XpKvShrO</td>\n",
       "      <td>4CB7086C94AE4D82E519FF8F98D0DA1DA38DBE53</td>\n",
       "      <td>13</td>\n",
       "    </tr>\n",
       "    <tr>\n",
       "      <th>4</th>\n",
       "      <td>tvjgtl</td>\n",
       "      <td>9E1FD26A17D2EBE7C9FD4181EF49424C7091D484</td>\n",
       "      <td>13</td>\n",
       "    </tr>\n",
       "    <tr>\n",
       "      <th>...</th>\n",
       "      <td>...</td>\n",
       "      <td>...</td>\n",
       "      <td>...</td>\n",
       "    </tr>\n",
       "    <tr>\n",
       "      <th>6840</th>\n",
       "      <td>491144</td>\n",
       "      <td>4511C39CDA1EFE76964C79783B52053BA7CD09DD</td>\n",
       "      <td>69</td>\n",
       "    </tr>\n",
       "    <tr>\n",
       "      <th>6841</th>\n",
       "      <td>xeyfhm3477362341</td>\n",
       "      <td>E2EC663D721E9F22F5CF39D5AA27A89CE00172D0</td>\n",
       "      <td>69</td>\n",
       "    </tr>\n",
       "    <tr>\n",
       "      <th>6842</th>\n",
       "      <td>irontree4</td>\n",
       "      <td>350AA827594B47AF3BCB9256E2388EFB958C4529</td>\n",
       "      <td>69</td>\n",
       "    </tr>\n",
       "    <tr>\n",
       "      <th>6843</th>\n",
       "      <td>wh2t3v3r</td>\n",
       "      <td>221C76F1C2AD5883003AF5EB7A495A41580B87C5</td>\n",
       "      <td>69</td>\n",
       "    </tr>\n",
       "    <tr>\n",
       "      <th>6844</th>\n",
       "      <td>santomas</td>\n",
       "      <td>510B26B12A43531A14333545C6D802E47FA411AC</td>\n",
       "      <td>69</td>\n",
       "    </tr>\n",
       "  </tbody>\n",
       "</table>\n",
       "<p>677568 rows × 3 columns</p>\n",
       "</div>"
      ],
      "text/plain": [
       "              password                                      hash  count\n",
       "0              1980290  083040BB6B1D95F2B8AC447B50D21DAB38DAFF16     13\n",
       "1             tornadof  0A7709AD9837766F20156FF016ABF66F8036ABC1     13\n",
       "2            vova87654  66221A7691CDC27D9D31071A0CFA0712C100C7D7     13\n",
       "3             XpKvShrO  4CB7086C94AE4D82E519FF8F98D0DA1DA38DBE53     13\n",
       "4               tvjgtl  9E1FD26A17D2EBE7C9FD4181EF49424C7091D484     13\n",
       "...                ...                                       ...    ...\n",
       "6840            491144  4511C39CDA1EFE76964C79783B52053BA7CD09DD     69\n",
       "6841  xeyfhm3477362341  E2EC663D721E9F22F5CF39D5AA27A89CE00172D0     69\n",
       "6842         irontree4  350AA827594B47AF3BCB9256E2388EFB958C4529     69\n",
       "6843          wh2t3v3r  221C76F1C2AD5883003AF5EB7A495A41580B87C5     69\n",
       "6844          santomas  510B26B12A43531A14333545C6D802E47FA411AC     69\n",
       "\n",
       "[677568 rows x 3 columns]"
      ]
     },
     "execution_count": 2,
     "metadata": {},
     "output_type": "execute_result"
    }
   ],
   "source": [
    "data =pd.read_csv('passwords/pass (1).csv')\n",
    "for i in range(2,100):\n",
    "    filename = pd.read_csv('passwords/pass ('+str(i)+').csv')\n",
    "    data = pd.concat([data,filename],axis=0)\n",
    "data"
   ]
  },
  {
   "cell_type": "markdown",
   "metadata": {},
   "source": [
    "## Perfilado de Datos\n",
    "\n",
    "Para esto, vamos a ver algunas características de los datos, como sus valores nulos y duplicados."
   ]
  },
  {
   "cell_type": "code",
   "execution_count": 3,
   "metadata": {
    "ExecuteTime": {
     "end_time": "2021-01-23T04:47:27.277254Z",
     "start_time": "2021-01-23T04:47:27.215218Z"
    }
   },
   "outputs": [
    {
     "data": {
      "text/plain": [
       "password    2\n",
       "hash        0\n",
       "count       0\n",
       "dtype: int64"
      ]
     },
     "execution_count": 3,
     "metadata": {},
     "output_type": "execute_result"
    }
   ],
   "source": [
    "data.isnull().sum()"
   ]
  },
  {
   "cell_type": "code",
   "execution_count": 4,
   "metadata": {
    "ExecuteTime": {
     "end_time": "2021-01-23T04:47:27.456647Z",
     "start_time": "2021-01-23T04:47:27.306785Z"
    }
   },
   "outputs": [
    {
     "data": {
      "text/plain": [
       "password    0\n",
       "hash        0\n",
       "count       0\n",
       "dtype: int64"
      ]
     },
     "execution_count": 4,
     "metadata": {},
     "output_type": "execute_result"
    }
   ],
   "source": [
    "data = data.dropna(axis=0)\n",
    "data.isnull().sum()"
   ]
  },
  {
   "cell_type": "markdown",
   "metadata": {},
   "source": [
    "Ahora, existen valores duplicados en cada documento, que son el conteo de contraseñas segmentado, por lo cual será adecuado sumar las cuentas de todos los duplicados\n",
    "para obtener el número de veces que cada contraseña fue usada.\n",
    "\n",
    "Adicionalmente, en este momento no haremos usos de las firmas hash, puesto que no son relevantes para nuestro caso de estudio"
   ]
  },
  {
   "cell_type": "code",
   "execution_count": 5,
   "metadata": {
    "ExecuteTime": {
     "end_time": "2021-01-23T04:47:29.159639Z",
     "start_time": "2021-01-23T04:47:27.485928Z"
    }
   },
   "outputs": [
    {
     "name": "stdout",
     "output_type": "stream",
     "text": [
      "(677566, 2)\n"
     ]
    },
    {
     "data": {
      "text/html": [
       "<div>\n",
       "<style scoped>\n",
       "    .dataframe tbody tr th:only-of-type {\n",
       "        vertical-align: middle;\n",
       "    }\n",
       "\n",
       "    .dataframe tbody tr th {\n",
       "        vertical-align: top;\n",
       "    }\n",
       "\n",
       "    .dataframe thead th {\n",
       "        text-align: right;\n",
       "    }\n",
       "</style>\n",
       "<table border=\"1\" class=\"dataframe\">\n",
       "  <thead>\n",
       "    <tr style=\"text-align: right;\">\n",
       "      <th></th>\n",
       "      <th>password</th>\n",
       "      <th>count</th>\n",
       "    </tr>\n",
       "  </thead>\n",
       "  <tbody>\n",
       "    <tr>\n",
       "      <th>0</th>\n",
       "      <td>!!!!!</td>\n",
       "      <td>401</td>\n",
       "    </tr>\n",
       "    <tr>\n",
       "      <th>1</th>\n",
       "      <td>!!!!!!</td>\n",
       "      <td>2304</td>\n",
       "    </tr>\n",
       "    <tr>\n",
       "      <th>2</th>\n",
       "      <td>!!!!!!!</td>\n",
       "      <td>386</td>\n",
       "    </tr>\n",
       "    <tr>\n",
       "      <th>3</th>\n",
       "      <td>!12345</td>\n",
       "      <td>312</td>\n",
       "    </tr>\n",
       "    <tr>\n",
       "      <th>4</th>\n",
       "      <td>!23456</td>\n",
       "      <td>347</td>\n",
       "    </tr>\n",
       "  </tbody>\n",
       "</table>\n",
       "</div>"
      ],
      "text/plain": [
       "  password  count\n",
       "0    !!!!!    401\n",
       "1   !!!!!!   2304\n",
       "2  !!!!!!!    386\n",
       "3   !12345    312\n",
       "4   !23456    347"
      ]
     },
     "execution_count": 5,
     "metadata": {},
     "output_type": "execute_result"
    }
   ],
   "source": [
    "data = data.groupby(data['password']).agg({'count':sum}).reset_index()\n",
    "print(data.shape)\n",
    "data.head()"
   ]
  },
  {
   "cell_type": "markdown",
   "metadata": {},
   "source": [
    "## Exploración de los datos:\n",
    "\n",
    "Veamos algunas de las contraseñas más utilizadas"
   ]
  },
  {
   "cell_type": "code",
   "execution_count": 6,
   "metadata": {
    "ExecuteTime": {
     "end_time": "2021-01-23T04:47:29.358695Z",
     "start_time": "2021-01-23T04:47:29.191294Z"
    }
   },
   "outputs": [
    {
     "data": {
      "text/html": [
       "<div>\n",
       "<style scoped>\n",
       "    .dataframe tbody tr th:only-of-type {\n",
       "        vertical-align: middle;\n",
       "    }\n",
       "\n",
       "    .dataframe tbody tr th {\n",
       "        vertical-align: top;\n",
       "    }\n",
       "\n",
       "    .dataframe thead th {\n",
       "        text-align: right;\n",
       "    }\n",
       "</style>\n",
       "<table border=\"1\" class=\"dataframe\">\n",
       "  <thead>\n",
       "    <tr style=\"text-align: right;\">\n",
       "      <th></th>\n",
       "      <th>password</th>\n",
       "      <th>count</th>\n",
       "    </tr>\n",
       "  </thead>\n",
       "  <tbody>\n",
       "    <tr>\n",
       "      <th>43879</th>\n",
       "      <td>123456789</td>\n",
       "      <td>7016669</td>\n",
       "    </tr>\n",
       "    <tr>\n",
       "      <th>506981</th>\n",
       "      <td>qwerty</td>\n",
       "      <td>3599486</td>\n",
       "    </tr>\n",
       "    <tr>\n",
       "      <th>35227</th>\n",
       "      <td>111111</td>\n",
       "      <td>2900049</td>\n",
       "    </tr>\n",
       "    <tr>\n",
       "      <th>43856</th>\n",
       "      <td>12345678</td>\n",
       "      <td>2680521</td>\n",
       "    </tr>\n",
       "    <tr>\n",
       "      <th>223879</th>\n",
       "      <td>abc123</td>\n",
       "      <td>2670319</td>\n",
       "    </tr>\n",
       "  </tbody>\n",
       "</table>\n",
       "</div>"
      ],
      "text/plain": [
       "         password    count\n",
       "43879   123456789  7016669\n",
       "506981     qwerty  3599486\n",
       "35227      111111  2900049\n",
       "43856    12345678  2680521\n",
       "223879     abc123  2670319"
      ]
     },
     "execution_count": 6,
     "metadata": {},
     "output_type": "execute_result"
    }
   ],
   "source": [
    "data = data.sort_values(by='count',ascending=False)\n",
    "data.head()"
   ]
  },
  {
   "cell_type": "markdown",
   "metadata": {},
   "source": [
    "La cuenta de aquellas contraseñas que tienen únicamente valores numéricos:"
   ]
  },
  {
   "cell_type": "code",
   "execution_count": 7,
   "metadata": {
    "ExecuteTime": {
     "end_time": "2021-01-23T04:47:29.910715Z",
     "start_time": "2021-01-23T04:47:29.392379Z"
    }
   },
   "outputs": [
    {
     "name": "stdout",
     "output_type": "stream",
     "text": [
      "Contraseñas formadas por números:\n",
      "142340\n",
      "Suma del uso de contraseñas formadas por números\n",
      "171260703\n"
     ]
    }
   ],
   "source": [
    "# Variable que guardará el total de contraseñas con esta característica y las veces que fueron utilizadas\n",
    "data_patrones = []\n",
    "\n",
    "numeric = data[data['password'].str.isnumeric() == True].count()[0]\n",
    "numeric_count_sum = data[data['password'].str.isnumeric() == True]['count'].sum()\n",
    "\n",
    "print('Contraseñas formadas por números:')\n",
    "print(numeric)\n",
    "print('Suma del uso de contraseñas formadas por números')\n",
    "print(numeric_count_sum)\n",
    "\n",
    "data_patrones += 'Numeric only', numeric, numeric_count_sum"
   ]
  },
  {
   "cell_type": "code",
   "execution_count": 8,
   "metadata": {
    "ExecuteTime": {
     "end_time": "2021-01-23T04:47:30.423456Z",
     "start_time": "2021-01-23T04:47:29.940862Z"
    }
   },
   "outputs": [
    {
     "name": "stdout",
     "output_type": "stream",
     "text": [
      "Contraseñas formadas por letras:\n",
      "278189\n",
      "Suma del uso de contraseñas formadas por letras\n",
      "335503274\n"
     ]
    }
   ],
   "source": [
    "alpha = data[data['password'].str.isalpha() == True].count()[0]\n",
    "alpha_count_sum = data[data['password'].str.isalpha() == True]['count'].sum()\n",
    "\n",
    "print('Contraseñas formadas por letras:')\n",
    "print(alpha)\n",
    "print('Suma del uso de contraseñas formadas por letras')\n",
    "print(alpha_count_sum)\n",
    "\n",
    "data_patrones += 'Alpha only', alpha, alpha_count_sum"
   ]
  },
  {
   "cell_type": "markdown",
   "metadata": {},
   "source": [
    "---\n",
    "A continuación consideraremos que una contraseña corta es aquella con menos de 8 carácteres:"
   ]
  },
  {
   "cell_type": "code",
   "execution_count": 9,
   "metadata": {
    "ExecuteTime": {
     "end_time": "2021-01-23T04:47:30.977852Z",
     "start_time": "2021-01-23T04:47:30.456730Z"
    }
   },
   "outputs": [
    {
     "name": "stdout",
     "output_type": "stream",
     "text": [
      "Contraseñas cortas:\n",
      "382452\n",
      "Suma del uso de contraseñas cortas\n",
      "477964360\n"
     ]
    }
   ],
   "source": [
    "short_pass = data[data['password'].str.len() < 8].count()[0]\n",
    "short_pass_count_sum = data[data['password'].str.len() < 8]['count'].sum()\n",
    "\n",
    "print('Contraseñas cortas:')\n",
    "print(short_pass)\n",
    "print('Suma del uso de contraseñas cortas')\n",
    "print(short_pass_count_sum)\n",
    "\n",
    "data_patrones += 'Short Passwords', short_pass, short_pass_count_sum"
   ]
  },
  {
   "cell_type": "markdown",
   "metadata": {},
   "source": [
    "---\n",
    "Y analizamos aquellas que tienen carácteres poco comunes o poco usados, como guiones, signos de exclamación, etc."
   ]
  },
  {
   "cell_type": "code",
   "execution_count": 10,
   "metadata": {
    "ExecuteTime": {
     "end_time": "2021-01-23T04:47:33.236692Z",
     "start_time": "2021-01-23T04:47:31.002060Z"
    }
   },
   "outputs": [
    {
     "name": "stderr",
     "output_type": "stream",
     "text": [
      "/home/oswald/anaconda3/lib/python3.8/site-packages/pandas/core/strings.py:1954: UserWarning: This pattern has match groups. To actually get the groups, use str.extract.\n",
      "  return func(self, *args, **kwargs)\n"
     ]
    },
    {
     "name": "stdout",
     "output_type": "stream",
     "text": [
      "Contraseñas cortas:\n",
      "2147\n",
      "Suma del uso de contraseñas cortas\n",
      "1977061\n"
     ]
    }
   ],
   "source": [
    "special_chars = ['!','\"','#','<','>','%','&','/','=',\n",
    "                '(\\?)','(\\()','(\\))',\"'\",'¡','¿','(\\+)','~',']','}',\n",
    "                '(\\[)','{',',',';',':','(\\.)','_','-','(\\*)','(\\^)']\n",
    "\n",
    "special_chars = '|'.join(special_chars)\n",
    "special_pass = data[data['password'].str.contains(special_chars) == True].count()[0]\n",
    "special_pass_count_sum = data[data['password'].str.contains(special_chars) == True]['count'].sum()\n",
    "\n",
    "print('Contraseñas cortas:')\n",
    "print(special_pass)\n",
    "print('Suma del uso de contraseñas cortas')\n",
    "print(special_pass_count_sum)\n",
    "\n",
    "data_patrones += 'Special Characters', special_pass, special_pass_count_sum"
   ]
  },
  {
   "cell_type": "markdown",
   "metadata": {},
   "source": [
    "Siguientes pasos:\n",
    "- Análisis de las frecuencias\n",
    "- Generar métrica para el score para las contraseñas de acuerdo a su frecuencia\n",
    "- Red neuronal Recurrente (?) para evaluar seguridad de una contraseña entrenada con las scores del punto anterior\n",
    "- Hacer análisis mediante k-neighbors o kohonen para comparar\n",
    "- Proponer contraseñas seguras (por definir método)"
   ]
  },
  {
   "cell_type": "markdown",
   "metadata": {},
   "source": [
    "Ahora vamos a establecer una métrica para pasar de la cuenta de las contraseñas a una métrica de su seguridad, para esto se decide hacer un escalamiento estándar al inverso de la cuenta de contraseñas. Esto para darle una mayor scoring a aquellos que tienen menos apariciones."
   ]
  },
  {
   "cell_type": "code",
   "execution_count": 11,
   "metadata": {
    "ExecuteTime": {
     "end_time": "2021-01-23T04:47:33.270511Z",
     "start_time": "2021-01-23T04:47:33.266930Z"
    }
   },
   "outputs": [
    {
     "data": {
      "text/plain": [
       "array([7016669, 3599486, 2900049, ...,      12,      12,      12])"
      ]
     },
     "execution_count": 11,
     "metadata": {},
     "output_type": "execute_result"
    }
   ],
   "source": [
    "pass_count = data.iloc[:,1].values\n",
    "pass_count"
   ]
  },
  {
   "cell_type": "code",
   "execution_count": 12,
   "metadata": {
    "ExecuteTime": {
     "end_time": "2021-01-23T04:47:33.358515Z",
     "start_time": "2021-01-23T04:47:33.303835Z"
    }
   },
   "outputs": [
    {
     "data": {
      "text/plain": [
       "['123456789', 'qwerty', '111111', '12345678', 'abc123']"
      ]
     },
     "execution_count": 12,
     "metadata": {},
     "output_type": "execute_result"
    }
   ],
   "source": [
    "from copy import copy\n",
    "passes = copy(data.iloc[:,0].values.tolist())\n",
    "passes[:5]"
   ]
  },
  {
   "cell_type": "code",
   "execution_count": 13,
   "metadata": {
    "ExecuteTime": {
     "end_time": "2021-01-23T04:47:33.596225Z",
     "start_time": "2021-01-23T04:47:33.593107Z"
    }
   },
   "outputs": [],
   "source": [
    "data = None  #Liberamos memoria"
   ]
  },
  {
   "cell_type": "markdown",
   "metadata": {
    "ExecuteTime": {
     "end_time": "2021-01-20T22:31:20.728319Z",
     "start_time": "2021-01-20T22:31:17.366033Z"
    }
   },
   "source": [
    "max_len_pass = 0 # Vamos guardando la longitud de contraseña más grande\n",
    "min_string = 1000 # Guardamos el ASCII más pequeño que nos encontramos\n",
    "max_string = 0 # Guardamos el ASCII más largo \n",
    "\n",
    "for i in range(len(passes)):\n",
    "    passes[i] = list(map(ord,list(passes[i])))\n",
    "    if max(passes[i]) > max_string:\n",
    "        max_string = max(passes[i])\n",
    "    if min(passes[i]) < min_string:\n",
    "        min_string = min(passes[i])\n",
    "\n",
    "for i in range (len(passes)):\n",
    "    for j in range(len(passes[passw])):\n",
    "        ohe = [0]*(max_string-min_string)\n",
    "        ohe[j-min_string] = 1\n",
    "        passes[i][j] = ohe\n",
    "    \n",
    "    \n",
    "passes = np.array(passes)\n",
    "passes.shape"
   ]
  },
  {
   "cell_type": "code",
   "execution_count": 14,
   "metadata": {
    "ExecuteTime": {
     "end_time": "2021-01-23T04:47:34.485974Z",
     "start_time": "2021-01-23T04:47:33.788632Z"
    }
   },
   "outputs": [],
   "source": [
    "dict_letras = {}\n",
    "\n",
    "idx = 0\n",
    "for i in range(len(passes)):\n",
    "    #passes[i] = list(passes[i])\n",
    "    for letter in passes[i]:\n",
    "        if letter not in dict_letras.keys():\n",
    "            dict_letras[letter] = idx\n",
    "            idx += 1"
   ]
  },
  {
   "cell_type": "code",
   "execution_count": 15,
   "metadata": {
    "ExecuteTime": {
     "end_time": "2021-01-23T04:47:34.628344Z",
     "start_time": "2021-01-23T04:47:34.625284Z"
    }
   },
   "outputs": [
    {
     "data": {
      "text/plain": [
       "dict_items([('1', 0), ('2', 1), ('3', 2), ('4', 3), ('5', 4), ('6', 5), ('7', 6), ('8', 7), ('9', 8), ('q', 9), ('w', 10), ('e', 11), ('r', 12), ('t', 13), ('y', 14), ('a', 15), ('b', 16), ('c', 17), ('0', 18), ('i', 19), ('l', 20), ('o', 21), ('v', 22), ('u', 23), ('p', 24), ('m', 25), ('n', 26), ('k', 27), ('d', 28), ('g', 29), ('z', 30), ('s', 31), ('x', 32), ('f', 33), ('h', 34), ('j', 35), ('S', 36), ('V', 37), ('Q', 38), ('B', 39), ('L', 40), ('P', 41), ('J', 42), ('E', 43), ('!', 44), ('A', 45), ('W', 46), ('O', 47), ('R', 48), ('D', 49), ('G', 50), ('.', 51), ('@', 52), ('Y', 53), ('I', 54), ('?', 55), ('T', 56), ('U', 57), ('*', 58), ('M', 59), ('C', 60), ('-', 61), ('F', 62), ('H', 63), ('Z', 64), ('$', 65), ('#', 66), ('X', 67), ('N', 68), ('K', 69), (';', 70), ('%', 71), ('^', 72), ('_', 73), ('&', 74), (\"'\", 75), ('+', 76), ('~', 77), ('|', 78), ('{', 79), ('}', 80), ('`', 81)])"
      ]
     },
     "execution_count": 15,
     "metadata": {},
     "output_type": "execute_result"
    }
   ],
   "source": [
    "dict_letras.items()"
   ]
  },
  {
   "cell_type": "code",
   "execution_count": 16,
   "metadata": {
    "ExecuteTime": {
     "end_time": "2021-01-23T04:47:34.632484Z",
     "start_time": "2021-01-23T04:47:34.629733Z"
    }
   },
   "outputs": [],
   "source": [
    "import torch"
   ]
  },
  {
   "cell_type": "code",
   "execution_count": 17,
   "metadata": {
    "ExecuteTime": {
     "end_time": "2021-01-23T04:47:34.962467Z",
     "start_time": "2021-01-23T04:47:34.949174Z"
    }
   },
   "outputs": [
    {
     "data": {
      "text/plain": [
       "tensor([[0., 0., 0., 0., 0., 0., 0., 0., 0., 0., 1., 0., 0., 0., 0., 0., 0., 0.,\n",
       "         0., 0., 0., 0., 0., 0., 0., 0., 0., 0., 0., 0., 0., 0., 0., 0., 0., 0.,\n",
       "         0., 0., 0., 0., 0., 0., 0., 0., 0., 0., 0., 0., 0., 0., 0., 0., 0., 0.,\n",
       "         0., 0., 0., 0., 0., 0., 0., 0., 0., 0., 0., 0., 0., 0., 0., 0., 0., 0.,\n",
       "         0., 0., 0., 0., 0., 0., 0., 0., 0., 0.]])"
      ]
     },
     "execution_count": 17,
     "metadata": {},
     "output_type": "execute_result"
    }
   ],
   "source": [
    "dict_size = len(dict_letras.values())\n",
    "\n",
    "def char_to_int(char):\n",
    "    '''\n",
    "    Función que convierte una letra a entero\n",
    "    '''\n",
    "    for letra, numero in dict_letras.items():\n",
    "        if letra==char:\n",
    "            \n",
    "            return numero\n",
    "\n",
    "\n",
    "def int_to_char(num):\n",
    "    '''\n",
    "    Función que convierte de entero a letra\n",
    "    '''    \n",
    "    for letra, numero in dict_letras.items():\n",
    "        if num==numero:\n",
    "            return letra\n",
    "\n",
    "def int_to_ohe(num):\n",
    "    '''\n",
    "    Función que convierte entero a su representación\n",
    "    OHE\n",
    "    '''\n",
    "    ohe = torch.zeros(1,dict_size)\n",
    "    ohe[0][num] = 1\n",
    "    \n",
    "    return ohe\n",
    "\n",
    "\n",
    "\n",
    "def char_to_ohe(char):\n",
    "    '''\n",
    "    Función que convierte una letra a su representación\n",
    "    OHE\n",
    "    '''\n",
    "    return int_to_ohe(char_to_int(char))\n",
    "\n",
    "char_to_ohe('0')\n",
    "int_to_ohe(10)"
   ]
  },
  {
   "cell_type": "code",
   "execution_count": 18,
   "metadata": {
    "ExecuteTime": {
     "end_time": "2021-01-23T04:47:35.158064Z",
     "start_time": "2021-01-23T04:47:35.151165Z"
    }
   },
   "outputs": [],
   "source": [
    "n = 10\n",
    "def passw_tensor(passw):\n",
    "    \n",
    "    tensor = torch.zeros(len(passw),1, dict_size)\n",
    "    \n",
    "    for i, letra in enumerate(passw):\n",
    "        tensor[i][0][char_to_int(letra)] = 1\n",
    "    return tensor\n",
    "\n",
    "def int_ohe(numero):\n",
    "    '''\n",
    "    Función que dado un número de seguridad, devuelve el tensor ohe\n",
    "    '''\n",
    "    tensor = torch.zeros(1,n+1)\n",
    "    tensor[0][numero] = 1\n",
    "    return tensor\n",
    "\n",
    "\n",
    "def random_training_example(contrasenas, etiquetas):\n",
    "    \n",
    "    def random_choice(a):\n",
    "        random_idx = random.randint(0, len(a) - 1)\n",
    "        return random_idx\n",
    "    \n",
    "    idx = random_choice(contrasenas)\n",
    "    password = contrasenas[idx]\n",
    "    etiqueta = etiquetas[idx]\n",
    "    \n",
    "    password_tensor = passw_tensor(password)\n",
    "    etiqueta_tensor = int_ohe(etiqueta)\n",
    "\n",
    "    return password, etiqueta, password_tensor, etiqueta_tensor\n",
    "\n",
    "#random_training_example(passes,pass_security)[3].size()\n",
    "#passw_tensor('qwerty')"
   ]
  },
  {
   "cell_type": "code",
   "execution_count": 19,
   "metadata": {
    "ExecuteTime": {
     "end_time": "2021-01-23T04:47:35.428572Z",
     "start_time": "2021-01-23T04:47:35.295933Z"
    }
   },
   "outputs": [
    {
     "data": {
      "text/plain": [
       "array([ 0,  0,  0, ..., 10, 10, 10])"
      ]
     },
     "execution_count": 19,
     "metadata": {},
     "output_type": "execute_result"
    }
   ],
   "source": [
    "\n",
    "intervalo = pass_count.shape[0]//n\n",
    "\n",
    "pass_security = np.zeros(len(passes))\n",
    "intervalo_idx = 0\n",
    "for i in range(n):\n",
    "    for j in range(intervalo_idx,intervalo_idx+intervalo):\n",
    "        pass_security[j] = i\n",
    "        intervalo_idx += 1\n",
    "\n",
    "for j in range(intervalo_idx,len(pass_count)):\n",
    "    pass_security[j] = n\n",
    "    \n",
    "pass_security = pass_security.astype(int)   \n",
    "pass_security"
   ]
  },
  {
   "cell_type": "code",
   "execution_count": 20,
   "metadata": {
    "ExecuteTime": {
     "end_time": "2021-01-23T04:49:43.651543Z",
     "start_time": "2021-01-23T04:47:35.565532Z"
    }
   },
   "outputs": [
    {
     "name": "stdout",
     "output_type": "stream",
     "text": [
      "677566\n"
     ]
    }
   ],
   "source": [
    "def train_test_split(dataset,labels,test_size=0.2,seed=10):\n",
    "    rn = np.random.RandomState(seed)\n",
    "    m = int(len(dataset)*(1-test_size))\n",
    "    \n",
    "    choice = rn.choice(len(dataset),m,replace=False)\n",
    "    X_train = []\n",
    "    X_test = []\n",
    "    y_train = []\n",
    "    y_test = []\n",
    "    for i in choice:\n",
    "        X_train.append(dataset[i])\n",
    "        y_train.append(labels[i])\n",
    "    for i in range(len(dataset)):\n",
    "            if i not in choice:\n",
    "                X_test.append(dataset[i])\n",
    "                y_test.append(labels[i])\n",
    "    return X_train, X_test, y_train, y_test\n",
    "print(len(passes))\n",
    "X_train, X_test, y_train, y_test = train_test_split(passes,pass_security)"
   ]
  },
  {
   "cell_type": "code",
   "execution_count": null,
   "metadata": {},
   "outputs": [],
   "source": []
  },
  {
   "attachments": {
    "RNNmodelo.png": {
     "image/png": "[encoded data removed]"
    }
   },
   "cell_type": "markdown",
   "metadata": {},
   "source": [
    "![RNNmodelo.png](attachment:RNNmodelo.png)"
   ]
  },
  {
   "cell_type": "code",
   "execution_count": 21,
   "metadata": {
    "ExecuteTime": {
     "end_time": "2021-01-23T04:49:44.565982Z",
     "start_time": "2021-01-23T04:49:44.560697Z"
    }
   },
   "outputs": [],
   "source": [
    "import torch\n",
    "import torch.nn as nn\n",
    "import matplotlib.pyplot as plt\n",
    "\n",
    "class RNN(nn.Module):\n",
    "    \n",
    "    def __init__(self, input_size, hidden_size, output_size):\n",
    "        '''\n",
    "        Parámetros de inicialización\n",
    "        ---------------------------------\n",
    "        :param input_size int: Tamaño de entrada\n",
    "        :param hidden_size int: Número de neuronas en las capas ocultas\n",
    "        :param output_size int: Neuronas en las capas de salida\n",
    "        '''\n",
    "        \n",
    "        super(RNN, self).__init__()\n",
    "        \n",
    "        self.hidden_size = hidden_size\n",
    "        self.i2h = nn.Linear(input_size + hidden_size, hidden_size)\n",
    "        self.i2o = nn.Linear(input_size + hidden_size, output_size)\n",
    "        self.softmax = nn.LogSoftmax(dim=1) #Input por ejemplo 1,57\n",
    "    \n",
    "    def forward(self, input_tensor, hidden_tensor):\n",
    "        '''\n",
    "        Realiza feed-forward con las neuronas de entrada y el tensor\n",
    "        resultante de la iteración anterior\n",
    "        ------------------------------------------\n",
    "        :param input_tensor tensor: Tensor de neuronas de entrada\n",
    "        :param hidden_tensor tensor: Tensor de 'memoria asociativa'\n",
    "                                de la entrada anterior\n",
    "        \n",
    "        :returns output tensor: Tensor de salida\n",
    "        :returns hidden tensor: Tensor para la entrada siguiente\n",
    "        '''\n",
    "        combined = torch.cat((input_tensor, hidden_tensor),1 )\n",
    "        \n",
    "        hidden = self.i2h(combined)\n",
    "        output = self.i2o(combined)\n",
    "        output = self.softmax(output)\n",
    "        \n",
    "        return output, hidden\n",
    "    \n",
    "    def init_hidden(self):\n",
    "        '''\n",
    "        Primer vector oculto\n",
    "        -------------------\n",
    "        :returns tensor: Tensor para la primera neurona de entrada\n",
    "                        lleno de puros ceros\n",
    "        '''\n",
    "        return torch.zeros(1,self.hidden_size)"
   ]
  },
  {
   "cell_type": "code",
   "execution_count": 90,
   "metadata": {
    "ExecuteTime": {
     "end_time": "2021-01-22T18:51:13.211066Z",
     "start_time": "2021-01-22T18:51:13.208619Z"
    }
   },
   "outputs": [],
   "source": [
    "n_hidden = 64\n",
    "\n",
    "rnn = RNN(dict_size, n_hidden, n+1)"
   ]
  },
  {
   "cell_type": "code",
   "execution_count": 91,
   "metadata": {
    "ExecuteTime": {
     "end_time": "2021-01-22T18:51:14.128644Z",
     "start_time": "2021-01-22T18:51:14.124446Z"
    }
   },
   "outputs": [
    {
     "name": "stdout",
     "output_type": "stream",
     "text": [
      "torch.Size([1, 11])\n",
      "tensor([[-0.0692,  0.0200, -0.0535,  0.0388,  0.0087,  0.0217,  0.0269,  0.0061,\n",
      "         -0.0023,  0.0102,  0.0624,  0.1160,  0.0130,  0.0876, -0.0144,  0.0057,\n",
      "          0.0082, -0.0284, -0.0892, -0.0179, -0.1264, -0.0028, -0.0290, -0.0245,\n",
      "          0.0565,  0.0116, -0.0055,  0.1520,  0.1505, -0.0772,  0.0405, -0.0030,\n",
      "         -0.0499,  0.0770,  0.0830,  0.0477, -0.0540,  0.0968, -0.0384, -0.0547,\n",
      "          0.0083, -0.1141,  0.0216,  0.0767,  0.0030, -0.1075, -0.1213,  0.0855,\n",
      "         -0.0476, -0.0618, -0.1066, -0.0019, -0.0546, -0.0167, -0.0010,  0.0147,\n",
      "         -0.0102, -0.0060, -0.0024, -0.0426,  0.0148, -0.1179, -0.0148, -0.1132]],\n",
      "       grad_fn=<AddmmBackward>)\n"
     ]
    }
   ],
   "source": [
    "# Un ejemplo de una predicción de un carácter\n",
    "\n",
    "input_tensor = char_to_ohe('A')\n",
    "hidden_tensor = rnn.init_hidden()\n",
    "\n",
    "output, next_hidden = rnn(input_tensor, hidden_tensor)\n",
    "\n",
    "\n",
    "print(output.size())\n",
    "print(next_hidden)"
   ]
  },
  {
   "cell_type": "code",
   "execution_count": 92,
   "metadata": {
    "ExecuteTime": {
     "end_time": "2021-01-22T18:51:15.021069Z",
     "start_time": "2021-01-22T18:51:15.016778Z"
    }
   },
   "outputs": [
    {
     "name": "stdout",
     "output_type": "stream",
     "text": [
      "1\n"
     ]
    }
   ],
   "source": [
    "input_tensor = passw_tensor('qwerty')\n",
    "hidden_tensor = rnn.init_hidden()\n",
    "\n",
    "output, next_hidden = rnn(input_tensor[0], hidden_tensor)\n",
    "\n",
    "def security_from_output(output):\n",
    "    '''\n",
    "    Softmax al final. Predice la seguridad de una contraseña\n",
    "    dado un tensor output\n",
    "    '''\n",
    "    category_idx = torch.argmax(output).item()\n",
    "    return category_idx\n",
    "\n",
    "print(security_from_output(output))"
   ]
  },
  {
   "cell_type": "code",
   "execution_count": 77,
   "metadata": {
    "ExecuteTime": {
     "end_time": "2021-01-22T18:31:13.783836Z",
     "start_time": "2021-01-22T18:31:13.781155Z"
    }
   },
   "outputs": [],
   "source": [
    "model = rnn\n",
    "line_tensor = passw_tensor('qwerty')\n",
    "category_tensor = int_ohe(0)\n",
    "criterion = torch.nn.BCELoss()\n",
    "#train(model, line_tensor, category_tensor, criterion, learning_rate)"
   ]
  },
  {
   "cell_type": "markdown",
   "metadata": {
    "ExecuteTime": {
     "end_time": "2021-01-22T03:50:50.534343Z",
     "start_time": "2021-01-22T03:50:50.523159Z"
    }
   },
   "source": [
    "criterion = nn.MSELoss()\n",
    "learning_rate = 0.005\n",
    "input_prueba = passw_tensor(passes[0])\n",
    "output_prueba = int_ohe(0)\n",
    "train(rnn, input_prueba, output_prueba, criterion, learning_rate )"
   ]
  },
  {
   "cell_type": "code",
   "execution_count": 100,
   "metadata": {
    "ExecuteTime": {
     "end_time": "2021-01-22T23:52:24.805506Z",
     "start_time": "2021-01-22T23:52:24.798057Z"
    }
   },
   "outputs": [],
   "source": [
    "optimizer = torch.optim.Adam(rnn.parameters(), lr=0.1)\n",
    "def train(model, line_tensor, category_tensor, criterion, learning_rate):\n",
    "    '''\n",
    "    Realiza un paso de entrenamiento con un ejemplar y su etiqueta correcta.\n",
    "    -------------------------------------------------------------\n",
    "    :model rnn_net: Modelo a entrenar\n",
    "    :param passw tensor: Contraseña que entrará a la red en OHE\n",
    "    :param category_tensor tensor: Etiqueta correcta\n",
    "    \n",
    "    :returns output tensor: Tensor de predicción\n",
    "    :returns loss float: Pérdida del modelo después del entrenamiento\n",
    "    '''\n",
    "    hidden = model.init_hidden()\n",
    "    for i in range(line_tensor.size()[0]):\n",
    "        output, hidden = model(line_tensor[i], hidden)\n",
    "    #print(output)\n",
    "    loss = criterion(output,category_tensor)\n",
    "    \n",
    "    optimizer.zero_grad()\n",
    "    loss.backward()\n",
    "    optimizer.step()\n",
    "    \n",
    "    return output, loss.item()"
   ]
  },
  {
   "cell_type": "code",
   "execution_count": 101,
   "metadata": {
    "ExecuteTime": {
     "end_time": "2021-01-22T23:52:25.790631Z",
     "start_time": "2021-01-22T23:52:25.785176Z"
    }
   },
   "outputs": [],
   "source": [
    "def train_iterations(model,passes, pass_security, learning_rate=0.01, \n",
    "                     criterion=nn.MSELoss(), n_iters=100000,\n",
    "                     plot_steps=1000, print_steps=5000):\n",
    "    current_loss = 0\n",
    "    all_losses = []\n",
    "\n",
    "    for i in range(n_iters):\n",
    "        password, etiqueta, password_tensor, etiqueta_tensor = random_training_example(\n",
    "                                                                passes,pass_security)\n",
    "        \n",
    "        output, loss = train(model,password_tensor, etiqueta_tensor,criterion,\n",
    "                            learning_rate)\n",
    "        current_loss += loss\n",
    "\n",
    "        if (i+1)%plot_steps == 0:\n",
    "            all_losses.append(current_loss / plot_steps)\n",
    "            current_loss = 0\n",
    "            \n",
    "        if (i+1)%print_steps == 0:\n",
    "            guess = security_from_output(output)\n",
    "            correct = \"CORRECTO\" if guess == etiqueta else f\"EQUIVOCADO ({etiqueta})\"\n",
    "            print(f'''Iter:{i} {i/n_iters *100:.2f}% Perdida:{loss:.4f} \n",
    "            Contrasena:{password} / {guess} {correct}''')\n",
    "            \n",
    "    plt.figure()\n",
    "    plt.plot(all_losses)\n",
    "    plt.show()"
   ]
  },
  {
   "cell_type": "code",
   "execution_count": 102,
   "metadata": {
    "ExecuteTime": {
     "end_time": "2021-01-22T23:52:30.688547Z",
     "start_time": "2021-01-22T23:52:30.678436Z"
    }
   },
   "outputs": [],
   "source": [
    "n_hidden = 64*1\n",
    "\n",
    "rnn = RNN(dict_size, n_hidden, n+1)\n"
   ]
  },
  {
   "cell_type": "code",
   "execution_count": 104,
   "metadata": {
    "ExecuteTime": {
     "end_time": "2021-01-23T00:21:56.013701Z",
     "start_time": "2021-01-22T23:56:16.191880Z"
    },
    "scrolled": true
   },
   "outputs": [
    {
     "name": "stdout",
     "output_type": "stream",
     "text": [
      "Iter:99999 1.00% Perdida:6.2788 \n",
      "            Contrasena:coppi / 7 EQUIVOCADO (6)\n",
      "Iter:199999 2.00% Perdida:6.2831 \n",
      "            Contrasena:chernikov / 9 EQUIVOCADO (3)\n",
      "Iter:299999 3.00% Perdida:6.2831 \n",
      "            Contrasena:Hermine / 9 EQUIVOCADO (2)\n",
      "Iter:399999 4.00% Perdida:6.2755 \n",
      "            Contrasena:1Bubbles / 6 CORRECTO\n",
      "Iter:499999 5.00% Perdida:6.2974 \n",
      "            Contrasena:london7 / 5 EQUIVOCADO (0)\n",
      "Iter:599999 6.00% Perdida:6.3055 \n",
      "            Contrasena:shoess / 6 EQUIVOCADO (2)\n",
      "Iter:699999 7.00% Perdida:6.2861 \n",
      "            Contrasena:heaven12 / 1 EQUIVOCADO (0)\n",
      "Iter:799999 8.00% Perdida:6.2949 \n",
      "            Contrasena:brenda200 / 3 EQUIVOCADO (8)\n",
      "Iter:899999 9.00% Perdida:6.2804 \n",
      "            Contrasena:gelogelo / 5 EQUIVOCADO (3)\n"
     ]
    },
    {
     "ename": "KeyboardInterrupt",
     "evalue": "",
     "output_type": "error",
     "traceback": [
      "\u001b[0;31m---------------------------------------------------------------------------\u001b[0m",
      "\u001b[0;31mKeyboardInterrupt\u001b[0m                         Traceback (most recent call last)",
      "\u001b[0;32m<ipython-input-104-5b55501f01a1>\u001b[0m in \u001b[0;36m<module>\u001b[0;34m\u001b[0m\n\u001b[1;32m      4\u001b[0m \u001b[0mprint_steps\u001b[0m \u001b[0;34m=\u001b[0m \u001b[0mint\u001b[0m\u001b[0;34m(\u001b[0m\u001b[0mn_iters\u001b[0m\u001b[0;34m/\u001b[0m\u001b[0;36m100\u001b[0m\u001b[0;34m)\u001b[0m\u001b[0;34m\u001b[0m\u001b[0;34m\u001b[0m\u001b[0m\n\u001b[1;32m      5\u001b[0m \u001b[0mlearning_rate\u001b[0m \u001b[0;34m=\u001b[0m \u001b[0;36m0.1\u001b[0m\u001b[0;34m\u001b[0m\u001b[0;34m\u001b[0m\u001b[0m\n\u001b[0;32m----> 6\u001b[0;31m train_iterations(rnn,X_train,np.array(y_train),learning_rate, \n\u001b[0m\u001b[1;32m      7\u001b[0m                  n_iters=n_iters, print_steps=print_steps)\n",
      "\u001b[0;32m<ipython-input-101-e87862dad2c3>\u001b[0m in \u001b[0;36mtrain_iterations\u001b[0;34m(model, passes, pass_security, learning_rate, criterion, n_iters, plot_steps, print_steps)\u001b[0m\n\u001b[1;32m      9\u001b[0m                                                                 passes,pass_security)\n\u001b[1;32m     10\u001b[0m \u001b[0;34m\u001b[0m\u001b[0m\n\u001b[0;32m---> 11\u001b[0;31m         output, loss = train(model,password_tensor, etiqueta_tensor,criterion,\n\u001b[0m\u001b[1;32m     12\u001b[0m                             learning_rate)\n\u001b[1;32m     13\u001b[0m         \u001b[0mcurrent_loss\u001b[0m \u001b[0;34m+=\u001b[0m \u001b[0mloss\u001b[0m\u001b[0;34m\u001b[0m\u001b[0;34m\u001b[0m\u001b[0m\n",
      "\u001b[0;32m<ipython-input-100-94a150743f90>\u001b[0m in \u001b[0;36mtrain\u001b[0;34m(model, line_tensor, category_tensor, criterion, learning_rate)\u001b[0m\n\u001b[1;32m     13\u001b[0m     \u001b[0mhidden\u001b[0m \u001b[0;34m=\u001b[0m \u001b[0mmodel\u001b[0m\u001b[0;34m.\u001b[0m\u001b[0minit_hidden\u001b[0m\u001b[0;34m(\u001b[0m\u001b[0;34m)\u001b[0m\u001b[0;34m\u001b[0m\u001b[0;34m\u001b[0m\u001b[0m\n\u001b[1;32m     14\u001b[0m     \u001b[0;32mfor\u001b[0m \u001b[0mi\u001b[0m \u001b[0;32min\u001b[0m \u001b[0mrange\u001b[0m\u001b[0;34m(\u001b[0m\u001b[0mline_tensor\u001b[0m\u001b[0;34m.\u001b[0m\u001b[0msize\u001b[0m\u001b[0;34m(\u001b[0m\u001b[0;34m)\u001b[0m\u001b[0;34m[\u001b[0m\u001b[0;36m0\u001b[0m\u001b[0;34m]\u001b[0m\u001b[0;34m)\u001b[0m\u001b[0;34m:\u001b[0m\u001b[0;34m\u001b[0m\u001b[0;34m\u001b[0m\u001b[0m\n\u001b[0;32m---> 15\u001b[0;31m         \u001b[0moutput\u001b[0m\u001b[0;34m,\u001b[0m \u001b[0mhidden\u001b[0m \u001b[0;34m=\u001b[0m \u001b[0mmodel\u001b[0m\u001b[0;34m(\u001b[0m\u001b[0mline_tensor\u001b[0m\u001b[0;34m[\u001b[0m\u001b[0mi\u001b[0m\u001b[0;34m]\u001b[0m\u001b[0;34m,\u001b[0m \u001b[0mhidden\u001b[0m\u001b[0;34m)\u001b[0m\u001b[0;34m\u001b[0m\u001b[0;34m\u001b[0m\u001b[0m\n\u001b[0m\u001b[1;32m     16\u001b[0m     \u001b[0;31m#print(output)\u001b[0m\u001b[0;34m\u001b[0m\u001b[0;34m\u001b[0m\u001b[0;34m\u001b[0m\u001b[0m\n\u001b[1;32m     17\u001b[0m     \u001b[0mloss\u001b[0m \u001b[0;34m=\u001b[0m \u001b[0mcriterion\u001b[0m\u001b[0;34m(\u001b[0m\u001b[0moutput\u001b[0m\u001b[0;34m,\u001b[0m\u001b[0mcategory_tensor\u001b[0m\u001b[0;34m)\u001b[0m\u001b[0;34m\u001b[0m\u001b[0;34m\u001b[0m\u001b[0m\n",
      "\u001b[0;32m~/anaconda3/lib/python3.8/site-packages/torch/nn/modules/module.py\u001b[0m in \u001b[0;36m_call_impl\u001b[0;34m(self, *input, **kwargs)\u001b[0m\n\u001b[1;32m    725\u001b[0m             \u001b[0mresult\u001b[0m \u001b[0;34m=\u001b[0m \u001b[0mself\u001b[0m\u001b[0;34m.\u001b[0m\u001b[0m_slow_forward\u001b[0m\u001b[0;34m(\u001b[0m\u001b[0;34m*\u001b[0m\u001b[0minput\u001b[0m\u001b[0;34m,\u001b[0m \u001b[0;34m**\u001b[0m\u001b[0mkwargs\u001b[0m\u001b[0;34m)\u001b[0m\u001b[0;34m\u001b[0m\u001b[0;34m\u001b[0m\u001b[0m\n\u001b[1;32m    726\u001b[0m         \u001b[0;32melse\u001b[0m\u001b[0;34m:\u001b[0m\u001b[0;34m\u001b[0m\u001b[0;34m\u001b[0m\u001b[0m\n\u001b[0;32m--> 727\u001b[0;31m             \u001b[0mresult\u001b[0m \u001b[0;34m=\u001b[0m \u001b[0mself\u001b[0m\u001b[0;34m.\u001b[0m\u001b[0mforward\u001b[0m\u001b[0;34m(\u001b[0m\u001b[0;34m*\u001b[0m\u001b[0minput\u001b[0m\u001b[0;34m,\u001b[0m \u001b[0;34m**\u001b[0m\u001b[0mkwargs\u001b[0m\u001b[0;34m)\u001b[0m\u001b[0;34m\u001b[0m\u001b[0;34m\u001b[0m\u001b[0m\n\u001b[0m\u001b[1;32m    728\u001b[0m         for hook in itertools.chain(\n\u001b[1;32m    729\u001b[0m                 \u001b[0m_global_forward_hooks\u001b[0m\u001b[0;34m.\u001b[0m\u001b[0mvalues\u001b[0m\u001b[0;34m(\u001b[0m\u001b[0;34m)\u001b[0m\u001b[0;34m,\u001b[0m\u001b[0;34m\u001b[0m\u001b[0;34m\u001b[0m\u001b[0m\n",
      "\u001b[0;32m<ipython-input-89-7f1db82b9233>\u001b[0m in \u001b[0;36mforward\u001b[0;34m(self, input_tensor, hidden_tensor)\u001b[0m\n\u001b[1;32m     35\u001b[0m         \u001b[0mcombined\u001b[0m \u001b[0;34m=\u001b[0m \u001b[0mtorch\u001b[0m\u001b[0;34m.\u001b[0m\u001b[0mcat\u001b[0m\u001b[0;34m(\u001b[0m\u001b[0;34m(\u001b[0m\u001b[0minput_tensor\u001b[0m\u001b[0;34m,\u001b[0m \u001b[0mhidden_tensor\u001b[0m\u001b[0;34m)\u001b[0m\u001b[0;34m,\u001b[0m\u001b[0;36m1\u001b[0m \u001b[0;34m)\u001b[0m\u001b[0;34m\u001b[0m\u001b[0;34m\u001b[0m\u001b[0m\n\u001b[1;32m     36\u001b[0m \u001b[0;34m\u001b[0m\u001b[0m\n\u001b[0;32m---> 37\u001b[0;31m         \u001b[0mhidden\u001b[0m \u001b[0;34m=\u001b[0m \u001b[0mself\u001b[0m\u001b[0;34m.\u001b[0m\u001b[0mi2h\u001b[0m\u001b[0;34m(\u001b[0m\u001b[0mcombined\u001b[0m\u001b[0;34m)\u001b[0m\u001b[0;34m\u001b[0m\u001b[0;34m\u001b[0m\u001b[0m\n\u001b[0m\u001b[1;32m     38\u001b[0m         \u001b[0moutput\u001b[0m \u001b[0;34m=\u001b[0m \u001b[0mself\u001b[0m\u001b[0;34m.\u001b[0m\u001b[0mi2o\u001b[0m\u001b[0;34m(\u001b[0m\u001b[0mcombined\u001b[0m\u001b[0;34m)\u001b[0m\u001b[0;34m\u001b[0m\u001b[0;34m\u001b[0m\u001b[0m\n\u001b[1;32m     39\u001b[0m         \u001b[0moutput\u001b[0m \u001b[0;34m=\u001b[0m \u001b[0mself\u001b[0m\u001b[0;34m.\u001b[0m\u001b[0msoftmax\u001b[0m\u001b[0;34m(\u001b[0m\u001b[0moutput\u001b[0m\u001b[0;34m)\u001b[0m\u001b[0;34m\u001b[0m\u001b[0;34m\u001b[0m\u001b[0m\n",
      "\u001b[0;32m~/anaconda3/lib/python3.8/site-packages/torch/nn/modules/module.py\u001b[0m in \u001b[0;36m_call_impl\u001b[0;34m(self, *input, **kwargs)\u001b[0m\n\u001b[1;32m    725\u001b[0m             \u001b[0mresult\u001b[0m \u001b[0;34m=\u001b[0m \u001b[0mself\u001b[0m\u001b[0;34m.\u001b[0m\u001b[0m_slow_forward\u001b[0m\u001b[0;34m(\u001b[0m\u001b[0;34m*\u001b[0m\u001b[0minput\u001b[0m\u001b[0;34m,\u001b[0m \u001b[0;34m**\u001b[0m\u001b[0mkwargs\u001b[0m\u001b[0;34m)\u001b[0m\u001b[0;34m\u001b[0m\u001b[0;34m\u001b[0m\u001b[0m\n\u001b[1;32m    726\u001b[0m         \u001b[0;32melse\u001b[0m\u001b[0;34m:\u001b[0m\u001b[0;34m\u001b[0m\u001b[0;34m\u001b[0m\u001b[0m\n\u001b[0;32m--> 727\u001b[0;31m             \u001b[0mresult\u001b[0m \u001b[0;34m=\u001b[0m \u001b[0mself\u001b[0m\u001b[0;34m.\u001b[0m\u001b[0mforward\u001b[0m\u001b[0;34m(\u001b[0m\u001b[0;34m*\u001b[0m\u001b[0minput\u001b[0m\u001b[0;34m,\u001b[0m \u001b[0;34m**\u001b[0m\u001b[0mkwargs\u001b[0m\u001b[0;34m)\u001b[0m\u001b[0;34m\u001b[0m\u001b[0;34m\u001b[0m\u001b[0m\n\u001b[0m\u001b[1;32m    728\u001b[0m         for hook in itertools.chain(\n\u001b[1;32m    729\u001b[0m                 \u001b[0m_global_forward_hooks\u001b[0m\u001b[0;34m.\u001b[0m\u001b[0mvalues\u001b[0m\u001b[0;34m(\u001b[0m\u001b[0;34m)\u001b[0m\u001b[0;34m,\u001b[0m\u001b[0;34m\u001b[0m\u001b[0;34m\u001b[0m\u001b[0m\n",
      "\u001b[0;32m~/anaconda3/lib/python3.8/site-packages/torch/nn/modules/linear.py\u001b[0m in \u001b[0;36mforward\u001b[0;34m(self, input)\u001b[0m\n\u001b[1;32m     91\u001b[0m \u001b[0;34m\u001b[0m\u001b[0m\n\u001b[1;32m     92\u001b[0m     \u001b[0;32mdef\u001b[0m \u001b[0mforward\u001b[0m\u001b[0;34m(\u001b[0m\u001b[0mself\u001b[0m\u001b[0;34m,\u001b[0m \u001b[0minput\u001b[0m\u001b[0;34m:\u001b[0m \u001b[0mTensor\u001b[0m\u001b[0;34m)\u001b[0m \u001b[0;34m->\u001b[0m \u001b[0mTensor\u001b[0m\u001b[0;34m:\u001b[0m\u001b[0;34m\u001b[0m\u001b[0;34m\u001b[0m\u001b[0m\n\u001b[0;32m---> 93\u001b[0;31m         \u001b[0;32mreturn\u001b[0m \u001b[0mF\u001b[0m\u001b[0;34m.\u001b[0m\u001b[0mlinear\u001b[0m\u001b[0;34m(\u001b[0m\u001b[0minput\u001b[0m\u001b[0;34m,\u001b[0m \u001b[0mself\u001b[0m\u001b[0;34m.\u001b[0m\u001b[0mweight\u001b[0m\u001b[0;34m,\u001b[0m \u001b[0mself\u001b[0m\u001b[0;34m.\u001b[0m\u001b[0mbias\u001b[0m\u001b[0;34m)\u001b[0m\u001b[0;34m\u001b[0m\u001b[0;34m\u001b[0m\u001b[0m\n\u001b[0m\u001b[1;32m     94\u001b[0m \u001b[0;34m\u001b[0m\u001b[0m\n\u001b[1;32m     95\u001b[0m     \u001b[0;32mdef\u001b[0m \u001b[0mextra_repr\u001b[0m\u001b[0;34m(\u001b[0m\u001b[0mself\u001b[0m\u001b[0;34m)\u001b[0m \u001b[0;34m->\u001b[0m \u001b[0mstr\u001b[0m\u001b[0;34m:\u001b[0m\u001b[0;34m\u001b[0m\u001b[0;34m\u001b[0m\u001b[0m\n",
      "\u001b[0;32m~/anaconda3/lib/python3.8/site-packages/torch/nn/functional.py\u001b[0m in \u001b[0;36mlinear\u001b[0;34m(input, weight, bias)\u001b[0m\n\u001b[1;32m   1688\u001b[0m     \u001b[0;32mif\u001b[0m \u001b[0minput\u001b[0m\u001b[0;34m.\u001b[0m\u001b[0mdim\u001b[0m\u001b[0;34m(\u001b[0m\u001b[0;34m)\u001b[0m \u001b[0;34m==\u001b[0m \u001b[0;36m2\u001b[0m \u001b[0;32mand\u001b[0m \u001b[0mbias\u001b[0m \u001b[0;32mis\u001b[0m \u001b[0;32mnot\u001b[0m \u001b[0;32mNone\u001b[0m\u001b[0;34m:\u001b[0m\u001b[0;34m\u001b[0m\u001b[0;34m\u001b[0m\u001b[0m\n\u001b[1;32m   1689\u001b[0m         \u001b[0;31m# fused op is marginally faster\u001b[0m\u001b[0;34m\u001b[0m\u001b[0;34m\u001b[0m\u001b[0;34m\u001b[0m\u001b[0m\n\u001b[0;32m-> 1690\u001b[0;31m         \u001b[0mret\u001b[0m \u001b[0;34m=\u001b[0m \u001b[0mtorch\u001b[0m\u001b[0;34m.\u001b[0m\u001b[0maddmm\u001b[0m\u001b[0;34m(\u001b[0m\u001b[0mbias\u001b[0m\u001b[0;34m,\u001b[0m \u001b[0minput\u001b[0m\u001b[0;34m,\u001b[0m \u001b[0mweight\u001b[0m\u001b[0;34m.\u001b[0m\u001b[0mt\u001b[0m\u001b[0;34m(\u001b[0m\u001b[0;34m)\u001b[0m\u001b[0;34m)\u001b[0m\u001b[0;34m\u001b[0m\u001b[0;34m\u001b[0m\u001b[0m\n\u001b[0m\u001b[1;32m   1691\u001b[0m     \u001b[0;32melse\u001b[0m\u001b[0;34m:\u001b[0m\u001b[0;34m\u001b[0m\u001b[0;34m\u001b[0m\u001b[0m\n\u001b[1;32m   1692\u001b[0m         \u001b[0moutput\u001b[0m \u001b[0;34m=\u001b[0m \u001b[0minput\u001b[0m\u001b[0;34m.\u001b[0m\u001b[0mmatmul\u001b[0m\u001b[0;34m(\u001b[0m\u001b[0mweight\u001b[0m\u001b[0;34m.\u001b[0m\u001b[0mt\u001b[0m\u001b[0;34m(\u001b[0m\u001b[0;34m)\u001b[0m\u001b[0;34m)\u001b[0m\u001b[0;34m\u001b[0m\u001b[0;34m\u001b[0m\u001b[0m\n",
      "\u001b[0;31mKeyboardInterrupt\u001b[0m: "
     ]
    }
   ],
   "source": [
    "criterion = nn.NLLLoss()\n",
    "#n_iters = len(X_train)\n",
    "n_iters = 10000000\n",
    "print_steps = int(n_iters/100)\n",
    "learning_rate = 0.1\n",
    "train_iterations(rnn,X_train,np.array(y_train),learning_rate, \n",
    "                 n_iters=n_iters, print_steps=print_steps)"
   ]
  },
  {
   "cell_type": "code",
   "execution_count": 300,
   "metadata": {
    "ExecuteTime": {
     "end_time": "2021-01-22T12:57:07.958095Z",
     "start_time": "2021-01-22T12:57:07.955362Z"
    }
   },
   "outputs": [],
   "source": [
    "rnn2 = rnn = RNN(dict_size, n_hidden, n+1)"
   ]
  },
  {
   "cell_type": "code",
   "execution_count": 301,
   "metadata": {
    "ExecuteTime": {
     "end_time": "2021-01-22T13:30:51.506121Z",
     "start_time": "2021-01-22T12:57:09.636076Z"
    }
   },
   "outputs": [
    {
     "name": "stdout",
     "output_type": "stream",
     "text": [
      "Iter:43363 4.00% Perdida:12.0623 \n",
      "            Contrasena:955955 / 22 EQUIVOCADO (5)\n",
      "Iter:86727 8.00% Perdida:12.0555 \n",
      "            Contrasena:1214151 / 9 EQUIVOCADO (20)\n",
      "Iter:130091 12.00% Perdida:12.0661 \n",
      "            Contrasena:ilovecs / 15 EQUIVOCADO (9)\n",
      "Iter:173455 16.00% Perdida:12.0554 \n",
      "            Contrasena:Universal / 15 EQUIVOCADO (6)\n",
      "Iter:216819 20.00% Perdida:12.0629 \n",
      "            Contrasena:19680817 / 17 EQUIVOCADO (18)\n",
      "Iter:260183 24.00% Perdida:12.0564 \n",
      "            Contrasena:theos / 15 EQUIVOCADO (13)\n",
      "Iter:303547 28.00% Perdida:12.0534 \n",
      "            Contrasena:071481 / 9 EQUIVOCADO (10)\n",
      "Iter:346911 32.00% Perdida:12.0627 \n",
      "            Contrasena:32399 / 7 EQUIVOCADO (16)\n",
      "Iter:390275 36.00% Perdida:12.0679 \n",
      "            Contrasena:mchs1993 / 17 EQUIVOCADO (23)\n",
      "Iter:433639 40.00% Perdida:12.0604 \n",
      "            Contrasena:bunny007 / 17 EQUIVOCADO (7)\n",
      "Iter:477003 44.00% Perdida:12.0600 \n",
      "            Contrasena:182002 / 22 EQUIVOCADO (6)\n",
      "Iter:520367 48.00% Perdida:12.0558 \n",
      "            Contrasena:Saturda1 / 9 EQUIVOCADO (27)\n",
      "Iter:563731 52.00% Perdida:12.0578 \n",
      "            Contrasena:197295 / 22 EQUIVOCADO (15)\n",
      "Iter:607095 56.00% Perdida:12.0721 \n",
      "            Contrasena:123Boffo / 15 EQUIVOCADO (26)\n",
      "Iter:650459 60.00% Perdida:12.0555 \n",
      "            Contrasena:106104 / 17 CORRECTO\n",
      "Iter:693823 64.00% Perdida:12.0754 \n",
      "            Contrasena:psm2005 / 28 EQUIVOCADO (25)\n",
      "Iter:737187 68.00% Perdida:12.0649 \n",
      "            Contrasena:clem1688 / 17 EQUIVOCADO (21)\n",
      "Iter:780551 72.00% Perdida:12.0609 \n",
      "            Contrasena:boobooboo / 15 EQUIVOCADO (3)\n",
      "Iter:823915 76.00% Perdida:12.0644 \n",
      "            Contrasena:vsb999 / 7 EQUIVOCADO (29)\n",
      "Iter:867279 80.00% Perdida:12.0631 \n",
      "            Contrasena:fktrcfylh123 / 28 EQUIVOCADO (9)\n",
      "Iter:910643 84.00% Perdida:12.0578 \n",
      "            Contrasena:alamierd / 17 EQUIVOCADO (25)\n",
      "Iter:954007 88.00% Perdida:12.0597 \n",
      "            Contrasena:rafa12 / 9 EQUIVOCADO (3)\n",
      "Iter:997371 92.00% Perdida:12.0810 \n",
      "            Contrasena:zseqsx / 22 EQUIVOCADO (16)\n",
      "Iter:1040735 96.00% Perdida:12.0725 \n",
      "            Contrasena:GAMBIT / 15 EQUIVOCADO (10)\n",
      "Iter:1084099 100.00% Perdida:12.0668 \n",
      "            Contrasena:444345 / 28 EQUIVOCADO (14)\n"
     ]
    },
    {
     "data": {
      "image/png": "[encoded data removed]",
      "text/plain": [
       "<Figure size 432x288 with 1 Axes>"
      ]
     },
     "metadata": {
      "needs_background": "light"
     },
     "output_type": "display_data"
    }
   ],
   "source": [
    "criterion = nn.NLLLoss()\n",
    "n_iters = len(X_train)*2\n",
    "print_steps = int(n_iters/25)\n",
    "learning_rate = 0.005\n",
    "train_iterations(rnn,passes,pass_security,learning_rate, \n",
    "                 n_iters=n_iters, print_steps=print_steps)"
   ]
  },
  {
   "cell_type": "code",
   "execution_count": null,
   "metadata": {},
   "outputs": [],
   "source": []
  },
  {
   "cell_type": "code",
   "execution_count": null,
   "metadata": {},
   "outputs": [],
   "source": [
    "class RNN_pass(nn.Module):\n",
    "    def __init__(self, input_size, hidden_size, num_layers, num_classes):\n",
    "        super(RNN, self).__init__()\n",
    "        self.num_layers = num_layers\n",
    "        self.hidden_size = hidden_size\n",
    "        self.rnn = nn.RNN(input_size, hidden_size, num_layers)\n",
    "                         #,batch_first=True) \n",
    "                    # x se ve -> (batch_size, seq, input_size)\n",
    "        self.fc = nn.Linear(hidden_size, num_classes) #Solo usamos la última\n",
    "                                                      #capa\n",
    "            \n",
    "    def forward(self, x):\n",
    "        # Primer vector de memoria\n",
    "        device = 'CPU'\n",
    "        h0 = torch.zeros(self.num_layers, x.size(0), \n",
    "                         self.hidden_size).to(device)\n",
    "        out, _ = self.rnn(x,h0) #Corre la red recurrente para x,\n",
    "                                # el segundo parámetro no lo necesitamos,\n",
    "                                # pues es la matriz h_t\n",
    "                \n",
    "        #out: batch_size, seq_length, hidden_size        "
   ]
  },
  {
   "cell_type": "code",
   "execution_count": null,
   "metadata": {},
   "outputs": [],
   "source": []
  },
  {
   "cell_type": "code",
   "execution_count": 128,
   "metadata": {
    "ExecuteTime": {
     "end_time": "2021-01-23T00:49:52.302858Z",
     "start_time": "2021-01-23T00:49:52.293821Z"
    }
   },
   "outputs": [],
   "source": [
    "import torch\n",
    "import torch.nn as nn\n",
    "import matplotlib.pyplot as plt\n",
    "\n",
    "class RNN(nn.Module):\n",
    "    \n",
    "    def __init__(self, input_size, hidden_size, output_size):\n",
    "        '''\n",
    "        Parámetros de inicialización\n",
    "        ---------------------------------\n",
    "        :param input_size int: Tamaño de entrada\n",
    "        :param hidden_size int: Número de neuronas en las capas ocultas\n",
    "        :param output_size int: Neuronas en las capas de salida\n",
    "        '''\n",
    "        \n",
    "        super(RNN, self).__init__()\n",
    "        \n",
    "        self.hidden_size = hidden_size\n",
    "        self.rnn = nn.RNN(input_size, hidden_size)\n",
    "        self.softmax = nn.LogSoftmax(dim=1) #Input por ejemplo 1,57\n",
    "    \n",
    "    def forward(self, input_tensor):\n",
    "        '''\n",
    "        Realiza feed-forward con las neuronas de entrada y el tensor\n",
    "        resultante de la iteración anterior\n",
    "        ------------------------------------------\n",
    "        :param input_tensor tensor: Tensor de neuronas de entrada\n",
    "        :param hidden_tensor tensor: Tensor de 'memoria asociativa'\n",
    "                                de la entrada anterior\n",
    "        \n",
    "        :returns output tensor: Tensor de salida\n",
    "        :returns hidden tensor: Tensor para la entrada siguiente\n",
    "        '''\n",
    "        hidden0 = self.init_hidden\n",
    "        output,_ = self.rnn(input_tensor,hidden_tensor)\n",
    "        output = self.softmax(output)\n",
    "        \n",
    "        return output, hidden\n",
    "    \n",
    "    def init_hidden(self):\n",
    "        '''\n",
    "        Primer vector oculto\n",
    "        -------------------\n",
    "        :returns tensor: Tensor para la primera neurona de entrada\n",
    "                        lleno de puros ceros\n",
    "        '''\n",
    "        return torch.zeros(1,self.hidden_size)"
   ]
  },
  {
   "cell_type": "code",
   "execution_count": 129,
   "metadata": {
    "ExecuteTime": {
     "end_time": "2021-01-23T00:49:53.260294Z",
     "start_time": "2021-01-23T00:49:53.255968Z"
    }
   },
   "outputs": [],
   "source": [
    "def train(model, input_tensor, labels, n_iters, optimizer, criterion,\n",
    "         batch_size = 200):\n",
    "    total_loss = []\n",
    "    intervalos = list(range(len(input_tensor),batch_size)) + [None]\n",
    "    \n",
    "    for iter in range(n_iters):\n",
    "        for i in range(len(intervalos)-1):\n",
    "            inicio = i\n",
    "            fin = i+1\n",
    "            outputs, _ = model.forward(input_tensor[inicio:fin])\n",
    "            optimizer.zero_grad()\n",
    "            loss = criterion(outputs, labels[inicio:fin])\n",
    "            loss.backward()\n",
    "            optimizer.step()\n",
    "        total_loss.append(loss.item())\n",
    "        \n",
    "        if (iter)%n_iters//50 == 1:\n",
    "            print('Error:',loss.item())\n",
    "    plt.plot(total_loss)"
   ]
  },
  {
   "cell_type": "code",
   "execution_count": 130,
   "metadata": {
    "ExecuteTime": {
     "end_time": "2021-01-23T00:49:54.099350Z",
     "start_time": "2021-01-23T00:49:54.096318Z"
    }
   },
   "outputs": [
    {
     "data": {
      "text/plain": [
       "82"
      ]
     },
     "execution_count": 130,
     "metadata": {},
     "output_type": "execute_result"
    }
   ],
   "source": [
    "pass_net = RNN(dict_size, 128, n+1) \n",
    "dict_size"
   ]
  },
  {
   "cell_type": "code",
   "execution_count": 136,
   "metadata": {
    "ExecuteTime": {
     "end_time": "2021-01-23T01:19:40.717387Z",
     "start_time": "2021-01-23T01:19:40.693389Z"
    }
   },
   "outputs": [
    {
     "ename": "ValueError",
     "evalue": "only one element tensors can be converted to Python scalars",
     "output_type": "error",
     "traceback": [
      "\u001b[0;31m---------------------------------------------------------------------------\u001b[0m",
      "\u001b[0;31mValueError\u001b[0m                                Traceback (most recent call last)",
      "\u001b[0;32m<ipython-input-136-04434c496018>\u001b[0m in \u001b[0;36m<module>\u001b[0;34m\u001b[0m\n\u001b[1;32m      1\u001b[0m \u001b[0mprueba\u001b[0m \u001b[0;34m=\u001b[0m \u001b[0mpassw_tensor\u001b[0m\u001b[0;34m(\u001b[0m\u001b[0mX_train\u001b[0m\u001b[0;34m[\u001b[0m\u001b[0;36m1\u001b[0m\u001b[0;34m]\u001b[0m\u001b[0;34m)\u001b[0m\u001b[0;34m\u001b[0m\u001b[0;34m\u001b[0m\u001b[0m\n\u001b[0;32m----> 2\u001b[0;31m \u001b[0mpass_net\u001b[0m\u001b[0;34m(\u001b[0m\u001b[0mtorch\u001b[0m\u001b[0;34m.\u001b[0m\u001b[0mtensor\u001b[0m\u001b[0;34m(\u001b[0m\u001b[0;34m(\u001b[0m\u001b[0mlen\u001b[0m\u001b[0;34m(\u001b[0m\u001b[0mprueba\u001b[0m\u001b[0;34m)\u001b[0m\u001b[0;34m,\u001b[0m\u001b[0mprueba\u001b[0m\u001b[0;34m)\u001b[0m\u001b[0;34m)\u001b[0m\u001b[0;34m)\u001b[0m\u001b[0;34m\u001b[0m\u001b[0;34m\u001b[0m\u001b[0m\n\u001b[0m",
      "\u001b[0;31mValueError\u001b[0m: only one element tensors can be converted to Python scalars"
     ]
    }
   ],
   "source": [
    "prueba = passw_tensor(X_train[1])\n",
    "pass_net(torch.tensor()"
   ]
  },
  {
   "cell_type": "code",
   "execution_count": null,
   "metadata": {},
   "outputs": [],
   "source": []
  },
  {
   "cell_type": "code",
   "execution_count": 107,
   "metadata": {
    "ExecuteTime": {
     "end_time": "2021-01-23T00:37:52.808816Z",
     "start_time": "2021-01-23T00:37:52.797288Z"
    }
   },
   "outputs": [
    {
     "data": {
      "text/plain": [
       "[0, 100, 200, 300, 400, 500]"
      ]
     },
     "execution_count": 107,
     "metadata": {},
     "output_type": "execute_result"
    }
   ],
   "source": [
    "list(range(0,505,100))"
   ]
  },
  {
   "cell_type": "code",
   "execution_count": null,
   "metadata": {},
   "outputs": [],
   "source": []
  },
  {
   "cell_type": "code",
   "execution_count": null,
   "metadata": {},
   "outputs": [],
   "source": []
  },
  {
   "cell_type": "code",
   "execution_count": null,
   "metadata": {},
   "outputs": [],
   "source": []
  },
  {
   "cell_type": "code",
   "execution_count": 22,
   "metadata": {
    "ExecuteTime": {
     "end_time": "2021-01-23T04:49:45.518401Z",
     "start_time": "2021-01-23T04:49:45.478356Z"
    }
   },
   "outputs": [],
   "source": [
    "import torch\n",
    "import torch.nn as nn\n",
    "import matplotlib.pyplot as plt\n",
    "\n",
    "class RNN(nn.Module):\n",
    "    \n",
    "    def __init__(self, input_size,layer1_size ,hidden_size, output_size):\n",
    "        '''\n",
    "        Parámetros de inicialización\n",
    "        ---------------------------------\n",
    "        :param input_size int: Tamaño de entrada\n",
    "        :param hidden_size int: Número de neuronas en las capas ocultas\n",
    "        :param output_size int: Neuronas en las capas de salida\n",
    "        '''\n",
    "        \n",
    "        super(RNN, self).__init__()\n",
    "        \n",
    "        self.hidden_size = hidden_size\n",
    "        self.fc1 = nn.Linear(input_size + hidden_size, layer1_size)\n",
    "        self.i2h = nn.Linear(layer1_size, hidden_size)\n",
    "        self.i2o = nn.Linear(layer1_size, output_size)\n",
    "        self.softmax = nn.LogSoftmax() #Input por ejemplo 1,57\n",
    "    \n",
    "    def forward(self, input_tensor, hidden_tensor):\n",
    "        '''\n",
    "        Realiza feed-forward con las neuronas de entrada y el tensor\n",
    "        resultante de la iteración anterior\n",
    "        ------------------------------------------\n",
    "        :param input_tensor tensor: Tensor de neuronas de entrada\n",
    "        :param hidden_tensor tensor: Tensor de 'memoria asociativa'\n",
    "                                de la entrada anterior\n",
    "        \n",
    "        :returns output tensor: Tensor de salida\n",
    "        :returns hidden tensor: Tensor para la entrada siguiente\n",
    "        '''\n",
    "        \n",
    "        combined = torch.cat((input_tensor, hidden_tensor),1 )\n",
    "        #print(combined)\n",
    "        layer1 = torch.sigmoid(self.fc1(combined))\n",
    "        hidden = self.i2h(layer1)\n",
    "        output = self.i2o(layer1)\n",
    "        output = self.softmax(output)\n",
    "        \n",
    "        return output, hidden\n",
    "    \n",
    "    def init_hidden(self):\n",
    "        '''\n",
    "        Primer vector oculto\n",
    "        -------------------\n",
    "        :returns tensor: Tensor para la primera neurona de entrada\n",
    "                        lleno de puros ceros\n",
    "        '''\n",
    "        return torch.zeros(1,self.hidden_size)"
   ]
  },
  {
   "cell_type": "code",
   "execution_count": 35,
   "metadata": {
    "ExecuteTime": {
     "end_time": "2021-01-23T06:47:11.339607Z",
     "start_time": "2021-01-23T06:47:11.332222Z"
    }
   },
   "outputs": [],
   "source": [
    "def train_iterations(model,passes, pass_security, optimizer, learning_rate=0.01, \n",
    "                     criterion=nn.MSELoss(), n_iters=1000, batch_size=5000):\n",
    "    current_loss = 0\n",
    "    all_losses = []\n",
    "\n",
    "    for i in range(n_iters):\n",
    "        \n",
    "        optimizer.zero_grad()\n",
    "        \n",
    "        for batch_iter in range(batch_size):\n",
    "            password, etiqueta, password_tensor, etiqueta_tensor = random_training_example(\n",
    "                                                                    passes,pass_security)\n",
    "            output, loss = train(model,password_tensor, etiqueta_tensor,criterion,\n",
    "                                learning_rate, optimizer)\n",
    "            current_loss += loss\n",
    "\n",
    "        optimizer.step()\n",
    "        \n",
    "        if (i+1)%5 == 0:\n",
    "            print(i,':', current_loss)\n",
    "            all_losses.append(current_loss / batch_size)\n",
    "            current_loss = 0\n",
    "            \n",
    "        #if (i+1)%n_iters/50 == 0:\n",
    "        #    guess = security_from_output(output)\n",
    "        #    correct = \"CORRECTO\" if guess == etiqueta else f\"EQUIVOCADO ({etiqueta})\"\n",
    "        #    print(f'''Iter:{i} {i/n_iters *100:.2f}% Perdida:{loss:.4f} \n",
    "        #    Contrasena:{password} / {guess} {correct}''')\n",
    "            \n",
    "    plt.figure()\n",
    "    plt.plot(all_losses)\n",
    "    plt.show()"
   ]
  },
  {
   "cell_type": "code",
   "execution_count": 36,
   "metadata": {
    "ExecuteTime": {
     "end_time": "2021-01-23T06:47:12.290530Z",
     "start_time": "2021-01-23T06:47:12.287457Z"
    }
   },
   "outputs": [],
   "source": [
    "\n",
    "def train(model, line_tensor, category_tensor, criterion, learning_rate, optimizer):\n",
    "    '''\n",
    "    Realiza un paso de entrenamiento con un ejemplar y su etiqueta correcta.\n",
    "    -------------------------------------------------------------\n",
    "    :model rnn_net: Modelo a entrenar\n",
    "    :param passw tensor: Contraseña que entrará a la red en OHE\n",
    "    :param category_tensor tensor: Etiqueta correcta\n",
    "    \n",
    "    :returns output tensor: Tensor de predicción\n",
    "    :returns loss float: Pérdida del modelo después del entrenamiento\n",
    "    '''\n",
    "    #print(line_tensor)\n",
    "    hidden = model.init_hidden()\n",
    "    for i in range(line_tensor.size()[0]):\n",
    "        output, hidden = model(line_tensor[i], hidden)\n",
    "\n",
    "    loss = criterion(output,category_tensor)\n",
    "    loss.backward()\n",
    "    \n",
    "    \n",
    "    return output, loss.item()"
   ]
  },
  {
   "cell_type": "code",
   "execution_count": 37,
   "metadata": {
    "ExecuteTime": {
     "end_time": "2021-01-23T06:47:13.118267Z",
     "start_time": "2021-01-23T06:47:13.115844Z"
    }
   },
   "outputs": [],
   "source": [
    "pass_net = RNN(dict_size,32,128,n+1)"
   ]
  },
  {
   "cell_type": "code",
   "execution_count": null,
   "metadata": {
    "ExecuteTime": {
     "start_time": "2021-01-23T06:47:17.945Z"
    }
   },
   "outputs": [
    {
     "name": "stderr",
     "output_type": "stream",
     "text": [
      "<ipython-input-22-07ec120d4158>:42: UserWarning: Implicit dimension choice for log_softmax has been deprecated. Change the call to include dim=X as an argument.\n",
      "  output = self.softmax(output)\n"
     ]
    },
    {
     "name": "stdout",
     "output_type": "stream",
     "text": [
      "4 : 180686.6856226921\n",
      "9 : 158207.23965454102\n",
      "14 : 157728.48303318024\n",
      "19 : 157172.43016767502\n",
      "24 : 157152.39694595337\n",
      "29 : 157081.59831762314\n",
      "34 : 156984.65678453445\n",
      "39 : 156964.71923971176\n",
      "44 : 156950.23340463638\n",
      "49 : 156930.78427124023\n",
      "54 : 156926.69552230835\n",
      "59 : 156920.82666444778\n",
      "64 : 156917.6409239769\n",
      "69 : 156916.7630391121\n",
      "74 : 156915.28966665268\n",
      "79 : 156914.92451143265\n",
      "84 : 156914.59390878677\n",
      "89 : 156914.397585392\n",
      "94 : 156914.25785541534\n",
      "99 : 156914.1461277008\n",
      "104 : 156914.04419708252\n",
      "109 : 156913.9960179329\n",
      "114 : 156913.95074367523\n",
      "119 : 156913.99814033508\n",
      "124 : 156913.89306735992\n",
      "129 : 156913.9281926155\n",
      "134 : 156913.91936731339\n",
      "139 : 156913.87963294983\n",
      "144 : 156913.9039463997\n",
      "149 : 156913.89954566956\n",
      "154 : 156913.94660186768\n",
      "159 : 156913.8699235916\n",
      "164 : 156913.9135904312\n",
      "169 : 156913.88705921173\n",
      "174 : 156913.88965034485\n",
      "179 : 156913.96074056625\n",
      "184 : 156913.952729702\n",
      "189 : 156913.95811367035\n",
      "194 : 156913.95165586472\n",
      "199 : 156913.9396634102\n",
      "204 : 156913.95790052414\n",
      "209 : 156913.90423679352\n",
      "214 : 156914.01833295822\n",
      "219 : 156913.95353078842\n",
      "224 : 156913.9930510521\n",
      "229 : 156913.88403511047\n",
      "234 : 156913.8679151535\n",
      "239 : 156913.92715215683\n",
      "244 : 156913.92221355438\n",
      "249 : 156913.9163866043\n",
      "254 : 156913.8936753273\n",
      "259 : 156913.91165447235\n",
      "264 : 156913.90390491486\n",
      "269 : 156913.8806157112\n",
      "274 : 156913.8895225525\n",
      "279 : 156913.92775011063\n",
      "284 : 156913.93011522293\n",
      "289 : 156913.93032932281\n",
      "294 : 156913.94140958786\n",
      "299 : 156913.95958280563\n",
      "304 : 156913.94732141495\n",
      "309 : 156913.9349808693\n",
      "314 : 156913.93601417542\n",
      "319 : 156913.99550914764\n",
      "324 : 156913.9405117035\n",
      "329 : 156913.90477609634\n",
      "334 : 156913.88239765167\n",
      "339 : 156913.92138051987\n",
      "344 : 156913.94381523132\n",
      "349 : 156913.92576026917\n",
      "354 : 156913.9156370163\n",
      "359 : 156913.98855304718\n",
      "364 : 156914.06023311615\n",
      "369 : 156914.1613354683\n",
      "374 : 156914.27888727188\n",
      "379 : 156914.01095581055\n",
      "384 : 156914.02644443512\n",
      "389 : 156913.97375249863\n",
      "394 : 156914.06824207306\n",
      "399 : 156914.00080490112\n",
      "404 : 156913.99316978455\n",
      "409 : 156914.0194630623\n",
      "414 : 156914.02067184448\n",
      "419 : 156914.07218313217\n",
      "424 : 156913.9216647148\n",
      "429 : 156913.865752697\n",
      "434 : 156913.90273666382\n",
      "439 : 156914.05732297897\n",
      "444 : 156913.95370912552\n",
      "449 : 156913.9470653534\n",
      "454 : 156913.98780822754\n",
      "459 : 156913.9835371971\n",
      "464 : 156913.9951953888\n",
      "469 : 156914.04654073715\n",
      "474 : 156913.93253612518\n",
      "479 : 156914.0551109314\n",
      "484 : 156914.03915309906\n",
      "489 : 156914.07133674622\n",
      "494 : 156913.98307704926\n",
      "499 : 156914.0934958458\n",
      "504 : 156914.03350305557\n",
      "509 : 156914.06114292145\n",
      "514 : 156913.97292804718\n",
      "519 : 156913.88986301422\n",
      "524 : 156913.9788684845\n",
      "529 : 156913.96810483932\n",
      "534 : 156913.94721984863\n",
      "539 : 156913.91314792633\n",
      "544 : 156914.11843204498\n",
      "549 : 156914.028963089\n",
      "554 : 156914.0320329666\n",
      "559 : 156914.0158586502\n",
      "564 : 156914.10414409637\n",
      "569 : 156914.22052764893\n",
      "574 : 156914.28805732727\n",
      "579 : 156914.1236925125\n",
      "584 : 156914.15553808212\n",
      "589 : 156914.10351228714\n",
      "594 : 156914.06061458588\n",
      "599 : 156914.0653977394\n",
      "604 : 156913.96328496933\n",
      "609 : 156913.91656589508\n",
      "614 : 156913.94476652145\n",
      "619 : 156914.00654268265\n",
      "624 : 156914.1257352829\n",
      "629 : 156913.9336090088\n",
      "634 : 156913.9582567215\n",
      "639 : 156914.05118846893\n",
      "644 : 156914.1113562584\n",
      "649 : 156913.9540667534\n",
      "654 : 156913.99098587036\n",
      "659 : 156913.91245746613\n",
      "664 : 156914.01345157623\n",
      "669 : 156914.00669908524\n",
      "674 : 156914.04646396637\n",
      "679 : 156914.16037130356\n",
      "684 : 156914.22524356842\n",
      "689 : 156914.0621085167\n",
      "694 : 156914.05386924744\n",
      "699 : 156914.0269370079\n",
      "704 : 156913.98582696915\n",
      "709 : 156914.06275844574\n",
      "714 : 156914.05142736435\n",
      "719 : 156914.10823726654\n",
      "724 : 156914.27905988693\n",
      "729 : 156914.17401838303\n",
      "734 : 156914.08295869827\n",
      "739 : 156913.94579792023\n",
      "744 : 156914.05389976501\n",
      "749 : 156914.09778404236\n",
      "754 : 156914.04703187943\n",
      "759 : 156914.1440577507\n",
      "764 : 156914.3377046585\n",
      "769 : 156914.26292848587\n",
      "774 : 156914.26045417786\n",
      "779 : 156914.0856204033\n"
     ]
    }
   ],
   "source": [
    "optimizer = torch.optim.Adam(pass_net.parameters(),lr=0.1)\n",
    "criterion = nn.NLLLoss()\n",
    "train_iterations(pass_net,X_train,y_train,optimizer,n_iters=1000)"
   ]
  },
  {
   "cell_type": "code",
   "execution_count": null,
   "metadata": {},
   "outputs": [],
   "source": []
  },
  {
   "cell_type": "code",
   "execution_count": null,
   "metadata": {},
   "outputs": [],
   "source": []
  },
  {
   "cell_type": "code",
   "execution_count": null,
   "metadata": {},
   "outputs": [],
   "source": []
  }
 ],
 "metadata": {
  "hide_input": false,
  "kernelspec": {
   "display_name": "Python 3",
   "language": "python",
   "name": "python3"
  },
  "language_info": {
   "codemirror_mode": {
    "name": "ipython",
    "version": 3
   },
   "file_extension": ".py",
   "mimetype": "text/x-python",
   "name": "python",
   "nbconvert_exporter": "python",
   "pygments_lexer": "ipython3",
   "version": "3.8.3"
  },
  "varInspector": {
   "cols": {
    "lenName": 16,
    "lenType": 16,
    "lenVar": 40
   },
   "kernels_config": {
    "python": {
     "delete_cmd_postfix": "",
     "delete_cmd_prefix": "del ",
     "library": "var_list.py",
     "varRefreshCmd": "print(var_dic_list())"
    },
    "r": {
     "delete_cmd_postfix": ") ",
     "delete_cmd_prefix": "rm(",
     "library": "var_list.r",
     "varRefreshCmd": "cat(var_dic_list()) "
    }
   },
   "types_to_exclude": [
    "module",
    "function",
    "builtin_function_or_method",
    "instance",
    "_Feature"
   ],
   "window_display": false
  }
 },
 "nbformat": 4,
 "nbformat_minor": 4
}
