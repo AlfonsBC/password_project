{
 "cells": [
  {
   "cell_type": "code",
   "execution_count": 1,
   "metadata": {
    "ExecuteTime": {
     "end_time": "2021-01-24T17:11:02.222707Z",
     "start_time": "2021-01-24T17:11:02.093757Z"
    }
   },
   "outputs": [],
   "source": [
    "import random\n",
    "import pandas as pd"
   ]
  },
  {
   "cell_type": "code",
   "execution_count": 14,
   "metadata": {
    "ExecuteTime": {
     "end_time": "2021-01-24T17:12:45.193846Z",
     "start_time": "2021-01-24T17:12:45.188659Z"
    }
   },
   "outputs": [],
   "source": [
    "def get_pass(n, print_valor = False):\n",
    "    data = pd.read_csv(\"my_dicewareEsp.csv\")\n",
    "    palabras = data.sample(n)\n",
    "    if print_valor : print(palabras)\n",
    "    passphrase = \"\"\n",
    "    for val in palabras[\"valor\"]:\n",
    "        passphrase = passphrase + val +\"_\"\n",
    "    return passphrase[:-1]"
   ]
  },
  {
   "cell_type": "code",
   "execution_count": 19,
   "metadata": {
    "ExecuteTime": {
     "end_time": "2021-01-24T17:12:49.516982Z",
     "start_time": "2021-01-24T17:12:49.489296Z"
    }
   },
   "outputs": [
    {
     "name": "stdout",
     "output_type": "stream",
     "text": [
      "torta_ocio_viste_pasta_k60\n",
      "tortaociovistepastak60\n"
     ]
    }
   ],
   "source": [
    "a = get_pass(5)\n",
    "print(a)\n",
    "print(a.replace(\"_\",\"\"))"
   ]
  },
  {
   "cell_type": "code",
   "execution_count": null,
   "metadata": {},
   "outputs": [],
   "source": []
  }
 ],
 "metadata": {
  "hide_input": false,
  "kernelspec": {
   "display_name": "Python 3",
   "language": "python",
   "name": "python3"
  },
  "language_info": {
   "codemirror_mode": {
    "name": "ipython",
    "version": 3
   },
   "file_extension": ".py",
   "mimetype": "text/x-python",
   "name": "python",
   "nbconvert_exporter": "python",
   "pygments_lexer": "ipython3",
   "version": "3.8.3"
  },
  "varInspector": {
   "cols": {
    "lenName": 16,
    "lenType": 16,
    "lenVar": 40
   },
   "kernels_config": {
    "python": {
     "delete_cmd_postfix": "",
     "delete_cmd_prefix": "del ",
     "library": "var_list.py",
     "varRefreshCmd": "print(var_dic_list())"
    },
    "r": {
     "delete_cmd_postfix": ") ",
     "delete_cmd_prefix": "rm(",
     "library": "var_list.r",
     "varRefreshCmd": "cat(var_dic_list()) "
    }
   },
   "types_to_exclude": [
    "module",
    "function",
    "builtin_function_or_method",
    "instance",
    "_Feature"
   ],
   "window_display": false
  }
 },
 "nbformat": 4,
 "nbformat_minor": 2
}
