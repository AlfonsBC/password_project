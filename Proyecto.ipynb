{
 "cells": [
  {
   "cell_type": "markdown",
   "metadata": {},
   "source": [
    "# Proyecto"
   ]
  },
  {
   "cell_type": "markdown",
   "metadata": {},
   "source": [
    "Objetivo: Analizar la seguridad de contraseñas con base en la lista de contraseñas y su frecuencia de uso"
   ]
  },
  {
   "cell_type": "markdown",
   "metadata": {},
   "source": [
    "- Los problemas de clasificación predicen una lista ordenada o una clasificación de objetos, la manera en el que se realizó la consulta. Esto podría ser bastante práctico si lo que queremos es regresar la lista de contraseñas que alguien podría colocar al momento de ingresar su contraseña. \n",
    "- La clasificación predice una etiqueta y los problemas incluyen problemas binarios de \"sí o no\" como \"si esta imagen es un corgi o un muffin de arándanos\", así como problemas de clasificación múltiple como \"si esto es bueno, malo o promedio\". Con la clasificación, las respuestas correctas deben etiquetarse para que su algoritmo pueda aprender de ellas.\n",
    "- Exactamente, que es lo que deseamos encontrar?\n",
    "- Que tipo de visualizaciones se elige?\n",
    "\n",
    "Fuente de la información:\n",
    "1. Bruteforce Database Github\n",
    "2. https://github.com/duyet/bruteforce-database\n",
    "3. https://haveibeenpwned.com/Passwords **Pwned Passwords 20 GB.**\n",
    "4. https://www.kaggle.com/search?q=passwords\n",
    "5. https://github.com/robinske/password-data"
   ]
  },
  {
   "cell_type": "markdown",
   "metadata": {},
   "source": [
    "Primero haremos una exploración de los datos:"
   ]
  },
  {
   "cell_type": "code",
   "execution_count": 56,
   "metadata": {},
   "outputs": [],
   "source": [
    "import pandas as pd\n",
    "import matplotlib.pyplot as plt\n",
    "import numpy as np\n",
    "import seaborn as sns"
   ]
  },
  {
   "cell_type": "code",
   "execution_count": 57,
   "metadata": {},
   "outputs": [
    {
     "data": {
      "text/html": [
       "<div>\n",
       "<style scoped>\n",
       "    .dataframe tbody tr th:only-of-type {\n",
       "        vertical-align: middle;\n",
       "    }\n",
       "\n",
       "    .dataframe tbody tr th {\n",
       "        vertical-align: top;\n",
       "    }\n",
       "\n",
       "    .dataframe thead th {\n",
       "        text-align: right;\n",
       "    }\n",
       "</style>\n",
       "<table border=\"1\" class=\"dataframe\">\n",
       "  <thead>\n",
       "    <tr style=\"text-align: right;\">\n",
       "      <th></th>\n",
       "      <th>password</th>\n",
       "      <th>hash</th>\n",
       "      <th>count</th>\n",
       "    </tr>\n",
       "  </thead>\n",
       "  <tbody>\n",
       "    <tr>\n",
       "      <th>0</th>\n",
       "      <td>1980290</td>\n",
       "      <td>083040BB6B1D95F2B8AC447B50D21DAB38DAFF16</td>\n",
       "      <td>13</td>\n",
       "    </tr>\n",
       "    <tr>\n",
       "      <th>1</th>\n",
       "      <td>tornadof</td>\n",
       "      <td>0A7709AD9837766F20156FF016ABF66F8036ABC1</td>\n",
       "      <td>13</td>\n",
       "    </tr>\n",
       "    <tr>\n",
       "      <th>2</th>\n",
       "      <td>vova87654</td>\n",
       "      <td>66221A7691CDC27D9D31071A0CFA0712C100C7D7</td>\n",
       "      <td>13</td>\n",
       "    </tr>\n",
       "    <tr>\n",
       "      <th>3</th>\n",
       "      <td>XpKvShrO</td>\n",
       "      <td>4CB7086C94AE4D82E519FF8F98D0DA1DA38DBE53</td>\n",
       "      <td>13</td>\n",
       "    </tr>\n",
       "    <tr>\n",
       "      <th>4</th>\n",
       "      <td>tvjgtl</td>\n",
       "      <td>9E1FD26A17D2EBE7C9FD4181EF49424C7091D484</td>\n",
       "      <td>13</td>\n",
       "    </tr>\n",
       "    <tr>\n",
       "      <th>...</th>\n",
       "      <td>...</td>\n",
       "      <td>...</td>\n",
       "      <td>...</td>\n",
       "    </tr>\n",
       "    <tr>\n",
       "      <th>6840</th>\n",
       "      <td>491144</td>\n",
       "      <td>4511C39CDA1EFE76964C79783B52053BA7CD09DD</td>\n",
       "      <td>69</td>\n",
       "    </tr>\n",
       "    <tr>\n",
       "      <th>6841</th>\n",
       "      <td>xeyfhm3477362341</td>\n",
       "      <td>E2EC663D721E9F22F5CF39D5AA27A89CE00172D0</td>\n",
       "      <td>69</td>\n",
       "    </tr>\n",
       "    <tr>\n",
       "      <th>6842</th>\n",
       "      <td>irontree4</td>\n",
       "      <td>350AA827594B47AF3BCB9256E2388EFB958C4529</td>\n",
       "      <td>69</td>\n",
       "    </tr>\n",
       "    <tr>\n",
       "      <th>6843</th>\n",
       "      <td>wh2t3v3r</td>\n",
       "      <td>221C76F1C2AD5883003AF5EB7A495A41580B87C5</td>\n",
       "      <td>69</td>\n",
       "    </tr>\n",
       "    <tr>\n",
       "      <th>6844</th>\n",
       "      <td>santomas</td>\n",
       "      <td>510B26B12A43531A14333545C6D802E47FA411AC</td>\n",
       "      <td>69</td>\n",
       "    </tr>\n",
       "  </tbody>\n",
       "</table>\n",
       "<p>677568 rows × 3 columns</p>\n",
       "</div>"
      ],
      "text/plain": [
       "              password                                      hash  count\n",
       "0              1980290  083040BB6B1D95F2B8AC447B50D21DAB38DAFF16     13\n",
       "1             tornadof  0A7709AD9837766F20156FF016ABF66F8036ABC1     13\n",
       "2            vova87654  66221A7691CDC27D9D31071A0CFA0712C100C7D7     13\n",
       "3             XpKvShrO  4CB7086C94AE4D82E519FF8F98D0DA1DA38DBE53     13\n",
       "4               tvjgtl  9E1FD26A17D2EBE7C9FD4181EF49424C7091D484     13\n",
       "...                ...                                       ...    ...\n",
       "6840            491144  4511C39CDA1EFE76964C79783B52053BA7CD09DD     69\n",
       "6841  xeyfhm3477362341  E2EC663D721E9F22F5CF39D5AA27A89CE00172D0     69\n",
       "6842         irontree4  350AA827594B47AF3BCB9256E2388EFB958C4529     69\n",
       "6843          wh2t3v3r  221C76F1C2AD5883003AF5EB7A495A41580B87C5     69\n",
       "6844          santomas  510B26B12A43531A14333545C6D802E47FA411AC     69\n",
       "\n",
       "[677568 rows x 3 columns]"
      ]
     },
     "execution_count": 57,
     "metadata": {},
     "output_type": "execute_result"
    }
   ],
   "source": [
    "data =pd.read_csv('passwords/pass (1).csv')\n",
    "for i in range(2,100):\n",
    "    filename = pd.read_csv('passwords/pass ('+str(i)+').csv')\n",
    "    data = pd.concat([data,filename],axis=0)\n",
    "data"
   ]
  },
  {
   "cell_type": "markdown",
   "metadata": {},
   "source": [
    "## Perfilado de Datos\n",
    "\n",
    "Para esto, vamos a ver algunas características de los datos, como sus valores nulos y duplicados."
   ]
  },
  {
   "cell_type": "code",
   "execution_count": 58,
   "metadata": {},
   "outputs": [
    {
     "data": {
      "text/plain": [
       "password    2\n",
       "hash        0\n",
       "count       0\n",
       "dtype: int64"
      ]
     },
     "execution_count": 58,
     "metadata": {},
     "output_type": "execute_result"
    }
   ],
   "source": [
    "data.isnull().sum()"
   ]
  },
  {
   "cell_type": "code",
   "execution_count": 59,
   "metadata": {},
   "outputs": [
    {
     "data": {
      "text/plain": [
       "password    0\n",
       "hash        0\n",
       "count       0\n",
       "dtype: int64"
      ]
     },
     "execution_count": 59,
     "metadata": {},
     "output_type": "execute_result"
    }
   ],
   "source": [
    "data = data.dropna(axis=0)\n",
    "data.isnull().sum()"
   ]
  },
  {
   "cell_type": "markdown",
   "metadata": {},
   "source": [
    "Ahora, existen valores duplicados en cada documento, que son el conteo de contraseñas segmentado, por lo cual será adecuado sumar las cuentas de todos los duplicados\n",
    "para obtener el número de veces que cada contraseña fue usada.\n",
    "\n",
    "Adicionalmente, en este momento no haremos usos de las firmas hash, puesto que no son relevantes para nuestro caso de estudio"
   ]
  },
  {
   "cell_type": "code",
   "execution_count": 60,
   "metadata": {},
   "outputs": [
    {
     "name": "stdout",
     "output_type": "stream",
     "text": [
      "(677566, 2)\n"
     ]
    },
    {
     "data": {
      "text/html": [
       "<div>\n",
       "<style scoped>\n",
       "    .dataframe tbody tr th:only-of-type {\n",
       "        vertical-align: middle;\n",
       "    }\n",
       "\n",
       "    .dataframe tbody tr th {\n",
       "        vertical-align: top;\n",
       "    }\n",
       "\n",
       "    .dataframe thead th {\n",
       "        text-align: right;\n",
       "    }\n",
       "</style>\n",
       "<table border=\"1\" class=\"dataframe\">\n",
       "  <thead>\n",
       "    <tr style=\"text-align: right;\">\n",
       "      <th></th>\n",
       "      <th>password</th>\n",
       "      <th>count</th>\n",
       "    </tr>\n",
       "  </thead>\n",
       "  <tbody>\n",
       "    <tr>\n",
       "      <th>0</th>\n",
       "      <td>!!!!!</td>\n",
       "      <td>401</td>\n",
       "    </tr>\n",
       "    <tr>\n",
       "      <th>1</th>\n",
       "      <td>!!!!!!</td>\n",
       "      <td>2304</td>\n",
       "    </tr>\n",
       "    <tr>\n",
       "      <th>2</th>\n",
       "      <td>!!!!!!!</td>\n",
       "      <td>386</td>\n",
       "    </tr>\n",
       "    <tr>\n",
       "      <th>3</th>\n",
       "      <td>!12345</td>\n",
       "      <td>312</td>\n",
       "    </tr>\n",
       "    <tr>\n",
       "      <th>4</th>\n",
       "      <td>!23456</td>\n",
       "      <td>347</td>\n",
       "    </tr>\n",
       "  </tbody>\n",
       "</table>\n",
       "</div>"
      ],
      "text/plain": [
       "  password  count\n",
       "0    !!!!!    401\n",
       "1   !!!!!!   2304\n",
       "2  !!!!!!!    386\n",
       "3   !12345    312\n",
       "4   !23456    347"
      ]
     },
     "execution_count": 60,
     "metadata": {},
     "output_type": "execute_result"
    }
   ],
   "source": [
    "data = data.groupby(data['password']).agg({'count':sum}).reset_index()\n",
    "print(data.shape)\n",
    "data.head()"
   ]
  },
  {
   "cell_type": "markdown",
   "metadata": {},
   "source": [
    "## Exploración de los datos:\n",
    "\n",
    "Veamos algunas de las contraseñas más utilizadas"
   ]
  },
  {
   "cell_type": "code",
   "execution_count": 61,
   "metadata": {},
   "outputs": [
    {
     "data": {
      "text/html": [
       "<div>\n",
       "<style scoped>\n",
       "    .dataframe tbody tr th:only-of-type {\n",
       "        vertical-align: middle;\n",
       "    }\n",
       "\n",
       "    .dataframe tbody tr th {\n",
       "        vertical-align: top;\n",
       "    }\n",
       "\n",
       "    .dataframe thead th {\n",
       "        text-align: right;\n",
       "    }\n",
       "</style>\n",
       "<table border=\"1\" class=\"dataframe\">\n",
       "  <thead>\n",
       "    <tr style=\"text-align: right;\">\n",
       "      <th></th>\n",
       "      <th>password</th>\n",
       "      <th>count</th>\n",
       "    </tr>\n",
       "  </thead>\n",
       "  <tbody>\n",
       "    <tr>\n",
       "      <th>43879</th>\n",
       "      <td>123456789</td>\n",
       "      <td>7016669</td>\n",
       "    </tr>\n",
       "    <tr>\n",
       "      <th>506981</th>\n",
       "      <td>qwerty</td>\n",
       "      <td>3599486</td>\n",
       "    </tr>\n",
       "    <tr>\n",
       "      <th>35227</th>\n",
       "      <td>111111</td>\n",
       "      <td>2900049</td>\n",
       "    </tr>\n",
       "    <tr>\n",
       "      <th>43856</th>\n",
       "      <td>12345678</td>\n",
       "      <td>2680521</td>\n",
       "    </tr>\n",
       "    <tr>\n",
       "      <th>223879</th>\n",
       "      <td>abc123</td>\n",
       "      <td>2670319</td>\n",
       "    </tr>\n",
       "  </tbody>\n",
       "</table>\n",
       "</div>"
      ],
      "text/plain": [
       "         password    count\n",
       "43879   123456789  7016669\n",
       "506981     qwerty  3599486\n",
       "35227      111111  2900049\n",
       "43856    12345678  2680521\n",
       "223879     abc123  2670319"
      ]
     },
     "execution_count": 61,
     "metadata": {},
     "output_type": "execute_result"
    }
   ],
   "source": [
    "data = data.sort_values(by='count',ascending=False)\n",
    "data.head()"
   ]
  },
  {
   "cell_type": "markdown",
   "metadata": {},
   "source": [
    "La cuenta de aquellas contraseñas que tienen únicamente valores numéricos:"
   ]
  },
  {
   "cell_type": "code",
   "execution_count": 62,
   "metadata": {},
   "outputs": [
    {
     "name": "stdout",
     "output_type": "stream",
     "text": [
      "Contraseñas formadas por números:\n",
      "142340\n",
      "Suma del uso de contraseñas formadas por números\n",
      "171260703\n"
     ]
    }
   ],
   "source": [
    "# Variable que guardará el total de contraseñas con esta característica y las veces que fueron utilizadas\n",
    "data_patrones = []\n",
    "\n",
    "numeric = data[data['password'].str.isnumeric() == True].count()[0]\n",
    "numeric_count_sum = data[data['password'].str.isnumeric() == True]['count'].sum()\n",
    "\n",
    "print('Contraseñas formadas por números:')\n",
    "print(numeric)\n",
    "print('Suma del uso de contraseñas formadas por números')\n",
    "print(numeric_count_sum)\n",
    "\n",
    "data_patrones += 'Numeric only', numeric, numeric_count_sum"
   ]
  },
  {
   "cell_type": "code",
   "execution_count": 63,
   "metadata": {},
   "outputs": [
    {
     "name": "stdout",
     "output_type": "stream",
     "text": [
      "Contraseñas formadas por letras:\n",
      "278189\n",
      "Suma del uso de contraseñas formadas por letras\n",
      "335503274\n"
     ]
    }
   ],
   "source": [
    "alpha = data[data['password'].str.isalpha() == True].count()[0]\n",
    "alpha_count_sum = data[data['password'].str.isalpha() == True]['count'].sum()\n",
    "\n",
    "print('Contraseñas formadas por letras:')\n",
    "print(alpha)\n",
    "print('Suma del uso de contraseñas formadas por letras')\n",
    "print(alpha_count_sum)\n",
    "\n",
    "data_patrones += 'Alpha only', alpha, alpha_count_sum"
   ]
  },
  {
   "cell_type": "markdown",
   "metadata": {},
   "source": [
    "---\n",
    "A continuación consideraremos que una contraseña corta es aquella con menos de 8 carácteres:"
   ]
  },
  {
   "cell_type": "code",
   "execution_count": 64,
   "metadata": {},
   "outputs": [
    {
     "name": "stdout",
     "output_type": "stream",
     "text": [
      "Contraseñas cortas:\n",
      "382452\n",
      "Suma del uso de contraseñas cortas\n",
      "477964360\n"
     ]
    }
   ],
   "source": [
    "short_pass = data[data['password'].str.len() < 8].count()[0]\n",
    "short_pass_count_sum = data[data['password'].str.len() < 8]['count'].sum()\n",
    "\n",
    "print('Contraseñas cortas:')\n",
    "print(short_pass)\n",
    "print('Suma del uso de contraseñas cortas')\n",
    "print(short_pass_count_sum)\n",
    "\n",
    "data_patrones += 'Short Passwords', short_pass, short_pass_count_sum"
   ]
  },
  {
   "cell_type": "markdown",
   "metadata": {},
   "source": [
    "---\n",
    "Y analizamos aquellas que tienen carácteres poco comunes o poco usados, como guiones, signos de exclamación, etc."
   ]
  },
  {
   "cell_type": "code",
   "execution_count": 65,
   "metadata": {},
   "outputs": [
    {
     "name": "stderr",
     "output_type": "stream",
     "text": [
      "/home/oswald/anaconda3/lib/python3.8/site-packages/pandas/core/strings.py:1954: UserWarning: This pattern has match groups. To actually get the groups, use str.extract.\n",
      "  return func(self, *args, **kwargs)\n"
     ]
    },
    {
     "name": "stdout",
     "output_type": "stream",
     "text": [
      "Contraseñas cortas:\n",
      "2147\n",
      "Suma del uso de contraseñas cortas\n",
      "1977061\n"
     ]
    }
   ],
   "source": [
    "special_chars = ['!','\"','#','<','>','%','&','/','=',\n",
    "                '(\\?)','(\\()','(\\))',\"'\",'¡','¿','(\\+)','~',']','}',\n",
    "                '(\\[)','{',',',';',':','(\\.)','_','-','(\\*)','(\\^)']\n",
    "\n",
    "special_chars = '|'.join(special_chars)\n",
    "special_pass = data[data['password'].str.contains(special_chars) == True].count()[0]\n",
    "special_pass_count_sum = data[data['password'].str.contains(special_chars) == True]['count'].sum()\n",
    "\n",
    "print('Contraseñas cortas:')\n",
    "print(special_pass)\n",
    "print('Suma del uso de contraseñas cortas')\n",
    "print(special_pass_count_sum)\n",
    "\n",
    "data_patrones += 'Special Characters', special_pass, special_pass_count_sum"
   ]
  },
  {
   "cell_type": "markdown",
   "metadata": {},
   "source": [
    "Siguientes pasos:\n",
    "- Análisis de las frecuencias\n",
    "- Generar métrica para el score para las contraseñas de acuerdo a su frecuencia\n",
    "- Red neuronal Recurrente (?) para evaluar seguridad de una contraseña entrenada con las scores del punto anterior\n",
    "- Hacer análisis mediante k-neighbors o kohonen para comparar\n",
    "- Proponer contraseñas seguras (por definir método)"
   ]
  },
  {
   "cell_type": "markdown",
   "metadata": {},
   "source": [
    "Ahora vamos a establecer una métrica para pasar de la cuenta de las contraseñas a una métrica de su seguridad, para esto se decide hacer un escalamiento estándar al inverso de la cuenta de contraseñas. Esto para darle una mayor scoring a aquellos que tienen menos apariciones."
   ]
  },
  {
   "cell_type": "code",
   "execution_count": 71,
   "metadata": {},
   "outputs": [
    {
     "data": {
      "text/plain": [
       "(677566, 27)"
      ]
     },
     "execution_count": 71,
     "metadata": {},
     "output_type": "execute_result"
    }
   ],
   "source": [
    "from copy import copy\n",
    "\n",
    "pass_count = data.iloc[:,1].values\n",
    "pass_count = 1/pass_count\n",
    "passes = copy(data.iloc[:,0].values.tolist())\n",
    "#print(passes)\n",
    "\n",
    "max_len_pass = 0 # Vamos guardando la longitud de contraseña más grande\n",
    "min_string = 1000 # Guardamos el ASCII más pequeño que nos encontramos\n",
    "\n",
    "for i in range(len(passes)):\n",
    "    passes[i] = list(map(ord,list(passes[i])))\n",
    "    if len(passes[i]) > max_len_pass:\n",
    "        max_len_pass = len(passes[i])\n",
    "    \n",
    "    for letter_ascii in passes[i]:\n",
    "        if letter_ascii < min_string:\n",
    "            min_string = letter_ascii\n",
    "\n",
    "min_string -= 1 # min_string será el valor para el espacio vacío\n",
    "\n",
    "for i in range(len(passes)):\n",
    "    n = len(passes[i])\n",
    "    passes[i] = passes[i] + [min_string]*(max_len_pass-len(passes[i]))\n",
    "    \n",
    "    \n",
    "passes = np.array(passes)\n",
    "passes.shape"
   ]
  },
  {
   "cell_type": "code",
   "execution_count": 104,
   "metadata": {},
   "outputs": [
    {
     "data": {
      "text/plain": [
       "array([[ True,  True,  True,  True,  True,  True,  True,  True,  True,\n",
       "         True,  True,  True,  True,  True,  True,  True,  True,  True,\n",
       "         True,  True,  True,  True,  True,  True,  True,  True,  True]])"
      ]
     },
     "execution_count": 104,
     "metadata": {},
     "output_type": "execute_result"
    }
   ],
   "source": [
    "from sklearn.preprocessing import MinMaxScaler\n",
    "\n",
    "ms = MinMaxScaler()\n",
    "passes_std = ms.fit_transform(passes.reshape(-1,27))\n",
    "\n",
    "def password_to_encode(password):\n",
    "    '''\n",
    "    Función que dada una contraseña, devuelve el encoding acomodado al tratamiento\n",
    "    que tuvieron los datos de este documento.\n",
    "    --------------------------------------------------------------\n",
    "    :param password str: Cadena de texto que contiene la contraseña a convertir\n",
    "    \n",
    "    :returns array: Vector 27-dimensional codificado. \n",
    "    '''\n",
    "    pass_vector = list(map(ord,list(password)))\n",
    "    pass_vector += [min_string]*(max_len_pass-len(pass_vector))\n",
    "    pass_vector = np.array(pass_vector)\n",
    "    pass_vector = ms.transform(pass_vector.reshape(-1,27))\n",
    "    \n",
    "    return pass_vector\n",
    "    \n",
    "password_to_encode(data.iloc[:,0].values[0]) == passes_std[0]"
   ]
  },
  {
   "cell_type": "code",
   "execution_count": 76,
   "metadata": {},
   "outputs": [],
   "source": [
    "from sklearn.preprocessing import StandardScaler    \n",
    "    \n",
    "\n",
    "sc = StandardScaler()\n",
    "pass_count_std = sc.fit_transform(pass_count.reshape(-1,1))\n",
    "pass_count_std = pass_count_std.reshape(-1)"
   ]
  },
  {
   "cell_type": "markdown",
   "metadata": {},
   "source": [
    "Ahora procederemos a hacer el intervalo que abarca el escalamiento, dividiendo en 50 bloques"
   ]
  },
  {
   "cell_type": "code",
   "execution_count": 77,
   "metadata": {},
   "outputs": [],
   "source": [
    "minimo = min(pass_count_std)\n",
    "maximo = max(pass_count_std)\n",
    "intervalo = np.linspace(minimo,maximo)"
   ]
  },
  {
   "cell_type": "markdown",
   "metadata": {},
   "source": [
    "Enseguida, se asigna una puntuación a las contraseñas en función a su posicionamiento en el escalamiento, siendo aquellos que se encuentran en la cola inferior, los que tienen peor seguridad, mientras los que estén en la cola superior, tendrán un score de 49, la máxima seguridad."
   ]
  },
  {
   "cell_type": "code",
   "execution_count": 78,
   "metadata": {},
   "outputs": [],
   "source": [
    "pass_security = np.zeros(len(pass_count_std))\n",
    "intervalo_idx = 0\n",
    "for i in range(len(pass_count_std)):\n",
    "    while( intervalo[intervalo_idx] < pass_count_std[i]):\n",
    "        intervalo_idx += 1\n",
    "    pass_security[i] = intervalo_idx\n",
    "pass_security = pass_security.astype(int)"
   ]
  },
  {
   "cell_type": "code",
   "execution_count": 79,
   "metadata": {},
   "outputs": [
    {
     "name": "stdout",
     "output_type": "stream",
     "text": [
      "(677566, 27)\n"
     ]
    }
   ],
   "source": [
    "print(passes.shape)"
   ]
  },
  {
   "cell_type": "code",
   "execution_count": 81,
   "metadata": {},
   "outputs": [
    {
     "data": {
      "text/html": [
       "<div>\n",
       "<style scoped>\n",
       "    .dataframe tbody tr th:only-of-type {\n",
       "        vertical-align: middle;\n",
       "    }\n",
       "\n",
       "    .dataframe tbody tr th {\n",
       "        vertical-align: top;\n",
       "    }\n",
       "\n",
       "    .dataframe thead th {\n",
       "        text-align: right;\n",
       "    }\n",
       "</style>\n",
       "<table border=\"1\" class=\"dataframe\">\n",
       "  <thead>\n",
       "    <tr style=\"text-align: right;\">\n",
       "      <th></th>\n",
       "      <th>Password</th>\n",
       "      <th>Security</th>\n",
       "    </tr>\n",
       "  </thead>\n",
       "  <tbody>\n",
       "    <tr>\n",
       "      <th>43879</th>\n",
       "      <td>123456789</td>\n",
       "      <td>0</td>\n",
       "    </tr>\n",
       "    <tr>\n",
       "      <th>506981</th>\n",
       "      <td>qwerty</td>\n",
       "      <td>1</td>\n",
       "    </tr>\n",
       "    <tr>\n",
       "      <th>35227</th>\n",
       "      <td>111111</td>\n",
       "      <td>1</td>\n",
       "    </tr>\n",
       "    <tr>\n",
       "      <th>43856</th>\n",
       "      <td>12345678</td>\n",
       "      <td>1</td>\n",
       "    </tr>\n",
       "    <tr>\n",
       "      <th>223879</th>\n",
       "      <td>abc123</td>\n",
       "      <td>1</td>\n",
       "    </tr>\n",
       "    <tr>\n",
       "      <th>...</th>\n",
       "      <td>...</td>\n",
       "      <td>...</td>\n",
       "    </tr>\n",
       "    <tr>\n",
       "      <th>657154</th>\n",
       "      <td>yzx2095</td>\n",
       "      <td>49</td>\n",
       "    </tr>\n",
       "    <tr>\n",
       "      <th>164115</th>\n",
       "      <td>80931194654</td>\n",
       "      <td>49</td>\n",
       "    </tr>\n",
       "    <tr>\n",
       "      <th>607352</th>\n",
       "      <td>wallygoo</td>\n",
       "      <td>49</td>\n",
       "    </tr>\n",
       "    <tr>\n",
       "      <th>387486</th>\n",
       "      <td>jackpudes1</td>\n",
       "      <td>49</td>\n",
       "    </tr>\n",
       "    <tr>\n",
       "      <th>161449</th>\n",
       "      <td>7842209</td>\n",
       "      <td>49</td>\n",
       "    </tr>\n",
       "  </tbody>\n",
       "</table>\n",
       "<p>677566 rows × 2 columns</p>\n",
       "</div>"
      ],
      "text/plain": [
       "           Password  Security\n",
       "43879     123456789         0\n",
       "506981       qwerty         1\n",
       "35227        111111         1\n",
       "43856      12345678         1\n",
       "223879       abc123         1\n",
       "...             ...       ...\n",
       "657154      yzx2095        49\n",
       "164115  80931194654        49\n",
       "607352     wallygoo        49\n",
       "387486   jackpudes1        49\n",
       "161449      7842209        49\n",
       "\n",
       "[677566 rows x 2 columns]"
      ]
     },
     "execution_count": 81,
     "metadata": {},
     "output_type": "execute_result"
    }
   ],
   "source": [
    "passwords = pd.DataFrame({'Password':data.iloc[:,0],'Security':pass_security})\n",
    "passwords"
   ]
  },
  {
   "cell_type": "markdown",
   "metadata": {},
   "source": [
    "Dividimos en set de entrenamiento y validación"
   ]
  },
  {
   "cell_type": "code",
   "execution_count": 91,
   "metadata": {},
   "outputs": [],
   "source": [
    "\n",
    "from sklearn.preprocessing import OneHotEncoder\n",
    "\n",
    "pass_security = pass_security.reshape(-1,1)\n",
    "ohe = OneHotEncoder()\n",
    "pass_security = ohe.fit_transform(pass_security).toarray()"
   ]
  },
  {
   "cell_type": "code",
   "execution_count": 97,
   "metadata": {},
   "outputs": [],
   "source": [
    "from sklearn.model_selection import train_test_split\n",
    "\n",
    "X_train, X_test, y_train, y_test = train_test_split(passes_std, pass_security, test_size=0.2)"
   ]
  },
  {
   "cell_type": "code",
   "execution_count": 98,
   "metadata": {},
   "outputs": [
    {
     "data": {
      "text/plain": [
       "(542052, 27)"
      ]
     },
     "execution_count": 98,
     "metadata": {},
     "output_type": "execute_result"
    }
   ],
   "source": [
    "X_train."
   ]
  },
  {
   "cell_type": "code",
   "execution_count": 99,
   "metadata": {},
   "outputs": [
    {
     "data": {
      "text/plain": [
       "array([[0., 0., 0., ..., 0., 0., 0.],\n",
       "       [0., 1., 0., ..., 0., 0., 0.],\n",
       "       [0., 0., 0., ..., 0., 0., 0.],\n",
       "       ...,\n",
       "       [0., 1., 0., ..., 0., 0., 0.],\n",
       "       [0., 0., 0., ..., 0., 0., 0.],\n",
       "       [0., 1., 0., ..., 0., 0., 0.]])"
      ]
     },
     "execution_count": 99,
     "metadata": {},
     "output_type": "execute_result"
    }
   ],
   "source": [
    "y_train"
   ]
  },
  {
   "cell_type": "code",
   "execution_count": 100,
   "metadata": {},
   "outputs": [],
   "source": [
    "import torch"
   ]
  },
  {
   "cell_type": "code",
   "execution_count": null,
   "metadata": {},
   "outputs": [],
   "source": [
    "class Gen_net(nn.Module):\n",
    "    '''\n",
    "    Definimos un modelo de red neuronal sobre el cual podamos \n",
    "    evaluar el algoritmo genético.\n",
    "    '''\n",
    "    def __init__(self, in_features, hidden1, hidden2, out_features):\n",
    "        '''\n",
    "        Define la estructura de la red como se define en el articulo.\n",
    "        Ten en cuenta que, dado que no usamos el mismo conjunto de datos\n",
    "        los valores de in_features y out_features se verán afectados.\n",
    "        Agregar como parámetros estos valores te puede ayudar a reconstruir\n",
    "        la red a partir de un cromosoma.\n",
    "        '''\n",
    "        super(Gen_net,self).__init__()\n",
    "        \n",
    "        self.fc1 = nn.Linear(in_features = in_features, out_features = hidden1,bias = False)\n",
    "        self.fc2 = nn.Linear(in_features = hidden1, out_features = hidden2,bias = False)\n",
    "        self.fc3 = nn.Linear(in_features = hidden2, out_features= out_features,bias = False)\n",
    "        \n",
    "        self.in_features = in_features\n",
    "        self.hidden1 = hidden1\n",
    "        self.hidden2 = hidden2\n",
    "        self.out_features = out_features\n",
    "        \n",
    "\n",
    "        \n",
    "        \n",
    "    def forward(self, X):\n",
    "        '''\n",
    "        Define la función de feed forward, a partir de los datos\n",
    "        de X. Usa una sigmoide entre las capas.\n",
    "        '''\n",
    "        capa_oculta1 = torch.sigmoid(self.fc1(X))\n",
    "        capa_oculta2 = torch.sigmoid(self.fc2(capa_oculta1))\n",
    "        salida = torch.sigmoid(self.fc3(capa_oculta2))\n",
    "        \n",
    "        return salida\n",
    "\n",
    "\n",
    "    def back_propagate(self, X, Y):\n",
    "        '''\n",
    "        Define una función que realice la propagación hacia atras usando \n",
    "        la función de error de entropia cruzada.\n",
    "        '''\n",
    "        salida = self.forward(X)\n",
    "        funcion_error = nn.MSELoss()\n",
    "        \n",
    "        error = funcion_error(torch.clamp(salida,0.2,0.8),\n",
    "                               torch.clamp(Y,0.2,0.8))\n",
    "                    \n",
    "        error.backward()\n",
    "        \n",
    "        return error\n",
    "        \n",
    "    def train(self, train_X, train_Y, optimizer, ciclos=100):\n",
    "        '''\n",
    "        Define una función de entrenamiento para la red, la cual utilice\n",
    "        al conjunto de entrenamiento y el algoritmo de optimización que se \n",
    "        obtenga como parametro. Al finalizar los ciclos muestra la gráfica \n",
    "        del error.\n",
    "        '''\n",
    "        self.optimizer = optimizer\n",
    "        criterio = torch.nn.MSELoss()\n",
    "        errores = np.zeros(ciclos)\n",
    "        \n",
    "        for ciclo in range(ciclos):\n",
    "            y_pred = self.forward(train_X)\n",
    "            perdida = criterio(torch.clamp(y_pred,0.2,0.8),\n",
    "                               torch.clamp(train_Y,0.2,0.8))\n",
    "            errores[ciclo] = perdida.item()\n",
    "            \n",
    "            self.optimizer.zero_grad()\n",
    "            self.back_propagate(train_X,train_Y)\n",
    "            self.optimizer.step()\n",
    "            \n",
    "        if ciclos > 1:\n",
    "            pasos = np.arange(ciclos)\n",
    "            plt.plot(pasos, errores, label='Entrenamiento')\n",
    "\n",
    "    def confusion(self, test_X, test_Y):\n",
    "        '''\n",
    "        Muestra la matriz de confusión que presenta los valores actuales de\n",
    "        la red, respecto al conjunto de datos que se decida usar.\n",
    "        '''\n",
    "        \n",
    "        y_pred = self.forward(test_X)\n",
    "        #print(y_pred[:20])\n",
    "        labels = []\n",
    "        for salida in y_pred:\n",
    "            label = []\n",
    "            max_idx = max(salida)\n",
    "            \n",
    "            for i in range(7):\n",
    "                if salida[i] == max_idx:\n",
    "                    label.append(1.)\n",
    "                else:\n",
    "                    label.append(0.)\n",
    "            labels.append(label)\n",
    "\n",
    "        VP = 0\n",
    "        VN = 0\n",
    "        FP = 0\n",
    "        FN = 0\n",
    "        \n",
    "        for i in range(len(test_Y)):\n",
    "\n",
    "            if all(torch.tensor(labels[i])==test_Y[i]):\n",
    "                VP += 1\n",
    "                VN += 6\n",
    "            else:\n",
    "                FP += 1\n",
    "                FN += 1\n",
    "                VN += 5\n",
    "            \n",
    "        print(\n",
    "        \"\"\"\n",
    "    VP ={:.<5}    FN={:.<5}\n",
    "    FP ={:.<5}    VN={:.<5}\n",
    "    \n",
    "            \"\"\".format(VP,FN,FP,VN)) \n",
    "        "
   ]
  },
  {
   "cell_type": "code",
   "execution_count": null,
   "metadata": {},
   "outputs": [],
   "source": [
    "import copy\n",
    "class Gen_train():\n",
    "    '''\n",
    "    Define la estructura del algortimo genético\n",
    "    '''\n",
    "\n",
    "    def __init__(self, model, parent_scalar, operator_probabilities, population_size):\n",
    "        '''\n",
    "        Define las propiedades del algortimo como se describe en el artículo.\n",
    "        Usa el parametro model para tener un ejemplar de la red sobre la cual puedas\n",
    "        realizar las operaciones necesarias.\n",
    "        Incializa la población utilizando una distribución t\n",
    "        '''\n",
    "        self.model = model\n",
    "        self.parent_scalar = parent_scalar\n",
    "        self.operator_probabilities = operator_probabilities\n",
    "        self.population_size = population_size\n",
    "\n",
    "        # Elementos de la población\n",
    "        self.elements = []\n",
    "\n",
    "        # Forma de las matrices de peso\n",
    "        self.vector_size = []\n",
    "\n",
    "        # Capas ocultas de la red:\n",
    "        i = 0\n",
    "        for param in self.model.parameters():\n",
    "            i += 1\n",
    "            self.vector_size.append(param.size())\n",
    "\n",
    "        self.layers = i\n",
    "\n",
    "        for i in range(self.population_size):\n",
    "            chromosome = []\n",
    "            \n",
    "            for j in range(len(self.vector_size)):\n",
    "                layer = self.vector_size[j]\n",
    "                layer_size = layer[0]*layer[1]\n",
    "                # print(layer_size)\n",
    "                chromosome += random.standard_t(1, layer_size).tolist()\n",
    "                \n",
    "            self.elements.append(chromosome)\n",
    "        \n",
    "        self.elements = torch.tensor(self.elements)\n",
    "\n",
    "    def get_weights(self, element, elementos_lista):\n",
    "        '''\n",
    "        Función para obtener las matrices de pesos a partir de un elemento de la población.\n",
    "        Debe tener las mismas dimenciónes que los pesos para la red.\n",
    "        '''\n",
    "        \n",
    "        sample = elementos_lista[element]\n",
    "        Matrices = []\n",
    "        idx = 0\n",
    "\n",
    "        for layer_idx in range(self.layers):\n",
    "\n",
    "            matriz_size = self.vector_size[layer_idx]\n",
    "            matriz = np.array(sample[idx:idx+(matriz_size[0]*matriz_size[1])])\n",
    "            matriz.resize(matriz_size)\n",
    "            matriz = torch.tensor(matriz)\n",
    "            Matrices.append(matriz)\n",
    "            idx += matriz_size[0]*matriz_size[1]\n",
    "\n",
    "        return Matrices[0], Matrices[1], Matrices[2]\n",
    "    \n",
    "\n",
    "    def set_chromosome(self, w1, w2, w3, element):\n",
    "        '''\n",
    "        Función para actualizar un elemento de la población a partir de los pesos que determinan \n",
    "        a una red. Se actualizará el ejemplar de la población que se encuentre en la posición\n",
    "        element.\n",
    "        '''\n",
    "        sample = []\n",
    "        matrices = [w1,w2,w3]\n",
    "        matrices_aux = matrices.copy()\n",
    "        \n",
    "        for i in range(len(matrices)):\n",
    "            matrices_aux[i].resize_([1,matrices[i].size()[0]\n",
    "                                     *matrices[i].size()[1]])\n",
    "            #print(matrices_aux[i].tolist())\n",
    "            sample += matrices_aux[i].tolist()[0]\n",
    "        #print(sample)\n",
    "        \n",
    "        self.elements[element] = torch.tensor(sample)\n",
    "\n",
    "    def fitness(self, X, Y, element, elementos_lista):\n",
    "        '''\n",
    "        Función para determinar la adecuación de un elemento de la población. \n",
    "        En esté caso, la adecuación nos servirá para determinar los elementos\n",
    "        más aptos. Para está implementación se considerará que una adecuación \n",
    "        menor será de un menor individuo, por lo que tendrá mayores \n",
    "        probabilidades de reproducirse.        \n",
    "        '''\n",
    "        capa1 = self.model.fc1\n",
    "        capa2 = self.model.fc2\n",
    "        capa3 = self.model.fc3\n",
    "        \n",
    "        pesos = self.get_weights(element,elementos_lista)\n",
    "        \n",
    "        w1 = pesos[0]\n",
    "        w2 = pesos[1]\n",
    "        w3 = pesos[2]\n",
    "        #print('hola')\n",
    "        \n",
    "        with torch.no_grad():\n",
    "            capa1.weight = nn.Parameter(w1)\n",
    "            capa2.weight = nn.Parameter(w2)\n",
    "            capa3.weight = nn.Parameter(w3)\n",
    "        #print(capa1)\n",
    "        #print(self.model.fc1)\n",
    "        salida = self.model.forward(X)\n",
    "        loss = nn.MSELoss()\n",
    "        output = loss(salida, Y)\n",
    "        \n",
    "        return output\n",
    "\n",
    "    # Define las operaciónes que se usan en el experimento número 5 del artículo.\n",
    "    # Todas las definiciones de los operadores se encuentrán en la sección 5 del\n",
    "    # artículo.\n",
    "    \n",
    "    \n",
    "    def get_nodo(self,nodo,elemento):\n",
    "        '''\n",
    "        Recibe un número nodo (a partir de los de la capa oculta) junto a el \n",
    "        elemento de los cromosomas y regresa el inicio y fin de los indices\n",
    "        al que corresponde la posición de los pesos entrantes a ese nodo.\n",
    "        '''\n",
    "        \n",
    "        neuronas = self.model.hidden1+self.model.hidden2+self.model.out_features\n",
    "        nodo_a_cambiar = 0\n",
    "        capa = 0\n",
    "        # puntero del lugar del nodo a cambiar\n",
    "        idx = 0\n",
    "        #iteración sobre los nodos de la capa actual\n",
    "        idx_nodo = 0\n",
    "\n",
    "        while(True):\n",
    "            \n",
    "            if nodo == nodo_a_cambiar:\n",
    "                break\n",
    "                \n",
    "            nodo_a_cambiar +=1\n",
    "            idx += self.vector_size[capa][1]            \n",
    "            idx_nodo += 1\n",
    "            \n",
    "            if idx_nodo%self.vector_size[capa][0] == 0 and capa<2:\n",
    "                capa +=1\n",
    "                idx_nodo=0\n",
    "        \n",
    "        \n",
    "        inicio = idx\n",
    "        #print(inicio, idx + self.vector_size[capa][0]+1)\n",
    "        fin = (idx + self.vector_size[capa][1])%len(self.elements[0])\n",
    "        \n",
    "        return inicio, fin\n",
    "    \n",
    "    \n",
    "    \n",
    "    def mutacion(self,n,elemento,elementos_lista):\n",
    "        '''\n",
    "        Recibe el número de nodos a mutar junto al elemento que mutará\n",
    "        '''\n",
    "        #entero aleatorio entre neuronas\n",
    "        neuronas = self.model.hidden1+self.model.hidden2+self.model.out_features\n",
    "        random_nodes = np.random.choice(range(neuronas),n,replace=False)\n",
    "        #print(random_nodes)\n",
    "\n",
    "        for nodo in random_nodes:\n",
    "            \n",
    "\n",
    "            inicio, fin =self.get_nodo(nodo,elemento)\n",
    "            #print(inicio,fin)\n",
    "            if nodo == neuronas-1:\n",
    "                row = elementos_lista[elemento][inicio:]\n",
    "            else:\n",
    "                row = elementos_lista[elemento][inicio:fin]\n",
    "            #print(row)\n",
    "            for param in row:\n",
    "                if (np.random.sample()<1):\n",
    "                    param += float(random.normal(size=1))\n",
    "            \n",
    "        \n",
    "    def cross(self,parent1,parent2,elementos_lista):\n",
    "        neuronas = self.model.hidden1+self.model.hidden2+self.model.out_features\n",
    "        n = np.random.randint(0,neuronas)\n",
    "        # Lista de nodos que se heredarán del familiar1\n",
    "        random_nodes = np.random.choice(range(neuronas),n)\n",
    "        \n",
    "        child = []\n",
    "        \n",
    "        for i in range(neuronas):\n",
    "            \n",
    "            \n",
    "            if i in random_nodes:\n",
    "                inicio, fin =self.get_nodo(i,parent1)\n",
    "                #print(inicio,fin)\n",
    "                row = elementos_lista[parent1][inicio:fin]\n",
    "                child += row.tolist()\n",
    "            else:\n",
    "                inicio, fin =self.get_nodo(i,parent2)\n",
    "                #print(inicio,fin)\n",
    "                row = elementos_lista[parent2][inicio:fin]\n",
    "                child += row.tolist()\n",
    "                \n",
    "        if neuronas-1 in random_nodes:\n",
    "            inicio, fin =self.get_nodo(neuronas-1,parent1)\n",
    "            row = elementos_lista[parent1][inicio:]\n",
    "        else:\n",
    "            inicio, fin =self.get_nodo(neuronas-1,parent2)\n",
    "            row = elementos_lista[parent2][inicio:]\n",
    "            child += row.tolist()\n",
    "        \n",
    "        return torch.tensor(child)\n",
    "                \n",
    "                \n",
    "    \n",
    "\n",
    "    def train(self, X, y, steps=50):\n",
    "        '''\n",
    "        Define la función de entrenamiento, la cuál se realizará el número de pasos \n",
    "        seleccionados. Usa la variable de parent_scalar para determinar la probabilidad \n",
    "        de que un individuo de la población sea remplazado en cada iteración. Muestra \n",
    "        una gráfica del error al finalizar el entrenamiento. Y regresa una red con\n",
    "        los pesos del individuo con mejor fitness al finalizar el entrenamiento.\n",
    "        '''\n",
    "        elems_copy = self.elements.clone()\n",
    "        \n",
    "        errors = []\n",
    "        \n",
    "        for pasos in range(steps):\n",
    "            \n",
    "            new_gen =[]\n",
    "            \n",
    "            best_scores = sorted(range(len(elems_copy)), key= lambda x: self.fitness(X,y,x,elems_copy))\n",
    "            best = best_scores[0]\n",
    "            \n",
    "            \n",
    "            if pasos%50 == 1:\n",
    "                errors.append(self.fitness(X,y,best,elems_copy))\n",
    "                print(f'Paso {pasos}, errores: {errors[-1]}, peor score:{self.fitness(X,y,best_scores[-1],elems_copy)}')\n",
    "                \n",
    "                #print(parent2_idx)\n",
    "            \n",
    "            p_cross = self.parent_scalar\n",
    "            \n",
    "            \n",
    "            \n",
    "            \n",
    "            for i in range(1,self.population_size):\n",
    "                rand_int = np.random.sample()\n",
    "                \n",
    "                if rand_int < self.operator_probabilities: #mutamos\n",
    "                    \n",
    "                    parent_idx = np.random.randint(0,self.population_size-1)\n",
    "                    #print(parent_idx)\n",
    "                    self.mutacion(2,parent_idx,elems_copy)\n",
    "                    child = elems_copy[parent_idx]\n",
    "                    new_gen.append(child)\n",
    "                    \n",
    "                    \n",
    "                else: #Cruzamos\n",
    "                    parent_idx = 0\n",
    "                    parent2_idx = 0\n",
    "                    \n",
    "                    while(parent_idx < self.population_size):\n",
    "                        rand_int = np.random.sample()\n",
    "                        if rand_int < p_cross:\n",
    "                            break\n",
    "                        parent_idx +=1\n",
    "                    \n",
    "                    \n",
    "                    while(parent2_idx<self.population_size):\n",
    "                        rand_int = np.random.sample()\n",
    "                        if (rand_int < p_cross) and (parent2_idx != parent_idx):\n",
    "                            break\n",
    "                        parent2_idx +=1\n",
    "                        \n",
    "                    child = self.cross(best_scores[parent_idx],best_scores[parent2_idx],elems_copy)\n",
    "                    new_gen.append(child)\n",
    "        \n",
    "        \n",
    "            \n",
    "        \n",
    "            elems_copy = new_gen\n",
    "            \n",
    "        plt.plot(errors)\n",
    "        self.elements = elems_copy\n",
    "        \n",
    "    def confusion(self, test_X, test_Y):\n",
    "        '''\n",
    "        Muestra la matriz de confusión que presenta los valores actuales de\n",
    "        la red, respecto al conjunto de datos que se decida usar.\n",
    "        '''\n",
    "        capa1 = self.model.fc1\n",
    "        capa2 = self.model.fc2\n",
    "        capa3 = self.model.fc3\n",
    "        best_scores = sorted(range(len(self.elements)), key= lambda x: self.fitness(test_X,test_Y,x,self.elements))\n",
    "        element = best_scores[0]\n",
    "        pesos = self.get_weights(element,self.elements)\n",
    "\n",
    "        w1 = pesos[0]\n",
    "        w2 = pesos[1]\n",
    "        w3 = pesos[2]\n",
    "        #print('hola')\n",
    "\n",
    "        with torch.no_grad():\n",
    "            capa1.weight = nn.Parameter(w1)\n",
    "            capa2.weight = nn.Parameter(w2)\n",
    "            capa3.weight = nn.Parameter(w3)\n",
    "\n",
    "\n",
    "        y_pred = self.model.forward(test_X)\n",
    "        #print(y_pred[:20])\n",
    "        \n",
    "        labels = []\n",
    "        for salida in y_pred:\n",
    "            label = []\n",
    "            max_idx = max(salida)\n",
    "\n",
    "            for i in range(7):\n",
    "                if salida[i] == max_idx:\n",
    "                    label.append(1.)\n",
    "                else:\n",
    "                    label.append(0.)\n",
    "            labels.append(label)\n",
    "\n",
    "        VP = 0\n",
    "        VN = 0\n",
    "        FP = 0\n",
    "        FN = 0\n",
    "\n",
    "        for i in range(len(test_Y)):\n",
    "\n",
    "            if all(torch.tensor(labels[i])==test_Y[i]):\n",
    "                VP += 1\n",
    "                VN += 6\n",
    "            else:\n",
    "                FP += 1\n",
    "                FN += 1\n",
    "                VN += 5\n",
    "\n",
    "        print(\n",
    "        \"\"\"\n",
    "    VP ={:.<5}    FN={:.<5}\n",
    "    FP ={:.<5}    VN={:.<5}\n",
    "\n",
    "            \"\"\".format(VP,FN,FP,VN)) \n",
    "        "
   ]
  },
  {
   "cell_type": "code",
   "execution_count": null,
   "metadata": {},
   "outputs": [],
   "source": []
  }
 ],
 "metadata": {
  "kernelspec": {
   "display_name": "Python 3",
   "language": "python",
   "name": "python3"
  },
  "language_info": {
   "codemirror_mode": {
    "name": "ipython",
    "version": 3
   },
   "file_extension": ".py",
   "mimetype": "text/x-python",
   "name": "python",
   "nbconvert_exporter": "python",
   "pygments_lexer": "ipython3",
   "version": "3.8.3"
  }
 },
 "nbformat": 4,
 "nbformat_minor": 4
}
