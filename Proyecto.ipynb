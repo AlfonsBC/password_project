{
 "cells": [
  {
   "cell_type": "markdown",
   "metadata": {},
   "source": [
    "# Proyecto"
   ]
  },
  {
   "cell_type": "markdown",
   "metadata": {},
   "source": [
    "Objetivo: Analizar la seguridad de contraseñas con base en la lista de contraseñas y su frecuencia de uso"
   ]
  },
  {
   "cell_type": "markdown",
   "metadata": {},
   "source": [
    "- Los problemas de clasificación predicen una lista ordenada o una clasificación de objetos, la manera en el que se realizó la consulta. Esto podría ser bastante práctico si lo que queremos es regresar la lista de contraseñas que alguien podría colocar al momento de ingresar su contraseña. \n",
    "- La clasificación predice una etiqueta y los problemas incluyen problemas binarios de \"sí o no\" como \"si esta imagen es un corgi o un muffin de arándanos\", así como problemas de clasificación múltiple como \"si esto es bueno, malo o promedio\". Con la clasificación, las respuestas correctas deben etiquetarse para que su algoritmo pueda aprender de ellas.\n",
    "- Exactamente, que es lo que deseamos encontrar?\n",
    "- Que tipo de visualizaciones se elige?\n",
    "\n",
    "Fuente de la información:\n",
    "1. Bruteforce Database Github\n",
    "2. https://github.com/duyet/bruteforce-database\n",
    "3. https://haveibeenpwned.com/Passwords **Pwned Passwords 20 GB.**\n",
    "4. https://www.kaggle.com/search?q=passwords\n",
    "5. https://github.com/robinske/password-data"
   ]
  },
  {
   "cell_type": "markdown",
   "metadata": {},
   "source": [
    "Primero haremos una exploración de los datos:"
   ]
  },
  {
   "cell_type": "code",
   "execution_count": 1,
   "metadata": {
    "ExecuteTime": {
     "end_time": "2021-01-21T19:18:17.737474Z",
     "start_time": "2021-01-21T19:18:15.209409Z"
    }
   },
   "outputs": [],
   "source": [
    "import pandas as pd\n",
    "import matplotlib.pyplot as plt\n",
    "import numpy as np\n",
    "import seaborn as sns\n",
    "from numpy import random\n",
    "from torch.multiprocessing import Process, Queue, Lock\n",
    "import multiprocessing as mp"
   ]
  },
  {
   "cell_type": "code",
   "execution_count": 2,
   "metadata": {
    "ExecuteTime": {
     "end_time": "2021-01-21T19:18:21.790817Z",
     "start_time": "2021-01-21T19:18:17.739627Z"
    }
   },
   "outputs": [
    {
     "data": {
      "text/html": [
       "<div>\n",
       "<style scoped>\n",
       "    .dataframe tbody tr th:only-of-type {\n",
       "        vertical-align: middle;\n",
       "    }\n",
       "\n",
       "    .dataframe tbody tr th {\n",
       "        vertical-align: top;\n",
       "    }\n",
       "\n",
       "    .dataframe thead th {\n",
       "        text-align: right;\n",
       "    }\n",
       "</style>\n",
       "<table border=\"1\" class=\"dataframe\">\n",
       "  <thead>\n",
       "    <tr style=\"text-align: right;\">\n",
       "      <th></th>\n",
       "      <th>password</th>\n",
       "      <th>hash</th>\n",
       "      <th>count</th>\n",
       "    </tr>\n",
       "  </thead>\n",
       "  <tbody>\n",
       "    <tr>\n",
       "      <th>0</th>\n",
       "      <td>1980290</td>\n",
       "      <td>083040BB6B1D95F2B8AC447B50D21DAB38DAFF16</td>\n",
       "      <td>13</td>\n",
       "    </tr>\n",
       "    <tr>\n",
       "      <th>1</th>\n",
       "      <td>tornadof</td>\n",
       "      <td>0A7709AD9837766F20156FF016ABF66F8036ABC1</td>\n",
       "      <td>13</td>\n",
       "    </tr>\n",
       "    <tr>\n",
       "      <th>2</th>\n",
       "      <td>vova87654</td>\n",
       "      <td>66221A7691CDC27D9D31071A0CFA0712C100C7D7</td>\n",
       "      <td>13</td>\n",
       "    </tr>\n",
       "    <tr>\n",
       "      <th>3</th>\n",
       "      <td>XpKvShrO</td>\n",
       "      <td>4CB7086C94AE4D82E519FF8F98D0DA1DA38DBE53</td>\n",
       "      <td>13</td>\n",
       "    </tr>\n",
       "    <tr>\n",
       "      <th>4</th>\n",
       "      <td>tvjgtl</td>\n",
       "      <td>9E1FD26A17D2EBE7C9FD4181EF49424C7091D484</td>\n",
       "      <td>13</td>\n",
       "    </tr>\n",
       "    <tr>\n",
       "      <th>...</th>\n",
       "      <td>...</td>\n",
       "      <td>...</td>\n",
       "      <td>...</td>\n",
       "    </tr>\n",
       "    <tr>\n",
       "      <th>6840</th>\n",
       "      <td>491144</td>\n",
       "      <td>4511C39CDA1EFE76964C79783B52053BA7CD09DD</td>\n",
       "      <td>69</td>\n",
       "    </tr>\n",
       "    <tr>\n",
       "      <th>6841</th>\n",
       "      <td>xeyfhm3477362341</td>\n",
       "      <td>E2EC663D721E9F22F5CF39D5AA27A89CE00172D0</td>\n",
       "      <td>69</td>\n",
       "    </tr>\n",
       "    <tr>\n",
       "      <th>6842</th>\n",
       "      <td>irontree4</td>\n",
       "      <td>350AA827594B47AF3BCB9256E2388EFB958C4529</td>\n",
       "      <td>69</td>\n",
       "    </tr>\n",
       "    <tr>\n",
       "      <th>6843</th>\n",
       "      <td>wh2t3v3r</td>\n",
       "      <td>221C76F1C2AD5883003AF5EB7A495A41580B87C5</td>\n",
       "      <td>69</td>\n",
       "    </tr>\n",
       "    <tr>\n",
       "      <th>6844</th>\n",
       "      <td>santomas</td>\n",
       "      <td>510B26B12A43531A14333545C6D802E47FA411AC</td>\n",
       "      <td>69</td>\n",
       "    </tr>\n",
       "  </tbody>\n",
       "</table>\n",
       "<p>677568 rows × 3 columns</p>\n",
       "</div>"
      ],
      "text/plain": [
       "              password                                      hash  count\n",
       "0              1980290  083040BB6B1D95F2B8AC447B50D21DAB38DAFF16     13\n",
       "1             tornadof  0A7709AD9837766F20156FF016ABF66F8036ABC1     13\n",
       "2            vova87654  66221A7691CDC27D9D31071A0CFA0712C100C7D7     13\n",
       "3             XpKvShrO  4CB7086C94AE4D82E519FF8F98D0DA1DA38DBE53     13\n",
       "4               tvjgtl  9E1FD26A17D2EBE7C9FD4181EF49424C7091D484     13\n",
       "...                ...                                       ...    ...\n",
       "6840            491144  4511C39CDA1EFE76964C79783B52053BA7CD09DD     69\n",
       "6841  xeyfhm3477362341  E2EC663D721E9F22F5CF39D5AA27A89CE00172D0     69\n",
       "6842         irontree4  350AA827594B47AF3BCB9256E2388EFB958C4529     69\n",
       "6843          wh2t3v3r  221C76F1C2AD5883003AF5EB7A495A41580B87C5     69\n",
       "6844          santomas  510B26B12A43531A14333545C6D802E47FA411AC     69\n",
       "\n",
       "[677568 rows x 3 columns]"
      ]
     },
     "execution_count": 2,
     "metadata": {},
     "output_type": "execute_result"
    }
   ],
   "source": [
    "data =pd.read_csv('passwords/pass (1).csv')\n",
    "for i in range(2,100):\n",
    "    filename = pd.read_csv('passwords/pass ('+str(i)+').csv')\n",
    "    data = pd.concat([data,filename],axis=0)\n",
    "data"
   ]
  },
  {
   "cell_type": "markdown",
   "metadata": {},
   "source": [
    "## Perfilado de Datos\n",
    "\n",
    "Para esto, vamos a ver algunas características de los datos, como sus valores nulos y duplicados."
   ]
  },
  {
   "cell_type": "code",
   "execution_count": 3,
   "metadata": {
    "ExecuteTime": {
     "end_time": "2021-01-21T19:18:21.885109Z",
     "start_time": "2021-01-21T19:18:21.793095Z"
    }
   },
   "outputs": [
    {
     "data": {
      "text/plain": [
       "password    2\n",
       "hash        0\n",
       "count       0\n",
       "dtype: int64"
      ]
     },
     "execution_count": 3,
     "metadata": {},
     "output_type": "execute_result"
    }
   ],
   "source": [
    "data.isnull().sum()"
   ]
  },
  {
   "cell_type": "code",
   "execution_count": 4,
   "metadata": {
    "ExecuteTime": {
     "end_time": "2021-01-21T19:18:22.103156Z",
     "start_time": "2021-01-21T19:18:21.888582Z"
    }
   },
   "outputs": [
    {
     "data": {
      "text/plain": [
       "password    0\n",
       "hash        0\n",
       "count       0\n",
       "dtype: int64"
      ]
     },
     "execution_count": 4,
     "metadata": {},
     "output_type": "execute_result"
    }
   ],
   "source": [
    "data = data.dropna(axis=0)\n",
    "data.isnull().sum()"
   ]
  },
  {
   "cell_type": "markdown",
   "metadata": {},
   "source": [
    "Ahora, existen valores duplicados en cada documento, que son el conteo de contraseñas segmentado, por lo cual será adecuado sumar las cuentas de todos los duplicados\n",
    "para obtener el número de veces que cada contraseña fue usada.\n",
    "\n",
    "Adicionalmente, en este momento no haremos usos de las firmas hash, puesto que no son relevantes para nuestro caso de estudio"
   ]
  },
  {
   "cell_type": "code",
   "execution_count": 5,
   "metadata": {
    "ExecuteTime": {
     "end_time": "2021-01-21T19:18:24.468039Z",
     "start_time": "2021-01-21T19:18:22.104843Z"
    }
   },
   "outputs": [
    {
     "name": "stdout",
     "output_type": "stream",
     "text": [
      "(677566, 2)\n"
     ]
    },
    {
     "data": {
      "text/html": [
       "<div>\n",
       "<style scoped>\n",
       "    .dataframe tbody tr th:only-of-type {\n",
       "        vertical-align: middle;\n",
       "    }\n",
       "\n",
       "    .dataframe tbody tr th {\n",
       "        vertical-align: top;\n",
       "    }\n",
       "\n",
       "    .dataframe thead th {\n",
       "        text-align: right;\n",
       "    }\n",
       "</style>\n",
       "<table border=\"1\" class=\"dataframe\">\n",
       "  <thead>\n",
       "    <tr style=\"text-align: right;\">\n",
       "      <th></th>\n",
       "      <th>password</th>\n",
       "      <th>count</th>\n",
       "    </tr>\n",
       "  </thead>\n",
       "  <tbody>\n",
       "    <tr>\n",
       "      <th>0</th>\n",
       "      <td>!!!!!</td>\n",
       "      <td>401</td>\n",
       "    </tr>\n",
       "    <tr>\n",
       "      <th>1</th>\n",
       "      <td>!!!!!!</td>\n",
       "      <td>2304</td>\n",
       "    </tr>\n",
       "    <tr>\n",
       "      <th>2</th>\n",
       "      <td>!!!!!!!</td>\n",
       "      <td>386</td>\n",
       "    </tr>\n",
       "    <tr>\n",
       "      <th>3</th>\n",
       "      <td>!12345</td>\n",
       "      <td>312</td>\n",
       "    </tr>\n",
       "    <tr>\n",
       "      <th>4</th>\n",
       "      <td>!23456</td>\n",
       "      <td>347</td>\n",
       "    </tr>\n",
       "  </tbody>\n",
       "</table>\n",
       "</div>"
      ],
      "text/plain": [
       "  password  count\n",
       "0    !!!!!    401\n",
       "1   !!!!!!   2304\n",
       "2  !!!!!!!    386\n",
       "3   !12345    312\n",
       "4   !23456    347"
      ]
     },
     "execution_count": 5,
     "metadata": {},
     "output_type": "execute_result"
    }
   ],
   "source": [
    "data = data.groupby(data['password']).agg({'count':sum}).reset_index()\n",
    "print(data.shape)\n",
    "data.head()"
   ]
  },
  {
   "cell_type": "markdown",
   "metadata": {},
   "source": [
    "## Exploración de los datos:\n",
    "\n",
    "Veamos algunas de las contraseñas más utilizadas"
   ]
  },
  {
   "cell_type": "code",
   "execution_count": 6,
   "metadata": {
    "ExecuteTime": {
     "end_time": "2021-01-21T19:18:24.671949Z",
     "start_time": "2021-01-21T19:18:24.469741Z"
    }
   },
   "outputs": [
    {
     "data": {
      "text/html": [
       "<div>\n",
       "<style scoped>\n",
       "    .dataframe tbody tr th:only-of-type {\n",
       "        vertical-align: middle;\n",
       "    }\n",
       "\n",
       "    .dataframe tbody tr th {\n",
       "        vertical-align: top;\n",
       "    }\n",
       "\n",
       "    .dataframe thead th {\n",
       "        text-align: right;\n",
       "    }\n",
       "</style>\n",
       "<table border=\"1\" class=\"dataframe\">\n",
       "  <thead>\n",
       "    <tr style=\"text-align: right;\">\n",
       "      <th></th>\n",
       "      <th>password</th>\n",
       "      <th>count</th>\n",
       "    </tr>\n",
       "  </thead>\n",
       "  <tbody>\n",
       "    <tr>\n",
       "      <th>43879</th>\n",
       "      <td>123456789</td>\n",
       "      <td>7016669</td>\n",
       "    </tr>\n",
       "    <tr>\n",
       "      <th>506981</th>\n",
       "      <td>qwerty</td>\n",
       "      <td>3599486</td>\n",
       "    </tr>\n",
       "    <tr>\n",
       "      <th>35227</th>\n",
       "      <td>111111</td>\n",
       "      <td>2900049</td>\n",
       "    </tr>\n",
       "    <tr>\n",
       "      <th>43856</th>\n",
       "      <td>12345678</td>\n",
       "      <td>2680521</td>\n",
       "    </tr>\n",
       "    <tr>\n",
       "      <th>223879</th>\n",
       "      <td>abc123</td>\n",
       "      <td>2670319</td>\n",
       "    </tr>\n",
       "  </tbody>\n",
       "</table>\n",
       "</div>"
      ],
      "text/plain": [
       "         password    count\n",
       "43879   123456789  7016669\n",
       "506981     qwerty  3599486\n",
       "35227      111111  2900049\n",
       "43856    12345678  2680521\n",
       "223879     abc123  2670319"
      ]
     },
     "execution_count": 6,
     "metadata": {},
     "output_type": "execute_result"
    }
   ],
   "source": [
    "data = data.sort_values(by='count',ascending=False)\n",
    "data.head()"
   ]
  },
  {
   "cell_type": "markdown",
   "metadata": {},
   "source": [
    "La cuenta de aquellas contraseñas que tienen únicamente valores numéricos:"
   ]
  },
  {
   "cell_type": "code",
   "execution_count": 7,
   "metadata": {
    "ExecuteTime": {
     "end_time": "2021-01-21T19:18:25.329566Z",
     "start_time": "2021-01-21T19:18:24.677951Z"
    }
   },
   "outputs": [
    {
     "name": "stdout",
     "output_type": "stream",
     "text": [
      "Contraseñas formadas por números:\n",
      "142340\n",
      "Suma del uso de contraseñas formadas por números\n",
      "171260703\n"
     ]
    }
   ],
   "source": [
    "# Variable que guardará el total de contraseñas con esta característica y las veces que fueron utilizadas\n",
    "data_patrones = []\n",
    "\n",
    "numeric = data[data['password'].str.isnumeric() == True].count()[0]\n",
    "numeric_count_sum = data[data['password'].str.isnumeric() == True]['count'].sum()\n",
    "\n",
    "print('Contraseñas formadas por números:')\n",
    "print(numeric)\n",
    "print('Suma del uso de contraseñas formadas por números')\n",
    "print(numeric_count_sum)\n",
    "\n",
    "data_patrones += 'Numeric only', numeric, numeric_count_sum"
   ]
  },
  {
   "cell_type": "code",
   "execution_count": 8,
   "metadata": {
    "ExecuteTime": {
     "end_time": "2021-01-21T19:18:25.860036Z",
     "start_time": "2021-01-21T19:18:25.331741Z"
    }
   },
   "outputs": [
    {
     "name": "stdout",
     "output_type": "stream",
     "text": [
      "Contraseñas formadas por letras:\n",
      "278189\n",
      "Suma del uso de contraseñas formadas por letras\n",
      "335503274\n"
     ]
    }
   ],
   "source": [
    "alpha = data[data['password'].str.isalpha() == True].count()[0]\n",
    "alpha_count_sum = data[data['password'].str.isalpha() == True]['count'].sum()\n",
    "\n",
    "print('Contraseñas formadas por letras:')\n",
    "print(alpha)\n",
    "print('Suma del uso de contraseñas formadas por letras')\n",
    "print(alpha_count_sum)\n",
    "\n",
    "data_patrones += 'Alpha only', alpha, alpha_count_sum"
   ]
  },
  {
   "cell_type": "markdown",
   "metadata": {},
   "source": [
    "---\n",
    "A continuación consideraremos que una contraseña corta es aquella con menos de 8 carácteres:"
   ]
  },
  {
   "cell_type": "code",
   "execution_count": 9,
   "metadata": {
    "ExecuteTime": {
     "end_time": "2021-01-21T19:18:26.524160Z",
     "start_time": "2021-01-21T19:18:25.861764Z"
    }
   },
   "outputs": [
    {
     "name": "stdout",
     "output_type": "stream",
     "text": [
      "Contraseñas cortas:\n",
      "382452\n",
      "Suma del uso de contraseñas cortas\n",
      "477964360\n"
     ]
    }
   ],
   "source": [
    "short_pass = data[data['password'].str.len() < 8].count()[0]\n",
    "short_pass_count_sum = data[data['password'].str.len() < 8]['count'].sum()\n",
    "\n",
    "print('Contraseñas cortas:')\n",
    "print(short_pass)\n",
    "print('Suma del uso de contraseñas cortas')\n",
    "print(short_pass_count_sum)\n",
    "\n",
    "data_patrones += 'Short Passwords', short_pass, short_pass_count_sum"
   ]
  },
  {
   "cell_type": "markdown",
   "metadata": {},
   "source": [
    "---\n",
    "Y analizamos aquellas que tienen carácteres poco comunes o poco usados, como guiones, signos de exclamación, etc."
   ]
  },
  {
   "cell_type": "code",
   "execution_count": 10,
   "metadata": {
    "ExecuteTime": {
     "end_time": "2021-01-21T19:18:28.699546Z",
     "start_time": "2021-01-21T19:18:26.525852Z"
    }
   },
   "outputs": [
    {
     "name": "stderr",
     "output_type": "stream",
     "text": [
      "/home/oswald/anaconda3/lib/python3.8/site-packages/pandas/core/strings.py:1954: UserWarning: This pattern has match groups. To actually get the groups, use str.extract.\n",
      "  return func(self, *args, **kwargs)\n"
     ]
    },
    {
     "name": "stdout",
     "output_type": "stream",
     "text": [
      "Contraseñas cortas:\n",
      "2147\n",
      "Suma del uso de contraseñas cortas\n",
      "1977061\n"
     ]
    }
   ],
   "source": [
    "special_chars = ['!','\"','#','<','>','%','&','/','=',\n",
    "                '(\\?)','(\\()','(\\))',\"'\",'¡','¿','(\\+)','~',']','}',\n",
    "                '(\\[)','{',',',';',':','(\\.)','_','-','(\\*)','(\\^)']\n",
    "\n",
    "special_chars = '|'.join(special_chars)\n",
    "special_pass = data[data['password'].str.contains(special_chars) == True].count()[0]\n",
    "special_pass_count_sum = data[data['password'].str.contains(special_chars) == True]['count'].sum()\n",
    "\n",
    "print('Contraseñas cortas:')\n",
    "print(special_pass)\n",
    "print('Suma del uso de contraseñas cortas')\n",
    "print(special_pass_count_sum)\n",
    "\n",
    "data_patrones += 'Special Characters', special_pass, special_pass_count_sum"
   ]
  },
  {
   "cell_type": "markdown",
   "metadata": {},
   "source": [
    "Siguientes pasos:\n",
    "- Análisis de las frecuencias\n",
    "- Generar métrica para el score para las contraseñas de acuerdo a su frecuencia\n",
    "- Red neuronal Recurrente (?) para evaluar seguridad de una contraseña entrenada con las scores del punto anterior\n",
    "- Hacer análisis mediante k-neighbors o kohonen para comparar\n",
    "- Proponer contraseñas seguras (por definir método)"
   ]
  },
  {
   "cell_type": "markdown",
   "metadata": {},
   "source": [
    "Ahora vamos a establecer una métrica para pasar de la cuenta de las contraseñas a una métrica de su seguridad, para esto se decide hacer un escalamiento estándar al inverso de la cuenta de contraseñas. Esto para darle una mayor scoring a aquellos que tienen menos apariciones."
   ]
  },
  {
   "cell_type": "code",
   "execution_count": 11,
   "metadata": {
    "ExecuteTime": {
     "end_time": "2021-01-21T19:18:32.078941Z",
     "start_time": "2021-01-21T19:18:28.700710Z"
    }
   },
   "outputs": [
    {
     "data": {
      "text/plain": [
       "(677566, 27)"
      ]
     },
     "execution_count": 11,
     "metadata": {},
     "output_type": "execute_result"
    }
   ],
   "source": [
    "from copy import copy\n",
    "\n",
    "pass_count = data.iloc[:,1].values\n",
    "pass_count = 1/pass_count\n",
    "passes = copy(data.iloc[:,0].values.tolist())\n",
    "#print(passes)\n",
    "\n",
    "max_len_pass = 0 # Vamos guardando la longitud de contraseña más grande\n",
    "min_string = 1000 # Guardamos el ASCII más pequeño que nos encontramos\n",
    "\n",
    "for i in range(len(passes)):\n",
    "    passes[i] = list(map(ord,list(passes[i])))\n",
    "    if len(passes[i]) > max_len_pass:\n",
    "        max_len_pass = len(passes[i])\n",
    "    \n",
    "    for letter_ascii in passes[i]:\n",
    "        if letter_ascii < min_string:\n",
    "            min_string = letter_ascii\n",
    "\n",
    "min_string -= 1 # min_string será el valor para el espacio vacío\n",
    "\n",
    "for i in range(len(passes)):\n",
    "    n = len(passes[i])\n",
    "    passes[i] = passes[i] + [min_string]*(max_len_pass-len(passes[i]))\n",
    "    \n",
    "    \n",
    "passes = np.array(passes)\n",
    "passes.shape"
   ]
  },
  {
   "cell_type": "code",
   "execution_count": 12,
   "metadata": {
    "ExecuteTime": {
     "end_time": "2021-01-21T19:18:32.567405Z",
     "start_time": "2021-01-21T19:18:32.080088Z"
    }
   },
   "outputs": [
    {
     "data": {
      "text/plain": [
       "array([[ True,  True,  True,  True,  True,  True,  True,  True,  True,\n",
       "         True,  True,  True,  True,  True,  True,  True,  True,  True,\n",
       "         True,  True,  True,  True,  True,  True,  True,  True,  True]])"
      ]
     },
     "execution_count": 12,
     "metadata": {},
     "output_type": "execute_result"
    }
   ],
   "source": [
    "from sklearn.preprocessing import MinMaxScaler\n",
    "\n",
    "ms = MinMaxScaler()\n",
    "passes_std = ms.fit_transform(passes.reshape(-1,27))\n",
    "\n",
    "def password_to_encode(password):\n",
    "    '''\n",
    "    Función que dada una contraseña, devuelve el encoding acomodado al tratamiento\n",
    "    que tuvieron los datos de este documento.\n",
    "    --------------------------------------------------------------\n",
    "    :param password str: Cadena de texto que contiene la contraseña a convertir\n",
    "    \n",
    "    :returns array: Vector 27-dimensional codificado. \n",
    "    '''\n",
    "    pass_vector = list(map(ord,list(password)))\n",
    "    pass_vector += [min_string]*(max_len_pass-len(pass_vector))\n",
    "    pass_vector = np.array(pass_vector)\n",
    "    pass_vector = ms.transform(pass_vector.reshape(-1,27))\n",
    "    \n",
    "    return pass_vector\n",
    "    \n",
    "password_to_encode(data.iloc[:,0].values[0]) == passes_std[0]"
   ]
  },
  {
   "cell_type": "code",
   "execution_count": 13,
   "metadata": {
    "ExecuteTime": {
     "end_time": "2021-01-21T19:18:32.579722Z",
     "start_time": "2021-01-21T19:18:32.569267Z"
    }
   },
   "outputs": [],
   "source": [
    "from sklearn.preprocessing import MinMaxScaler    \n",
    "    \n",
    "\n",
    "sc = MinMaxScaler()\n",
    "pass_count_std = sc.fit_transform(pass_count.reshape(-1,1))\n",
    "pass_count_std = pass_count_std.reshape(-1)"
   ]
  },
  {
   "cell_type": "markdown",
   "metadata": {},
   "source": [
    "Ahora procederemos a hacer el intervalo que abarca el escalamiento, dividiendo en 50 bloques"
   ]
  },
  {
   "cell_type": "code",
   "execution_count": 14,
   "metadata": {
    "ExecuteTime": {
     "end_time": "2021-01-21T19:18:32.717960Z",
     "start_time": "2021-01-21T19:18:32.581873Z"
    }
   },
   "outputs": [],
   "source": [
    "minimo = min(pass_count_std)\n",
    "maximo = max(pass_count_std)\n",
    "intervalo = np.linspace(minimo,maximo)"
   ]
  },
  {
   "cell_type": "markdown",
   "metadata": {},
   "source": [
    "Enseguida, se asigna una puntuación a las contraseñas en función a su posicionamiento en el escalamiento, siendo aquellos que se encuentran en la cola inferior, los que tienen peor seguridad, mientras los que estén en la cola superior, tendrán un score de 49, la máxima seguridad."
   ]
  },
  {
   "cell_type": "code",
   "execution_count": 15,
   "metadata": {
    "ExecuteTime": {
     "end_time": "2021-01-21T19:18:33.036303Z",
     "start_time": "2021-01-21T19:18:32.719226Z"
    }
   },
   "outputs": [],
   "source": [
    "pass_security = np.zeros(len(pass_count_std))\n",
    "intervalo_idx = 0\n",
    "for i in range(len(pass_count_std)):\n",
    "    while( intervalo[intervalo_idx] < pass_count_std[i]):\n",
    "        intervalo_idx += 1\n",
    "    pass_security[i] = intervalo_idx\n",
    "pass_security = pass_security.astype(int)"
   ]
  },
  {
   "cell_type": "code",
   "execution_count": 16,
   "metadata": {
    "ExecuteTime": {
     "end_time": "2021-01-21T19:18:33.040394Z",
     "start_time": "2021-01-21T19:18:33.037602Z"
    }
   },
   "outputs": [
    {
     "name": "stdout",
     "output_type": "stream",
     "text": [
      "(677566, 27)\n"
     ]
    }
   ],
   "source": [
    "print(passes.shape)"
   ]
  },
  {
   "cell_type": "code",
   "execution_count": 17,
   "metadata": {
    "ExecuteTime": {
     "end_time": "2021-01-21T19:18:33.065267Z",
     "start_time": "2021-01-21T19:18:33.041785Z"
    }
   },
   "outputs": [
    {
     "data": {
      "text/html": [
       "<div>\n",
       "<style scoped>\n",
       "    .dataframe tbody tr th:only-of-type {\n",
       "        vertical-align: middle;\n",
       "    }\n",
       "\n",
       "    .dataframe tbody tr th {\n",
       "        vertical-align: top;\n",
       "    }\n",
       "\n",
       "    .dataframe thead th {\n",
       "        text-align: right;\n",
       "    }\n",
       "</style>\n",
       "<table border=\"1\" class=\"dataframe\">\n",
       "  <thead>\n",
       "    <tr style=\"text-align: right;\">\n",
       "      <th></th>\n",
       "      <th>Password</th>\n",
       "      <th>Security</th>\n",
       "    </tr>\n",
       "  </thead>\n",
       "  <tbody>\n",
       "    <tr>\n",
       "      <th>43879</th>\n",
       "      <td>123456789</td>\n",
       "      <td>0</td>\n",
       "    </tr>\n",
       "    <tr>\n",
       "      <th>506981</th>\n",
       "      <td>qwerty</td>\n",
       "      <td>1</td>\n",
       "    </tr>\n",
       "    <tr>\n",
       "      <th>35227</th>\n",
       "      <td>111111</td>\n",
       "      <td>1</td>\n",
       "    </tr>\n",
       "    <tr>\n",
       "      <th>43856</th>\n",
       "      <td>12345678</td>\n",
       "      <td>1</td>\n",
       "    </tr>\n",
       "    <tr>\n",
       "      <th>223879</th>\n",
       "      <td>abc123</td>\n",
       "      <td>1</td>\n",
       "    </tr>\n",
       "    <tr>\n",
       "      <th>...</th>\n",
       "      <td>...</td>\n",
       "      <td>...</td>\n",
       "    </tr>\n",
       "    <tr>\n",
       "      <th>657154</th>\n",
       "      <td>yzx2095</td>\n",
       "      <td>49</td>\n",
       "    </tr>\n",
       "    <tr>\n",
       "      <th>164115</th>\n",
       "      <td>80931194654</td>\n",
       "      <td>49</td>\n",
       "    </tr>\n",
       "    <tr>\n",
       "      <th>607352</th>\n",
       "      <td>wallygoo</td>\n",
       "      <td>49</td>\n",
       "    </tr>\n",
       "    <tr>\n",
       "      <th>387486</th>\n",
       "      <td>jackpudes1</td>\n",
       "      <td>49</td>\n",
       "    </tr>\n",
       "    <tr>\n",
       "      <th>161449</th>\n",
       "      <td>7842209</td>\n",
       "      <td>49</td>\n",
       "    </tr>\n",
       "  </tbody>\n",
       "</table>\n",
       "<p>677566 rows × 2 columns</p>\n",
       "</div>"
      ],
      "text/plain": [
       "           Password  Security\n",
       "43879     123456789         0\n",
       "506981       qwerty         1\n",
       "35227        111111         1\n",
       "43856      12345678         1\n",
       "223879       abc123         1\n",
       "...             ...       ...\n",
       "657154      yzx2095        49\n",
       "164115  80931194654        49\n",
       "607352     wallygoo        49\n",
       "387486   jackpudes1        49\n",
       "161449      7842209        49\n",
       "\n",
       "[677566 rows x 2 columns]"
      ]
     },
     "execution_count": 17,
     "metadata": {},
     "output_type": "execute_result"
    }
   ],
   "source": [
    "passwords = pd.DataFrame({'Password':data.iloc[:,0],'Security':pass_security})\n",
    "passwords"
   ]
  },
  {
   "cell_type": "markdown",
   "metadata": {},
   "source": [
    "Dividimos en set de entrenamiento y validación"
   ]
  },
  {
   "cell_type": "code",
   "execution_count": 18,
   "metadata": {
    "ExecuteTime": {
     "end_time": "2021-01-21T19:18:33.238642Z",
     "start_time": "2021-01-21T19:18:33.066801Z"
    }
   },
   "outputs": [],
   "source": [
    "\n",
    "from sklearn.preprocessing import OneHotEncoder\n",
    "\n",
    "pass_security = pass_security.reshape(-1,1)\n",
    "ohe = OneHotEncoder()\n",
    "pass_security = ohe.fit_transform(pass_security).toarray()"
   ]
  },
  {
   "cell_type": "code",
   "execution_count": 19,
   "metadata": {
    "ExecuteTime": {
     "end_time": "2021-01-21T19:18:33.802060Z",
     "start_time": "2021-01-21T19:18:33.240118Z"
    }
   },
   "outputs": [],
   "source": [
    "from sklearn.model_selection import train_test_split\n",
    "\n",
    "X_train, X_test, y_train, y_test = train_test_split(passes_std, pass_security, test_size=0.2)"
   ]
  },
  {
   "cell_type": "code",
   "execution_count": 20,
   "metadata": {
    "ExecuteTime": {
     "end_time": "2021-01-21T19:18:33.806555Z",
     "start_time": "2021-01-21T19:18:33.803818Z"
    }
   },
   "outputs": [],
   "source": [
    "X = passes_std\n",
    "Y = pass_security"
   ]
  },
  {
   "cell_type": "code",
   "execution_count": 21,
   "metadata": {
    "ExecuteTime": {
     "end_time": "2021-01-21T19:18:33.814353Z",
     "start_time": "2021-01-21T19:18:33.808681Z"
    }
   },
   "outputs": [
    {
     "data": {
      "text/plain": [
       "array([[0., 0., 0., ..., 1., 0., 0.],\n",
       "       [0., 0., 0., ..., 0., 0., 0.],\n",
       "       [0., 0., 0., ..., 0., 1., 0.],\n",
       "       ...,\n",
       "       [0., 0., 0., ..., 0., 0., 0.],\n",
       "       [0., 1., 0., ..., 0., 0., 0.],\n",
       "       [0., 1., 0., ..., 0., 0., 0.]])"
      ]
     },
     "execution_count": 21,
     "metadata": {},
     "output_type": "execute_result"
    }
   ],
   "source": [
    "y_train"
   ]
  },
  {
   "cell_type": "code",
   "execution_count": 22,
   "metadata": {
    "ExecuteTime": {
     "end_time": "2021-01-21T19:18:33.819208Z",
     "start_time": "2021-01-21T19:18:33.816289Z"
    }
   },
   "outputs": [],
   "source": [
    "import torch\n",
    "import torch.nn as nn\n",
    "import torch.optim as optim"
   ]
  },
  {
   "cell_type": "code",
   "execution_count": 23,
   "metadata": {
    "ExecuteTime": {
     "end_time": "2021-01-21T19:18:33.851016Z",
     "start_time": "2021-01-21T19:18:33.822186Z"
    }
   },
   "outputs": [],
   "source": [
    "class Gen_net(nn.Module):\n",
    "    '''\n",
    "    Definimos un modelo de red neuronal sobre el cual podamos \n",
    "    evaluar el algoritmo genético.\n",
    "    '''\n",
    "    def __init__(self, in_features, hidden1, hidden2, out_features):\n",
    "        '''\n",
    "        Estructura de la red neuronal a utilizar.\n",
    "        -----------------------------------------\n",
    "        :param in_features int: Neuronas de entrada\n",
    "        :param hidden1 int: Neuronas en la primer capa oculta\n",
    "        :param hidden2 int: Neuronas en la segunda capa oculta\n",
    "        :param out_features: Neuronas de salida\n",
    "        '''\n",
    "        super(Gen_net,self).__init__()\n",
    "        \n",
    "        self.fc1 = nn.Linear(in_features = in_features, out_features = hidden1,bias = False)\n",
    "        self.fc2 = nn.Linear(in_features = hidden1, out_features = hidden2,bias = False)\n",
    "        self.fc3 = nn.Linear(in_features = hidden2, out_features= out_features,bias = False)\n",
    "        \n",
    "        self.in_features = in_features\n",
    "        self.hidden1 = hidden1\n",
    "        self.hidden2 = hidden2\n",
    "        self.out_features = out_features\n",
    "        \n",
    "\n",
    "        \n",
    "        \n",
    "    def forward(self, X):\n",
    "        '''\n",
    "        Función feed-forward con activación sigmoide entre capas.\n",
    "        ---------------------------------------------------------\n",
    "        :param X [float]: Vector o matriz de neuronas de entrada .\n",
    "        \n",
    "        :returns [float]: Activaciones de la red en la última capa.\n",
    "        '''\n",
    "        capa_oculta1 = torch.sigmoid(self.fc1(X))\n",
    "        capa_oculta2 = torch.sigmoid(self.fc2(capa_oculta1))\n",
    "        salida = torch.sigmoid(self.fc3(capa_oculta2))\n",
    "        \n",
    "        return salida\n",
    "\n",
    "\n",
    "    def back_propagate(self, X, Y):\n",
    "        '''\n",
    "        Función que hace un paso de backpropagation con la entrada X con salida correcta Y,\n",
    "        Como la función de activación sigmoide ronda entre valores del 0 y 1, esta nunca los\n",
    "        va a tocar, es por ello que consideramos un truncamiento en los valores 0.2,0.8 de tal\n",
    "        manera que aquellos valores antes del primero, no se activarán (0) y después del segundo, \n",
    "        se activarán (1). Utiliza función de error cuadrada.\n",
    "        -----------------------------------------------------------------------\n",
    "        :param X [float]: Matriz o Vector de neuronas de entrada\n",
    "        :param Y [float]: Matriz o Vector a predecir con la entrada X\n",
    "        \n",
    "        :returns [float]: Error de gradiente\n",
    "        '''\n",
    "        salida = self.forward(X)\n",
    "        funcion_error = nn.MSELoss()\n",
    "        \n",
    "        error = funcion_error(torch.clamp(salida,0.2,0.8),\n",
    "                               torch.clamp(Y,0.2,0.8))\n",
    "                    \n",
    "        error.backward()\n",
    "        \n",
    "        return error\n",
    "        \n",
    "    def train(self, train_X, train_Y, optimizer, ciclos=100):\n",
    "        '''\n",
    "        Función de entrenamiento para la red, la cual utiliza al conjunto\n",
    "        de entrenamiento y la función de error definida en la función\n",
    "        back_propagate(). Al finalizar, muestra una gráfica del error\n",
    "        ------------------------------------------------------------\n",
    "        :param train_X [float]: Datos de entrenamiento\n",
    "        :param train_Y [float]: Etiquetas correspondientes a los datos\n",
    "                                de entrenamiento.\n",
    "        :param optimizar torch.optim: Algoritmo de optimización\n",
    "        :ciclos int: Número de épocas de entrenamiento\n",
    "        \n",
    "        '''\n",
    "        self.optimizer = optimizer\n",
    "        criterio = torch.nn.MSELoss()\n",
    "        errores = np.zeros(ciclos)\n",
    "        \n",
    "        for ciclo in range(ciclos):\n",
    "            y_pred = self.forward(train_X)\n",
    "            perdida = criterio(torch.clamp(y_pred,0.2,0.8),\n",
    "                               torch.clamp(train_Y,0.2,0.8))\n",
    "            errores[ciclo] = perdida.item()\n",
    "            \n",
    "            self.optimizer.zero_grad()\n",
    "            self.back_propagate(train_X,train_Y)\n",
    "            self.optimizer.step()\n",
    "            \n",
    "        if ciclos > 1:\n",
    "            pasos = np.arange(ciclos)\n",
    "            plt.plot(pasos, errores, label='Entrenamiento')\n",
    "\n",
    "    def confusion(self, test_X, test_Y):\n",
    "        '''\n",
    "        Muestra la matriz de confusión que presenta los valores actuales de\n",
    "        la red, respecto al conjunto de datos que se decida usar.\n",
    "        '''\n",
    "        \n",
    "        y_pred = self.forward(test_X)\n",
    "        #print(y_pred[:20])\n",
    "        labels = []\n",
    "        for salida in y_pred:\n",
    "            label = []\n",
    "            max_idx = max(salida)\n",
    "            \n",
    "            for i in range(7):\n",
    "                if salida[i] == max_idx:\n",
    "                    label.append(1.)\n",
    "                else:\n",
    "                    label.append(0.)\n",
    "            labels.append(label)\n",
    "\n",
    "        VP = 0\n",
    "        VN = 0\n",
    "        FP = 0\n",
    "        FN = 0\n",
    "        \n",
    "        for i in range(len(test_Y)):\n",
    "\n",
    "            if all(torch.tensor(labels[i])==test_Y[i]):\n",
    "                VP += 1\n",
    "                VN += 6\n",
    "            else:\n",
    "                FP += 1\n",
    "                FN += 1\n",
    "                VN += 5\n",
    "            \n",
    "        print(\n",
    "        \"\"\"\n",
    "    VP ={:.<5}    FN={:.<5}\n",
    "    FP ={:.<5}    VN={:.<5}\n",
    "    \n",
    "            \"\"\".format(VP,FN,FP,VN)) \n",
    "        "
   ]
  },
  {
   "cell_type": "code",
   "execution_count": 24,
   "metadata": {
    "ExecuteTime": {
     "end_time": "2021-01-21T19:18:33.927996Z",
     "start_time": "2021-01-21T19:18:33.854009Z"
    },
    "code_folding": [
     192,
     219,
     356,
     415,
     430
    ]
   },
   "outputs": [],
   "source": [
    "import copy\n",
    "class Gen_train():\n",
    "    '''\n",
    "    Algoritmo genético \n",
    "    '''\n",
    "\n",
    "    def __init__(self, model, parent_scalar, operator_probabilities, population_size):\n",
    "        '''\n",
    "        Propiedades del algoritmo genético \n",
    "        -----------------------------------------\n",
    "        :param model nn.net: Red Neuronal sobre el que se aplicará el algoritmo\n",
    "        :param parent_scalar float: Parámetro que determina en la cruza, con qué\n",
    "                        probabilidad se escoje a los padres de un cromosoma:\n",
    "                        El mejor cromosoma tiene parent_scalar probabilidades de ser \n",
    "                        escogido como padre, si no, el segundo padre tiene parent_scalar\n",
    "                        probabilidad de ser escogido como padre y así hasta que encuentre 2 padres.\n",
    "        :param operator_probabilities [float]: Probabilidad de cada operador de ser utilizado.\n",
    "        :param population_size int: Población inicial elegida al azar utilizando una distribución t. \n",
    "        '''\n",
    "        self.model = model\n",
    "        self.parent_scalar = parent_scalar\n",
    "        self.operator_probabilities = operator_probabilities\n",
    "        self.population_size = population_size\n",
    "\n",
    "        # Elementos de la población\n",
    "        self.elements = []\n",
    "\n",
    "        # Forma de las matrices de peso\n",
    "        self.vector_size = []\n",
    "\n",
    "        # Capas ocultas de la red:\n",
    "        i = 0\n",
    "        for param in self.model.parameters():\n",
    "            i += 1\n",
    "            self.vector_size.append(param.size())\n",
    "\n",
    "        self.layers = i\n",
    "\n",
    "        for i in range(self.population_size):\n",
    "            chromosome = []\n",
    "            \n",
    "            for j in range(len(self.vector_size)):\n",
    "                layer = self.vector_size[j]\n",
    "                layer_size = layer[0]*layer[1]\n",
    "                # print(layer_size)\n",
    "                chromosome += random.standard_t(1, layer_size).tolist()\n",
    "                \n",
    "            self.elements.append(chromosome)\n",
    "        \n",
    "        self.elements = torch.tensor(self.elements)\n",
    "\n",
    "    def get_weights(self, element, elementos_lista):\n",
    "        '''\n",
    "        Función para obtener las matrices de pesos a partir de \n",
    "        un elemento de la población.\n",
    "        Tiene las mismas dimenciónes que los pesos para la red.\n",
    "        -------------------------------------------------------\n",
    "        :param element int: Número de elemento de la lista elementos_lista\n",
    "        :param elementos_lista [[float]]: Lista de cromosomas\n",
    "        \n",
    "        :returns M1, M2, M3 np.ndarray: Matrices correspondientes a cada capa\n",
    "                                    usando el vector de parámetro dado. \n",
    "        '''\n",
    "        \n",
    "        sample = elementos_lista[element]\n",
    "        Matrices = []\n",
    "        idx = 0\n",
    "\n",
    "        for layer_idx in range(self.layers):\n",
    "\n",
    "            matriz_size = self.vector_size[layer_idx]\n",
    "            matriz = np.array(sample[idx:idx+(matriz_size[0]*matriz_size[1])])\n",
    "            matriz.resize(matriz_size)\n",
    "            matriz = torch.tensor(matriz)\n",
    "            Matrices.append(matriz)\n",
    "            idx += matriz_size[0]*matriz_size[1]\n",
    "\n",
    "        return Matrices[0], Matrices[1], Matrices[2]\n",
    "    \n",
    "\n",
    "    def set_chromosome(self, w1, w2, w3, element):\n",
    "        '''\n",
    "        Función que dadas tres matrices que determinan los pesos de la red,\n",
    "        actualiza un elemento de la lista de cromosomas como vector de parámetro\n",
    "        generado por dichas matrices.\n",
    "        -------------------------------------------------------------------\n",
    "        :param w1 [[float]]: Pesos de la primera capa\n",
    "        :param w2 [[float]]: Pesos de la segunda capa\n",
    "        :param w3 [[float]]: Pesos de la última capa\n",
    "        :param element int: Elemento de la población a actualizar\n",
    "        '''\n",
    "        sample = []\n",
    "        matrices = [w1,w2,w3]\n",
    "        matrices_aux = matrices.copy()\n",
    "        \n",
    "        for i in range(len(matrices)):\n",
    "            matrices_aux[i].resize_([1,matrices[i].size()[0]\n",
    "                                     *matrices[i].size()[1]])\n",
    "            #print(matrices_aux[i].tolist())\n",
    "            sample += matrices_aux[i].tolist()[0]\n",
    "        #print(sample)\n",
    "        \n",
    "        self.elements[element] = torch.tensor(sample)\n",
    "\n",
    "    def fitness(self, X, Y, element, elementos_lista):\n",
    "        '''\n",
    "        Función que evalúa a un cromosoma según su desempeño y qué tan bien\n",
    "        acierta en predicción. Entre menor puntaje, menor error, por lo\n",
    "        cual será un cromosoma más apto y tendrá mas probabilidad de\n",
    "        reproducirse.\n",
    "        --------------------------------------------\n",
    "        :param X [float]: Matriz o Vector de neuronas de entrada\n",
    "        :param Y [float]: Matriz o Vector a predecir con la entrada X     \n",
    "        :param element int: Número de elemento de la lista elementos_lista\n",
    "        :param elementos_lista [[float]]: Lista de cromosomas\n",
    "        \n",
    "        returns float: Puntaje del cromosoma\n",
    "        '''\n",
    "        capa1 = self.model.fc1\n",
    "        capa2 = self.model.fc2\n",
    "        capa3 = self.model.fc3\n",
    "        \n",
    "        pesos = self.get_weights(element,elementos_lista)\n",
    "        \n",
    "        w1 = pesos[0]\n",
    "        w2 = pesos[1]\n",
    "        w3 = pesos[2]\n",
    "        #print('hola')\n",
    "        \n",
    "        with torch.no_grad():\n",
    "            capa1.weight = nn.Parameter(w1)\n",
    "            capa2.weight = nn.Parameter(w2)\n",
    "            capa3.weight = nn.Parameter(w3)\n",
    "        #print(capa1)\n",
    "        #print(self.model.fc1)\n",
    "        salida = self.model.forward(X)\n",
    "        loss = nn.MSELoss()\n",
    "        output = loss(salida, Y)\n",
    "        \n",
    "        return output\n",
    "\n",
    "    # Define las operaciónes que se usan en el experimento número 5 del artículo.\n",
    "    # Todas las definiciones de los operadores se encuentrán en la sección 5 del\n",
    "    # artículo.\n",
    "    \n",
    "    \n",
    "    def get_nodo(self,nodo,elemento):\n",
    "        '''\n",
    "        Función que dado un nodo (neurona), junto al número de elemento de la lista de\n",
    "        cromosomas, regresa el inicio y fin de aquellos indices del cromosoma que\n",
    "        corresponden a los pesos entrantes a esa neurona.\n",
    "        ---------------------------------------------------------------------\n",
    "        :param nodo int: Número que indica la neurona sobre la que se quiere\n",
    "                        extraer los indices de sus pesos entrantes dentro del\n",
    "                        cromosoma.\n",
    "        :param elemento int: Índice del elemento de la lista de cromosomas del\n",
    "                            objeto.\n",
    "        :returns inicio, fin [int]: Listas en donde cada entrada j, representa el\n",
    "                                    inicio y fin (respectivamente) de el peso \n",
    "                                    entrante j a la neurona.\n",
    "        '''\n",
    "        \n",
    "        neuronas = self.model.hidden1+self.model.hidden2+self.model.out_features\n",
    "        nodo_a_cambiar = 0\n",
    "        capa = 0\n",
    "        # puntero del lugar del nodo a cambiar\n",
    "        idx = 0\n",
    "        #iteración sobre los nodos de la capa actual\n",
    "        idx_nodo = 0\n",
    "\n",
    "        while(True):\n",
    "            \n",
    "            if nodo == nodo_a_cambiar:\n",
    "                break\n",
    "                \n",
    "            nodo_a_cambiar +=1\n",
    "            idx += self.vector_size[capa][1]            \n",
    "            idx_nodo += 1\n",
    "            \n",
    "            if idx_nodo%self.vector_size[capa][0] == 0 and capa<2:\n",
    "                capa +=1\n",
    "                idx_nodo=0\n",
    "        \n",
    "        \n",
    "        inicio = idx\n",
    "        #print(inicio, idx + self.vector_size[capa][0]+1)\n",
    "        fin = (idx + self.vector_size[capa][1])%len(self.elements[0])\n",
    "        \n",
    "        return inicio, fin\n",
    "    \n",
    "    \n",
    "    \n",
    "    def mutacion(self,n,elemento,elementos_lista, seed = 100):\n",
    "        '''\n",
    "        Función que mutará n nodos(pesos entrantes a una neurona) de un elemento\n",
    "        de la lista de cromosomas.\n",
    "        \n",
    "        '''\n",
    "        #entero aleatorio entre neuronas\n",
    "        neuronas = self.model.hidden1+self.model.hidden2+self.model.out_features\n",
    "        rn = np.random.RandomState(seed + np.random.randint(1,100))\n",
    "        random_nodes = rn.choice(range(neuronas),n,replace=False)\n",
    "        #print(random_nodes)\n",
    "\n",
    "        for nodo in random_nodes:\n",
    "            \n",
    "\n",
    "            inicio, fin =self.get_nodo(nodo,elemento)\n",
    "            #print(inicio,fin)\n",
    "            if nodo == neuronas-1:\n",
    "                row = elementos_lista[elemento][inicio:]\n",
    "            else:\n",
    "                row = elementos_lista[elemento][inicio:fin]\n",
    "            #print(row)\n",
    "            for param in row:\n",
    "                if (rn.random(1)[0]<1):\n",
    "                    param += float(random.normal(size=1))\n",
    "            \n",
    "        \n",
    "    def cross(self,parent1,parent2,elementos_lista, seed = 100):\n",
    "        '''\n",
    "        Función que representa la cruza entre dos cromosomas donde la\n",
    "        elección de parámetros que heredará será aleatoria.\n",
    "        ------------------------------------------------------\n",
    "        :param parent 1 int: Índice dentro de la lista de elementos\n",
    "                            que representa la posición del primer \n",
    "                            padre.\n",
    "        :param parent 2 int: Índice dentro de la lista de elementos\n",
    "                            que representa la posición del segundo \n",
    "                            padre.\n",
    "        :param elementos_lista [[float]]: Lista de cromosomas\n",
    "        \n",
    "        :returns child torch.tensor: Cromosoma hijo\n",
    "        '''\n",
    "        \n",
    "        neuronas = self.model.hidden1+self.model.hidden2+self.model.out_features\n",
    "        rn = np.random.RandomState(seed + np.random.randint(1,100))\n",
    "        n = rn.randint(0,neuronas)\n",
    "        # Lista de nodos que se heredarán del familiar1\n",
    "        random_nodes = np.random.choice(range(neuronas),n)\n",
    "        \n",
    "        child = []\n",
    "        \n",
    "        for i in range(neuronas):\n",
    "            \n",
    "            \n",
    "            if i in random_nodes:\n",
    "                inicio, fin =self.get_nodo(i,parent1)\n",
    "                #print(inicio,fin)\n",
    "                row = elementos_lista[parent1][inicio:fin]\n",
    "                child += row.tolist()\n",
    "            else:\n",
    "                inicio, fin =self.get_nodo(i,parent2)\n",
    "                #print(inicio,fin)\n",
    "                row = elementos_lista[parent2][inicio:fin]\n",
    "                child += row.tolist()\n",
    "                \n",
    "        if neuronas-1 in random_nodes:\n",
    "            inicio, fin =self.get_nodo(neuronas-1,parent1)\n",
    "            row = elementos_lista[parent1][inicio:]\n",
    "        else:\n",
    "            inicio, fin =self.get_nodo(neuronas-1,parent2)\n",
    "            row = elementos_lista[parent2][inicio:]\n",
    "            child += row.tolist()\n",
    "        \n",
    "        return torch.tensor(child)\n",
    "                \n",
    "    def iteracion_entrenamiento(self, idx, step, seed, elems_copy,new_gen_queue,p_cross,best_scores):\n",
    "        '''\n",
    "        Código del hijo\n",
    "        '''\n",
    "        rn =np.random.RandomState(((idx+seed)**(step+1)+7)%(2**32-1))\n",
    "        semilla = ((idx**2 + seed**7) + rn.randint(1,100))%(2**32-1)\n",
    "        rand_int = rn.random(1)[0]\n",
    "\n",
    "        if rand_int < self.operator_probabilities: #mutamos\n",
    "\n",
    "            parent_idx = rn.randint(0,self.population_size-1)\n",
    "            self.mutacion(2,parent_idx,elems_copy,semilla)\n",
    "            child = elems_copy[parent_idx]\n",
    "            #print(child)\n",
    "            new_gen_queue.put(child)\n",
    "\n",
    "        else: #Cruzamos\n",
    "            parent_idx = 0\n",
    "            parent2_idx = 0\n",
    "\n",
    "            while(parent_idx < self.population_size):\n",
    "                rand_int = rn.random(1)[0]\n",
    "                if rand_int < p_cross:\n",
    "                    break\n",
    "                parent_idx +=1\n",
    "\n",
    "\n",
    "            while(parent2_idx<self.population_size):\n",
    "                rand_int = rn.random(1)[0]\n",
    "                if (rand_int < p_cross) and (parent2_idx != parent_idx):\n",
    "                    break\n",
    "                parent2_idx +=1\n",
    "\n",
    "            child = self.cross(best_scores[parent_idx],best_scores[parent2_idx],elems_copy,semilla)\n",
    "            #print(child)\n",
    "            new_gen_queue.put(child)   \n",
    "            \n",
    "    def train_concurrente(self,X, y, steps=50,seed=100, update=False, in_place=True):\n",
    "        '''\n",
    "        Entrenamiento usando concurrencia.\n",
    "        Experimentalmente usar alrededor de 10 procesos\n",
    "        '''\n",
    "        elems_copy = self.elements.clone()\n",
    "        errors = []\n",
    "        for pasos in range(steps):\n",
    "            \n",
    "            #print('\\n',elems_copy)\n",
    "            best_scores = sorted(range(len(elems_copy)), key= lambda x: self.fitness(X,y,x,elems_copy))\n",
    "            best = best_scores[0]\n",
    "            if pasos%10 == 1:\n",
    "                errors.append(self.fitness(X,y,best,elems_copy))\n",
    "                if update:\n",
    "                    print(f'Paso {pasos}, errores: {errors[-1]}, peor score:{self.fitness(X,y,best_scores[-1],elems_copy)}')\n",
    "            p_cross = self.parent_scalar\n",
    "            \n",
    "            procesos = []\n",
    "            #mutex = Lock()\n",
    "            new_gen_queue = mp.Manager().Queue()\n",
    "            \n",
    "            # Concurrencia debe suceder aquí\n",
    "            for i in range(0,self.population_size):\n",
    "                proceso = Process(target=self.iteracion_entrenamiento, \n",
    "                                  args=(i, pasos, seed, elems_copy,new_gen_queue,p_cross,best_scores))\n",
    "                procesos.append(proceso)\n",
    "            for proceso in procesos:\n",
    "                proceso.start()\n",
    "            \n",
    "            new_gen = []\n",
    "            \n",
    "            for proceso in procesos:\n",
    "                proceso.join()\n",
    "            \n",
    "            while new_gen_queue.empty() is False:\n",
    "                elem = new_gen_queue.get()\n",
    "                new_gen.append(elem)\n",
    "                #print(elem)\n",
    "                \n",
    "            #print(elems_copy[0])\n",
    "            elems_copy = new_gen\n",
    "            #print(elems_copy[0])\n",
    "            \n",
    "            \n",
    "        if update: \n",
    "            plt.plot(errors)\n",
    "        new_elems = torch.zeros(len(self.elements),len(self.elements[0]))\n",
    "        \n",
    "        #for i in range(len(self.elements)):\n",
    "        #    new_elems[i] = elems_copy[i]\n",
    "        \n",
    "        if in_place:\n",
    "            self.elements = new_elems\n",
    "        return  new_elems\n",
    "        \n",
    "        \n",
    "    def train(self, X, y, steps=50):\n",
    "        '''\n",
    "        Función de entrenamiento. Realiza el número de pasos seleccionados y grafica el \n",
    "        error de entrenamiento.\n",
    "        \n",
    "        Define la función de entrenamiento, la cuál se realizará el número de pasos \n",
    "        seleccionados. Usa la variable de parent_scalar para determinar la probabilidad \n",
    "        de que un individuo de la población sea remplazado en cada iteración. Muestra \n",
    "        una gráfica del error al finalizar el entrenamiento. Y regresa una red con\n",
    "        los pesos del individuo con mejor fitness al finalizar el entrenamiento.\n",
    "        '''\n",
    "        elems_copy = self.elements.clone()\n",
    "        \n",
    "        errors = []\n",
    "        \n",
    "        for pasos in range(steps):\n",
    "            \n",
    "            new_gen =[]\n",
    "            \n",
    "            best_scores = sorted(range(len(elems_copy)), key= lambda x: self.fitness(X,y,x,elems_copy))\n",
    "            best = best_scores[0]\n",
    "            \n",
    "            \n",
    "            if pasos%10 == 1:\n",
    "                errors.append(self.fitness(X,y,best,elems_copy))\n",
    "                print(f'Paso {pasos}, errores: {errors[-1]}, peor score:{self.fitness(X,y,best_scores[-1],elems_copy)}')\n",
    "                \n",
    "                #print(parent2_idx)\n",
    "            \n",
    "            p_cross = self.parent_scalar\n",
    "            \n",
    "            \n",
    "            \n",
    "            # Concurrencia debe suceder aquí\n",
    "            for i in range(1,self.population_size):\n",
    "                rand_int = np.random.sample()\n",
    "                \n",
    "                if rand_int < self.operator_probabilities: #mutamos\n",
    "                    \n",
    "                    parent_idx = np.random.randint(0,self.population_size-1)\n",
    "                    #print(parent_idx)\n",
    "                    self.mutacion(2,parent_idx,elems_copy)\n",
    "                    child = elems_copy[parent_idx]\n",
    "                    new_gen.append(child)\n",
    "                    \n",
    "                    \n",
    "                else: #Cruzamos\n",
    "                    parent_idx = 0\n",
    "                    parent2_idx = 0\n",
    "                    \n",
    "                    while(parent_idx < self.population_size):\n",
    "                        rand_int = np.random.sample()\n",
    "                        if rand_int < p_cross:\n",
    "                            break\n",
    "                        parent_idx +=1\n",
    "                    \n",
    "                    \n",
    "                    while(parent2_idx<self.population_size):\n",
    "                        rand_int = np.random.sample()\n",
    "                        if (rand_int < p_cross) and (parent2_idx != parent_idx):\n",
    "                            break\n",
    "                        parent2_idx +=1\n",
    "                        \n",
    "                    child = self.cross(best_scores[parent_idx],best_scores[parent2_idx],elems_copy)\n",
    "                    new_gen.append(child)\n",
    "        \n",
    "        \n",
    "            \n",
    "        \n",
    "            elems_copy = new_gen\n",
    "            \n",
    "        plt.plot(errors)\n",
    "        self.elements = elems_copy\n",
    "        \n",
    "    def confusion(self, test_X, test_Y):\n",
    "        '''\n",
    "        Muestra la matriz de confusión que presenta los valores actuales de\n",
    "        la red, respecto al conjunto de datos que se decida usar.\n",
    "        '''\n",
    "        capa1 = self.model.fc1\n",
    "        capa2 = self.model.fc2        \n",
    "        capa3 = self.model.fc3\n",
    "        best_scores = sorted(range(len(self.elements)), key= lambda x: self.fitness(test_X,test_Y,x,self.elements))\n",
    "        element = best_scores[0]\n",
    "        pesos = self.get_weights(element,self.elements)\n",
    "\n",
    "        w1 = pesos[0]\n",
    "        w2 = pesos[1]\n",
    "        w3 = pesos[2]\n",
    "        #print('hola')\n",
    "\n",
    "        with torch.no_grad():\n",
    "            capa1.weight = nn.Parameter(w1)\n",
    "            capa2.weight = nn.Parameter(w2)\n",
    "            capa3.weight = nn.Parameter(w3)\n",
    "\n",
    "\n",
    "        y_pred = self.model.forward(test_X)\n",
    "        #print(y_pred[:20])\n",
    "        \n",
    "        labels = []\n",
    "        for salida in y_pred:\n",
    "            label = []\n",
    "            max_idx = max(salida)\n",
    "\n",
    "            for i in range(7):\n",
    "                if salida[i] == max_idx:\n",
    "                    label.append(1.)\n",
    "                else:\n",
    "                    label.append(0.)\n",
    "            labels.append(label)\n",
    "\n",
    "        VP = 0\n",
    "        VN = 0\n",
    "        FP = 0\n",
    "        FN = 0\n",
    "\n",
    "        for i in range(len(test_Y)):\n",
    "\n",
    "            if all(torch.tensor(labels[i])==test_Y[i]):\n",
    "                VP += 1\n",
    "                VN += 6\n",
    "            else:\n",
    "                FP += 1\n",
    "                FN += 1\n",
    "                VN += 5\n",
    "\n",
    "        print(\n",
    "        \"\"\"\n",
    "    VP ={:.<5}    FN={:.<5}\n",
    "    FP ={:.<5}    VN={:.<5}\n",
    "\n",
    "            \"\"\".format(VP,FN,FP,VN)) \n",
    "        "
   ]
  },
  {
   "cell_type": "code",
   "execution_count": 25,
   "metadata": {
    "ExecuteTime": {
     "end_time": "2021-01-21T19:18:33.935556Z",
     "start_time": "2021-01-21T19:18:33.932203Z"
    }
   },
   "outputs": [
    {
     "data": {
      "text/plain": [
       "(677566, 27)"
      ]
     },
     "execution_count": 25,
     "metadata": {},
     "output_type": "execute_result"
    }
   ],
   "source": [
    "X.shape"
   ]
  },
  {
   "cell_type": "code",
   "execution_count": 26,
   "metadata": {
    "ExecuteTime": {
     "end_time": "2021-01-21T19:18:33.941038Z",
     "start_time": "2021-01-21T19:18:33.938160Z"
    }
   },
   "outputs": [
    {
     "data": {
      "text/plain": [
       "(677566, 38)"
      ]
     },
     "execution_count": 26,
     "metadata": {},
     "output_type": "execute_result"
    }
   ],
   "source": [
    "Y.shape"
   ]
  },
  {
   "cell_type": "code",
   "execution_count": 27,
   "metadata": {
    "ExecuteTime": {
     "end_time": "2021-01-21T19:18:33.947600Z",
     "start_time": "2021-01-21T19:18:33.942118Z"
    }
   },
   "outputs": [],
   "source": [
    "Pass_net = Gen_net(27,30,40,38)"
   ]
  },
  {
   "cell_type": "code",
   "execution_count": 28,
   "metadata": {
    "ExecuteTime": {
     "end_time": "2021-01-21T19:18:34.130509Z",
     "start_time": "2021-01-21T19:18:33.949015Z"
    }
   },
   "outputs": [],
   "source": [
    "y_train = torch.tensor(y_train).type(torch.float)\n",
    "X_train = torch.tensor(X_train).type(torch.float)\n",
    "optimizer = optim.SGD(Pass_net.parameters(), lr=0.2, momentum=0.01)\n",
    "#Pass_net.train(X_train,y_train,optimizer,ciclos=10)"
   ]
  },
  {
   "cell_type": "code",
   "execution_count": 29,
   "metadata": {
    "ExecuteTime": {
     "end_time": "2021-01-21T19:18:34.154939Z",
     "start_time": "2021-01-21T19:18:34.141083Z"
    }
   },
   "outputs": [],
   "source": [
    "Pass_gen = Gen_train(Pass_net, 0.92, 0.3, 10)"
   ]
  },
  {
   "cell_type": "code",
   "execution_count": 30,
   "metadata": {
    "ExecuteTime": {
     "end_time": "2021-01-21T19:19:29.609178Z",
     "start_time": "2021-01-21T19:18:34.156828Z"
    }
   },
   "outputs": [
    {
     "name": "stdout",
     "output_type": "stream",
     "text": [
      "Paso 1, errores: 0.39011940360069275, peor score:0.637937068939209\n",
      "Paso 11, errores: 0.33255887031555176, peor score:0.3569916784763336\n",
      "Paso 21, errores: 0.29901930689811707, peor score:0.32852303981781006\n",
      "Paso 31, errores: 0.2826368510723114, peor score:0.28473004698753357\n",
      "Paso 41, errores: 0.27835381031036377, peor score:0.29203930497169495\n",
      "Paso 51, errores: 0.27599939703941345, peor score:0.2772599458694458\n",
      "Paso 61, errores: 0.2637977600097656, peor score:0.2867690920829773\n",
      "Paso 71, errores: 0.25910794734954834, peor score:0.28992247581481934\n",
      "Paso 81, errores: 0.25872474908828735, peor score:0.2716140151023865\n",
      "Paso 91, errores: 0.257782518863678, peor score:0.25955137610435486\n",
      "Paso 101, errores: 0.2461000680923462, peor score:0.2522173821926117\n",
      "Paso 111, errores: 0.24010606110095978, peor score:0.263488233089447\n",
      "Paso 121, errores: 0.22992826998233795, peor score:0.2497580498456955\n",
      "Paso 131, errores: 0.2275967299938202, peor score:0.24407324194908142\n",
      "Paso 141, errores: 0.2263183295726776, peor score:0.22927644848823547\n"
     ]
    },
    {
     "data": {
      "text/plain": [
       "tensor([[0., 0., 0.,  ..., 0., 0., 0.],\n",
       "        [0., 0., 0.,  ..., 0., 0., 0.],\n",
       "        [0., 0., 0.,  ..., 0., 0., 0.],\n",
       "        ...,\n",
       "        [0., 0., 0.,  ..., 0., 0., 0.],\n",
       "        [0., 0., 0.,  ..., 0., 0., 0.],\n",
       "        [0., 0., 0.,  ..., 0., 0., 0.]])"
      ]
     },
     "execution_count": 30,
     "metadata": {},
     "output_type": "execute_result"
    },
    {
     "data": {
      "image/png": "[encoded data removed]",
      "text/plain": [
       "<Figure size 432x288 with 1 Axes>"
      ]
     },
     "metadata": {
      "needs_background": "light"
     },
     "output_type": "display_data"
    }
   ],
   "source": [
    "Pass_gen.fitness(X_train,y_train,5,Pass_gen.elements)\n",
    "Pass_gen.train_concurrente(X_train[:500],y_train[:500],150,update=True,in_place=True)\n",
    "#print(Pass_gen.elements)"
   ]
  },
  {
   "cell_type": "code",
   "execution_count": 31,
   "metadata": {
    "ExecuteTime": {
     "end_time": "2021-01-21T19:19:29.622782Z",
     "start_time": "2021-01-21T19:19:29.610358Z"
    }
   },
   "outputs": [],
   "source": [
    "def mix(A,B):\n",
    "    shuf = np.random.choice(len(A), len(A), replace=False)\n",
    "    A = sorted(zip(shuf,A), key=lambda x:x[0])\n",
    "    B = sorted(zip(shuf,B), key=lambda x:x[0])\n",
    "    \n",
    "    return list(zip(*A))[1], list(zip(*B))[1]\n",
    "\n",
    "def entrenar_batch(model,X,y,mini,maxi,steps_in_batch,mutex):\n",
    "    print('Empezado')\n",
    "    #cromosoma = model.train_concurrente(X[mini:maxi],y[mini:maxi], steps_in_batch,update=False,in_place=False)\n",
    "    cromosoma = model.train(X[mini:maxi],y[mini:maxi], steps_in_batch)\n",
    "    print('Aquí')\n",
    "    mutex.acquire()\n",
    "    cromosoma_lista.append(cromosoma)\n",
    "    mutex.release()\n",
    "    print('Acá')\n",
    "\n",
    "def mini_batch_train(model, X,y,steps=100,steps_in_batch=10,n=500):\n",
    "    cromosoma_actual = Pass_gen.elements\n",
    "    \n",
    "    intervalos = [0]\n",
    "    i=n\n",
    "    while(i<len(X)):\n",
    "        intervalos.append(i)\n",
    "        i += n\n",
    "    intervalos.append(None)\n",
    "    errors = []\n",
    "    for i in range(steps):\n",
    "        \n",
    "        best_scores = sorted(range(len(cromosoma_actual)), \n",
    "                             key= lambda x: model.fitness(X,y,x,cromosoma_actual))\n",
    "        best = best_scores[0]       \n",
    "        \n",
    "        if steps%10 == 1:\n",
    "            errors.append(self.fitness(X,y,best,elems_copy))\n",
    "            print(f'Paso {pasos}, errores: {errors[-1]}, peor score:{self.fitness(X,y,best_scores[-1],elems_copy)}')\n",
    "        print(X)\n",
    "        X,y = mix(X,y)\n",
    "        new_elems1 = torch.zeros(len(X),len(X))\n",
    "        new_elems2 = torch.zeros(len(y),len(y))\n",
    "        for i in range(len(self.elements)):\n",
    "            new_elems1[i] = X[i]\n",
    "            new_elems2[i] = y[i]\n",
    "        X,y = new_elems1, new_elems2\n",
    "        cromosoma_lista = []\n",
    "        \n",
    "        for mini in range(len(intervalos)-1):\n",
    "            inicio = intervalos[mini]\n",
    "            fin = intervalos[mini+1]\n",
    "            new_genes = model.train_concurrente(X[inicio:fin],y[inicio:fin], steps_in_batch,update=False,in_place=False)\n",
    "            cromosoma_lista.append(new_genes)\n",
    "        \n",
    "        new_gen =  sum(cromosoma_lista)/len(cromosoma_lista)\n",
    "        Pass_gen.elements = new_gen\n",
    "    \n",
    "    plt.plot(errors)\n",
    "    \n",
    "#mini_batch_train(Pass_gen, X_train, y_train,steps_in_batch=5,n=5000)"
   ]
  },
  {
   "cell_type": "code",
   "execution_count": 32,
   "metadata": {
    "ExecuteTime": {
     "end_time": "2021-01-21T19:19:39.556830Z",
     "start_time": "2021-01-21T19:19:29.624432Z"
    }
   },
   "outputs": [
    {
     "name": "stdout",
     "output_type": "stream",
     "text": [
      "Paso 1, errores: 0.25, peor score:0.25\n",
      "Paso 11, errores: 0.22460222244262695, peor score:0.24245405197143555\n",
      "Paso 21, errores: 0.2154916673898697, peor score:0.2182053029537201\n",
      "Paso 31, errores: 0.20201365649700165, peor score:0.2312188297510147\n",
      "Paso 41, errores: 0.19684025645256042, peor score:0.20436802506446838\n",
      "Paso 51, errores: 0.18277689814567566, peor score:0.25321057438850403\n",
      "Paso 61, errores: 0.17474420368671417, peor score:0.1904282122850418\n",
      "Paso 71, errores: 0.16045896708965302, peor score:0.19836308062076569\n",
      "Paso 81, errores: 0.15402880311012268, peor score:0.1702226847410202\n",
      "Paso 91, errores: 0.14109843969345093, peor score:0.14412888884544373\n"
     ]
    },
    {
     "data": {
      "image/png": "[encoded data removed]",
      "text/plain": [
       "<Figure size 432x288 with 1 Axes>"
      ]
     },
     "metadata": {
      "needs_background": "light"
     },
     "output_type": "display_data"
    }
   ],
   "source": [
    "Pass_gen.train(X_train[:5000],y_train[:5000],100)"
   ]
  },
  {
   "cell_type": "code",
   "execution_count": 33,
   "metadata": {
    "ExecuteTime": {
     "end_time": "2021-01-21T19:19:39.567665Z",
     "start_time": "2021-01-21T19:19:39.558622Z"
    }
   },
   "outputs": [
    {
     "data": {
      "text/plain": [
       "tensor([[0., 0., 0.,  ..., 0., 0., 0.],\n",
       "        [0., 0., 0.,  ..., 0., 0., 0.],\n",
       "        [0., 0., 0.,  ..., 0., 0., 0.],\n",
       "        ...,\n",
       "        [0., 0., 0.,  ..., 0., 0., 0.],\n",
       "        [0., 0., 0.,  ..., 0., 0., 0.],\n",
       "        [0., 0., 0.,  ..., 0., 0., 0.]])"
      ]
     },
     "execution_count": 33,
     "metadata": {},
     "output_type": "execute_result"
    }
   ],
   "source": [
    "new_elem = torch.zeros(len(Pass_gen.elements),len(Pass_gen.elements[0]))\n",
    "for i in range(len(Pass_gen.elements)):\n",
    "    new_elem[i] = Pass_gen.elements[i]\n",
    "new_elem"
   ]
  },
  {
   "cell_type": "code",
   "execution_count": 34,
   "metadata": {
    "ExecuteTime": {
     "end_time": "2021-01-21T19:19:39.574815Z",
     "start_time": "2021-01-21T19:19:39.570276Z"
    }
   },
   "outputs": [
    {
     "data": {
      "text/plain": [
       "95"
      ]
     },
     "execution_count": 34,
     "metadata": {},
     "output_type": "execute_result"
    }
   ],
   "source": [
    "np.random.randint(1,100)"
   ]
  },
  {
   "cell_type": "code",
   "execution_count": 35,
   "metadata": {
    "ExecuteTime": {
     "end_time": "2021-01-21T19:19:40.079915Z",
     "start_time": "2021-01-21T19:19:39.576608Z"
    }
   },
   "outputs": [
    {
     "ename": "NameError",
     "evalue": "name 'shuf' is not defined",
     "output_type": "error",
     "traceback": [
      "\u001b[0;31m---------------------------------------------------------------------------\u001b[0m",
      "\u001b[0;31mNameError\u001b[0m                                 Traceback (most recent call last)",
      "\u001b[0;32m<ipython-input-35-f858d4509258>\u001b[0m in \u001b[0;36m<module>\u001b[0;34m\u001b[0m\n\u001b[1;32m      2\u001b[0m \u001b[0mB\u001b[0m \u001b[0;34m=\u001b[0m \u001b[0;34m[\u001b[0m\u001b[0;36m6\u001b[0m\u001b[0;34m,\u001b[0m\u001b[0;36m7\u001b[0m\u001b[0;34m,\u001b[0m\u001b[0;36m8\u001b[0m\u001b[0;34m,\u001b[0m\u001b[0;36m9\u001b[0m\u001b[0;34m,\u001b[0m\u001b[0;36m10\u001b[0m\u001b[0;34m]\u001b[0m\u001b[0;34m\u001b[0m\u001b[0;34m\u001b[0m\u001b[0m\n\u001b[1;32m      3\u001b[0m \u001b[0;34m\u001b[0m\u001b[0m\n\u001b[0;32m----> 4\u001b[0;31m \u001b[0mprint\u001b[0m\u001b[0;34m(\u001b[0m\u001b[0mshuf\u001b[0m\u001b[0;34m)\u001b[0m\u001b[0;34m\u001b[0m\u001b[0;34m\u001b[0m\u001b[0m\n\u001b[0m\u001b[1;32m      5\u001b[0m \u001b[0;32mdef\u001b[0m \u001b[0mmix\u001b[0m\u001b[0;34m(\u001b[0m\u001b[0mA\u001b[0m\u001b[0;34m,\u001b[0m\u001b[0mB\u001b[0m\u001b[0;34m)\u001b[0m\u001b[0;34m:\u001b[0m\u001b[0;34m\u001b[0m\u001b[0;34m\u001b[0m\u001b[0m\n\u001b[1;32m      6\u001b[0m     \u001b[0mshuf\u001b[0m \u001b[0;34m=\u001b[0m \u001b[0mnp\u001b[0m\u001b[0;34m.\u001b[0m\u001b[0mrandom\u001b[0m\u001b[0;34m.\u001b[0m\u001b[0mchoice\u001b[0m\u001b[0;34m(\u001b[0m\u001b[0mlen\u001b[0m\u001b[0;34m(\u001b[0m\u001b[0mA\u001b[0m\u001b[0;34m)\u001b[0m\u001b[0;34m,\u001b[0m \u001b[0mlen\u001b[0m\u001b[0;34m(\u001b[0m\u001b[0mA\u001b[0m\u001b[0;34m)\u001b[0m\u001b[0;34m,\u001b[0m \u001b[0mreplace\u001b[0m\u001b[0;34m=\u001b[0m\u001b[0;32mFalse\u001b[0m\u001b[0;34m)\u001b[0m\u001b[0;34m\u001b[0m\u001b[0;34m\u001b[0m\u001b[0m\n",
      "\u001b[0;31mNameError\u001b[0m: name 'shuf' is not defined"
     ]
    }
   ],
   "source": [
    "A = ['a','b','c','d','e']\n",
    "B = [6,7,8,9,10]\n",
    "\n",
    "print(shuf)\n",
    "def mix(A,B):\n",
    "    shuf = np.random.choice(len(A), len(A), replace=False)\n",
    "    A = sorted(zip(shuf,A), key=lambda x:x[0])\n",
    "    B = sorted(zip(shuf,B), key=lambda x:x[0])\n",
    "    \n",
    "    return list(zip(*A))[1], list(zip(*B))[1]\n",
    "mix(A,B)\n",
    "print(A,B)"
   ]
  }
 ],
 "metadata": {
  "hide_input": false,
  "kernelspec": {
   "display_name": "Python 3",
   "language": "python",
   "name": "python3"
  },
  "language_info": {
   "codemirror_mode": {
    "name": "ipython",
    "version": 3
   },
   "file_extension": ".py",
   "mimetype": "text/x-python",
   "name": "python",
   "nbconvert_exporter": "python",
   "pygments_lexer": "ipython3",
   "version": "3.8.3"
  },
  "varInspector": {
   "cols": {
    "lenName": 16,
    "lenType": 16,
    "lenVar": 40
   },
   "kernels_config": {
    "python": {
     "delete_cmd_postfix": "",
     "delete_cmd_prefix": "del ",
     "library": "var_list.py",
     "varRefreshCmd": "print(var_dic_list())"
    },
    "r": {
     "delete_cmd_postfix": ") ",
     "delete_cmd_prefix": "rm(",
     "library": "var_list.r",
     "varRefreshCmd": "cat(var_dic_list()) "
    }
   },
   "types_to_exclude": [
    "module",
    "function",
    "builtin_function_or_method",
    "instance",
    "_Feature"
   ],
   "window_display": false
  }
 },
 "nbformat": 4,
 "nbformat_minor": 4
}
